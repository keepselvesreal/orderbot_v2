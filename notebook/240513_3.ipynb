{
 "cells": [
  {
   "cell_type": "code",
   "execution_count": 1,
   "metadata": {},
   "outputs": [],
   "source": [
    "from langchain_core.tools import BaseTool\n",
    "\n",
    "class GetRecentOrdersByStatus(BaseTool):\n",
    "    name = \"Get Recent Orders by Status\"\n",
    "    description = \"Retrieve a list of recent orders with the specified status.\"\n",
    "\n",
    "    def _run(self, status, limit=10):\n",
    "        # Simulating database access with a static message\n",
    "        return f\"Retrieving recent orders with status '{status}' up to {limit} records.\"\n",
    "\n",
    "class CreateOrder(BaseTool):\n",
    "    name = \"Create Order\"\n",
    "    description = \"Place an order for a product with the specified quantity.\"\n",
    "\n",
    "    def _run(self, user, product, quantity):\n",
    "        # Simulating order creation logic\n",
    "        return f\"Order placed for {quantity} {product.product_name}(s). Order completed.\"\n",
    "\n",
    "class ModifyOrder(BaseTool):\n",
    "    name = \"Modify Order\"\n",
    "    description = \"Modify an existing order to a new quantity.\"\n",
    "\n",
    "    def _run(self, order, new_quantity):\n",
    "        # Simulating order modification logic\n",
    "        return f\"Order {order.id} modified to {new_quantity}. Order modification completed.\"\n",
    "\n",
    "class CancelOrder(BaseTool):\n",
    "    name = \"Cancel Order\"\n",
    "    description = \"Cancel an existing order.\"\n",
    "\n",
    "    def _run(self, order):\n",
    "        # Simulating order cancellation logic\n",
    "        return f\"Order {order.id} canceled. Order cancellation completed.\"\n",
    "\n",
    "tools = [GetRecentOrdersByStatus(), CreateOrder(), ModifyOrder(), CancelOrder()]\n"
   ]
  },
  {
   "cell_type": "code",
   "execution_count": 11,
   "metadata": {},
   "outputs": [],
   "source": [
    "from langchain_core.prompts import ChatPromptTemplate, MessagesPlaceholder\n",
    "\n",
    "prompt = ChatPromptTemplate.from_messages(\n",
    "    [\n",
    "        (\n",
    "            \"system\",\n",
    "            \"\"\"\n",
    "            너는 주문봇이야.\n",
    "            사용자 입력에 대해 친절하게 답변해줘.\n",
    "            사용자 입력에서 도구 호출에 필요한 인자를 모두 추출할 수 있을 때만 도구를 사용해야 해.\n",
    "            모르는 내용을 너의 마음대로 지어내서는 절대로 안 돼. 모르는 내용은 모르겠다고 답해. \n",
    "            \"\"\"\n",
    "        ),\n",
    "        MessagesPlaceholder(variable_name=\"chat_history\"),\n",
    "        (\"human\", \"{input}\"),\n",
    "    ]\n",
    ")"
   ]
  },
  {
   "cell_type": "code",
   "execution_count": 7,
   "metadata": {},
   "outputs": [
    {
     "data": {
      "text/plain": [
       "InMemoryChatMessageHistory(messages=[])"
      ]
     },
     "execution_count": 7,
     "metadata": {},
     "output_type": "execute_result"
    }
   ],
   "source": [
    "from langchain_community.chat_message_histories import ChatMessageHistory\n",
    "\n",
    "memory = ChatMessageHistory(session_id=\"test-session\")\n",
    "memory"
   ]
  },
  {
   "cell_type": "code",
   "execution_count": 14,
   "metadata": {},
   "outputs": [],
   "source": [
    "from langchain_openai import ChatOpenAI\n",
    "\n",
    "model = ChatOpenAI(model=\"gpt-3.5-turbo\")"
   ]
  },
  {
   "cell_type": "code",
   "execution_count": null,
   "metadata": {},
   "outputs": [],
   "source": [
    "from langgraph.prebuilt import chat_agent_executor\n",
    "\n",
    "agent_executor = chat_agent_executor.create_tool_calling_executor(model, tools)"
   ]
  }
 ],
 "metadata": {
  "kernelspec": {
   "display_name": "venv",
   "language": "python",
   "name": "python3"
  },
  "language_info": {
   "codemirror_mode": {
    "name": "ipython",
    "version": 3
   },
   "file_extension": ".py",
   "mimetype": "text/x-python",
   "name": "python",
   "nbconvert_exporter": "python",
   "pygments_lexer": "ipython3",
   "version": "3.10.5"
  }
 },
 "nbformat": 4,
 "nbformat_minor": 2
}
