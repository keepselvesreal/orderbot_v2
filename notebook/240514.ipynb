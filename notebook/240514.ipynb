{
 "cells": [
  {
   "cell_type": "code",
   "execution_count": 1,
   "metadata": {},
   "outputs": [],
   "source": [
    "from langchain_core.tools import tool\n",
    "\n",
    "@tool\n",
    "def get_recent_orders_by_status(status, limit=10):\n",
    "    \"\"\"\n",
    "    Retrieve a list of recent orders with the specified status.\n",
    "\n",
    "    Args:\n",
    "        status (str): The status of the orders to retrieve.\n",
    "        limit (int): The maximum number of orders to retrieve (default is 10).\n",
    "\n",
    "    Returns:\n",
    "        str: A message confirming the function's execution.\n",
    "    \"\"\"\n",
    "    # 여기서는 실제 데이터베이스에 접근하지 않고, 함수 동작 여부만 확인할 수 있도록\n",
    "    # 단순한 문자열 메시지를 반환합니다.\n",
    "    return f\"Retrieving recent orders with status '{status}' up to {limit} records.\"\n",
    "\n",
    "@tool\n",
    "def create_order(user, product, quantity):\n",
    "    \"\"\"\n",
    "    Place an order for a product with the specified quantity.\n",
    "\n",
    "    Args:\n",
    "        user (User): The user placing the order.\n",
    "        product (Product): The product to order.\n",
    "        quantity (int): The quantity of the product to order.\n",
    "\n",
    "    Returns:\n",
    "        str: A message confirming that the order has been placed.\n",
    "    \"\"\"\n",
    "    # 여기에 주문을 처리하는 로직을 추가하세요.\n",
    "    return f\"Order placed for {quantity} {product.product_name}(s). Order completed.\"\n",
    "\n",
    "@tool\n",
    "def modify_order(order, new_quantity):\n",
    "    \"\"\"\n",
    "    Modify an existing order to a new quantity.\n",
    "\n",
    "    Args:\n",
    "        order (Order): The order to modify.\n",
    "        new_quantity (int): The new quantity for the order.\n",
    "\n",
    "    Returns:\n",
    "        str: A message confirming that the order has been modified.\n",
    "    \"\"\"\n",
    "    # 여기에 주문 변경을 처리하는 로직을 추가하세요.\n",
    "    return f\"Order {order.id} modified to {new_quantity}. Order modification completed.\"\n",
    "\n",
    "@tool\n",
    "def cancel_order(order):\n",
    "    \"\"\"\n",
    "    Cancel an existing order.\n",
    "\n",
    "    Args:\n",
    "        order (Order): The order to cancel.\n",
    "\n",
    "    Returns:\n",
    "        str: A message confirming that the order has been canceled.\n",
    "    \"\"\"\n",
    "    # 여기에 주문 취소를 처리하는 로직을 추가하세요.\n",
    "    return f\"Order {order.id} canceled. Order cancellation completed.\""
   ]
  },
  {
   "cell_type": "code",
   "execution_count": 2,
   "metadata": {},
   "outputs": [
    {
     "data": {
      "text/plain": [
       "[StructuredTool(name='get_recent_orders_by_status', description=\"get_recent_orders_by_status(status, limit=10) - Retrieve a list of recent orders with the specified status.\\n\\nArgs:\\n    status (str): The status of the orders to retrieve.\\n    limit (int): The maximum number of orders to retrieve (default is 10).\\n\\nReturns:\\n    str: A message confirming the function's execution.\", args_schema=<class 'pydantic.v1.main.get_recent_orders_by_statusSchema'>, func=<function get_recent_orders_by_status at 0x0000023DD4EFAC20>),\n",
       " StructuredTool(name='create_order', description='create_order(user, product, quantity) - Place an order for a product with the specified quantity.\\n\\nArgs:\\n    user (User): The user placing the order.\\n    product (Product): The product to order.\\n    quantity (int): The quantity of the product to order.\\n\\nReturns:\\n    str: A message confirming that the order has been placed.', args_schema=<class 'pydantic.v1.main.create_orderSchema'>, func=<function create_order at 0x0000023DD4F997E0>),\n",
       " StructuredTool(name='modify_order', description='modify_order(order, new_quantity) - Modify an existing order to a new quantity.\\n\\nArgs:\\n    order (Order): The order to modify.\\n    new_quantity (int): The new quantity for the order.\\n\\nReturns:\\n    str: A message confirming that the order has been modified.', args_schema=<class 'pydantic.v1.main.modify_orderSchema'>, func=<function modify_order at 0x0000023DD6BCACB0>),\n",
       " StructuredTool(name='cancel_order', description='cancel_order(order) - Cancel an existing order.\\n\\nArgs:\\n    order (Order): The order to cancel.\\n\\nReturns:\\n    str: A message confirming that the order has been canceled.', args_schema=<class 'pydantic.v1.main.cancel_orderSchema'>, func=<function cancel_order at 0x0000023DD6BCAE60>)]"
      ]
     },
     "execution_count": 2,
     "metadata": {},
     "output_type": "execute_result"
    }
   ],
   "source": [
    "tools = [get_recent_orders_by_status, create_order, modify_order, cancel_order]\n",
    "tools"
   ]
  },
  {
   "cell_type": "code",
   "execution_count": 10,
   "metadata": {},
   "outputs": [],
   "source": [
    "from langchain_openai import ChatOpenAI\n",
    "\n",
    "model = ChatOpenAI(temperature=0)\n",
    "model_with_tools = model.bind_tools(tools)"
   ]
  },
  {
   "cell_type": "code",
   "execution_count": 17,
   "metadata": {},
   "outputs": [],
   "source": [
    "from langgraph.graph import END, MessageGraph\n",
    "\n",
    "builder = MessageGraph()\n",
    "builder.add_node(\"handle_order\", model_with_tools)"
   ]
  },
  {
   "cell_type": "code",
   "execution_count": 18,
   "metadata": {},
   "outputs": [],
   "source": [
    "from langgraph.prebuilt import ToolNode\n",
    "\n",
    "tool_node = ToolNode(tools)\n",
    "builder.add_node(\"order_tools\", tool_node)"
   ]
  },
  {
   "cell_type": "code",
   "execution_count": 19,
   "metadata": {},
   "outputs": [],
   "source": [
    "builder.add_edge(\"order_tools\", END)"
   ]
  },
  {
   "cell_type": "code",
   "execution_count": 20,
   "metadata": {},
   "outputs": [],
   "source": [
    "builder.set_entry_point(\"handle_order\")"
   ]
  },
  {
   "cell_type": "code",
   "execution_count": 21,
   "metadata": {},
   "outputs": [],
   "source": [
    "from typing import Literal, List\n",
    "from langchain_core.messages import BaseMessage\n",
    "\n",
    "def router(state: List[BaseMessage]) -> Literal[\"order_tools\", \"__end__\"]:\n",
    "    tool_calls = state[-1].additional_kwargs.get(\"tool_calls\", [])\n",
    "    if len(tool_calls):\n",
    "        return \"order_tools\"\n",
    "    else:\n",
    "        return \"__end__\"\n",
    "\n",
    "builder.add_conditional_edges(\"handle_order\", router)"
   ]
  },
  {
   "cell_type": "code",
   "execution_count": 22,
   "metadata": {},
   "outputs": [
    {
     "data": {
      "text/plain": [
       "CompiledStateGraph(nodes={'__start__': PregelNode(config={'tags': ['langsmith:hidden']}, channels=['__start__'], triggers=['__start__'], writers=[ChannelWrite<__root__>(recurse=True, writes=[ChannelWriteEntry(channel='__root__', value=<object object at 0x0000023DD511B2F0>, skip_none=True, mapper=None)]), ChannelWrite<start:handle_order>(recurse=True, writes=[ChannelWriteEntry(channel='start:handle_order', value='__start__', skip_none=False, mapper=None)])]), 'handle_order': PregelNode(config={'tags': []}, channels=['__root__'], triggers=['start:handle_order'], writers=[ChannelWrite<handle_order,__root__>(recurse=True, writes=[ChannelWriteEntry(channel='handle_order', value='handle_order', skip_none=False, mapper=None), ChannelWriteEntry(channel='__root__', value=<object object at 0x0000023DD511B2F0>, skip_none=True, mapper=None)]), _route(recurse=True, _is_channel_writer=True)]), 'order_tools': PregelNode(config={'tags': []}, channels=['__root__'], triggers=['branch:handle_order:router:order_tools'], writers=[ChannelWrite<order_tools,__root__>(recurse=True, writes=[ChannelWriteEntry(channel='order_tools', value='order_tools', skip_none=False, mapper=None), ChannelWriteEntry(channel='__root__', value=<object object at 0x0000023DD511B2F0>, skip_none=True, mapper=None)])])}, channels={'__root__': <langgraph.channels.binop.BinaryOperatorAggregate object at 0x0000023DD7A3F3D0>, '__start__': <langgraph.channels.ephemeral_value.EphemeralValue object at 0x0000023DD7718F40>, 'handle_order': <langgraph.channels.ephemeral_value.EphemeralValue object at 0x0000023DD7718220>, 'order_tools': <langgraph.channels.ephemeral_value.EphemeralValue object at 0x0000023DD77183A0>, 'start:handle_order': <langgraph.channels.ephemeral_value.EphemeralValue object at 0x0000023DD7718D90>, 'branch:handle_order:router:order_tools': <langgraph.channels.ephemeral_value.EphemeralValue object at 0x0000023DD77182E0>}, auto_validate=False, stream_mode='updates', output_channels='__root__', stream_channels='__root__', input_channels='__start__', builder=<langgraph.graph.message.MessageGraph object at 0x0000023DD7A5BC70>)"
      ]
     },
     "execution_count": 22,
     "metadata": {},
     "output_type": "execute_result"
    }
   ],
   "source": [
    "runnable = builder.compile()\n",
    "runnable"
   ]
  },
  {
   "cell_type": "code",
   "execution_count": 23,
   "metadata": {},
   "outputs": [
    {
     "data": {
      "text/plain": [
       "[HumanMessage(content=\"나는 '나들'이라고 해\", id='03c55723-7ed5-42bd-a2b4-006031d4e002'),\n",
       " AIMessage(content=\"안녕하세요, '나들'님! 무엇을 도와드릴까요?\", response_metadata={'token_usage': {'completion_tokens': 29, 'prompt_tokens': 370, 'total_tokens': 399}, 'model_name': 'gpt-3.5-turbo', 'system_fingerprint': None, 'finish_reason': 'stop', 'logprobs': None}, id='run-982c5c36-af90-40a5-a102-db3351191a12-0')]"
      ]
     },
     "execution_count": 23,
     "metadata": {},
     "output_type": "execute_result"
    }
   ],
   "source": [
    "from langchain_core.messages import HumanMessage\n",
    "\n",
    "response = runnable.invoke(HumanMessage(\"나는 '나들'이라고 해\"))\n",
    "response\n"
   ]
  },
  {
   "cell_type": "code",
   "execution_count": 24,
   "metadata": {},
   "outputs": [
    {
     "data": {
      "text/plain": [
       "[HumanMessage(content=\"주문 상태가 '주문 완료'인 주문 내역을 알고 싶어\", id='01c7646b-28fd-4be2-834d-2054c5f8cabd'),\n",
       " AIMessage(content='', additional_kwargs={'tool_calls': [{'id': 'call_bvYrftFX4XlKWwscEihjSYBC', 'function': {'arguments': '{\"status\":\"주문 완료\"}', 'name': 'get_recent_orders_by_status'}, 'type': 'function'}]}, response_metadata={'token_usage': {'completion_tokens': 21, 'prompt_tokens': 385, 'total_tokens': 406}, 'model_name': 'gpt-3.5-turbo', 'system_fingerprint': None, 'finish_reason': 'tool_calls', 'logprobs': None}, id='run-9efb900c-40c8-49c0-bcaf-9f26400f413f-0', tool_calls=[{'name': 'get_recent_orders_by_status', 'args': {'status': '주문 완료'}, 'id': 'call_bvYrftFX4XlKWwscEihjSYBC'}]),\n",
       " ToolMessage(content=\"Retrieving recent orders with status '주문 완료' up to 10 records.\", name='get_recent_orders_by_status', id='235a5f63-3021-4029-887e-7161a370f2bd', tool_call_id='call_bvYrftFX4XlKWwscEihjSYBC')]"
      ]
     },
     "execution_count": 24,
     "metadata": {},
     "output_type": "execute_result"
    }
   ],
   "source": [
    "response = runnable.invoke(HumanMessage(\"주문 상태가 '주문 완료'인 주문 내역을 알고 싶어\"))\n",
    "response"
   ]
  },
  {
   "cell_type": "code",
   "execution_count": 26,
   "metadata": {},
   "outputs": [
    {
     "data": {
      "text/plain": [
       "[HumanMessage(content='떡케익 3개 주문할래요', id='74dc2e26-3eaf-4d8c-b8cb-501d01298702'),\n",
       " AIMessage(content='', additional_kwargs={'tool_calls': [{'id': 'call_lT8RDxYsHYgkFxS8grRjaOFe', 'function': {'arguments': '{\"status\":\"pending\"}', 'name': 'get_recent_orders_by_status'}, 'type': 'function'}]}, response_metadata={'token_usage': {'completion_tokens': 17, 'prompt_tokens': 376, 'total_tokens': 393}, 'model_name': 'gpt-3.5-turbo', 'system_fingerprint': None, 'finish_reason': 'tool_calls', 'logprobs': None}, id='run-aebd3c10-1052-4029-907e-d0939d7aef7a-0', tool_calls=[{'name': 'get_recent_orders_by_status', 'args': {'status': 'pending'}, 'id': 'call_lT8RDxYsHYgkFxS8grRjaOFe'}]),\n",
       " ToolMessage(content=\"Retrieving recent orders with status 'pending' up to 10 records.\", name='get_recent_orders_by_status', id='a9236dcf-bc08-462c-9e95-05575f20911c', tool_call_id='call_lT8RDxYsHYgkFxS8grRjaOFe')]"
      ]
     },
     "execution_count": 26,
     "metadata": {},
     "output_type": "execute_result"
    }
   ],
   "source": [
    "response = runnable.invoke(HumanMessage(\"떡케익 3개 주문할래요\"))\n",
    "response"
   ]
  },
  {
   "cell_type": "code",
   "execution_count": 27,
   "metadata": {},
   "outputs": [
    {
     "data": {
      "text/plain": [
       "[HumanMessage(content='주문을 변경하고 싶어', id='1fd1dca2-d949-4608-97a4-fdbbac5d9b23'),\n",
       " AIMessage(content='주문을 변경하고 싶으신가요? 주문을 변경하려면 어떤 주문을 수정하고 싶으신지 알려주세요. 주문 번호나 다른 식별자를 제공해주시면 주문을 수정할 수 있습니다.', additional_kwargs={'tool_calls': [{'id': 'call_YfD7iKrTDvZoXA0OxenkA1Br', 'function': {'arguments': '{\"status\":\"pending\",\"limit\":5}', 'name': 'get_recent_orders_by_status'}, 'type': 'function'}]}, response_metadata={'token_usage': {'completion_tokens': 93, 'prompt_tokens': 369, 'total_tokens': 462}, 'model_name': 'gpt-3.5-turbo', 'system_fingerprint': None, 'finish_reason': 'tool_calls', 'logprobs': None}, id='run-b56aadf6-fccb-4b1b-afbb-dce1a5d21c5c-0', tool_calls=[{'name': 'get_recent_orders_by_status', 'args': {'status': 'pending', 'limit': 5}, 'id': 'call_YfD7iKrTDvZoXA0OxenkA1Br'}]),\n",
       " ToolMessage(content=\"Retrieving recent orders with status 'pending' up to 5 records.\", name='get_recent_orders_by_status', id='287fe229-2929-48ce-8727-c12bd3a26e0d', tool_call_id='call_YfD7iKrTDvZoXA0OxenkA1Br')]"
      ]
     },
     "execution_count": 27,
     "metadata": {},
     "output_type": "execute_result"
    }
   ],
   "source": [
    "response = runnable.invoke(HumanMessage(\"주문을 변경하고 싶어\"))\n",
    "response"
   ]
  },
  {
   "cell_type": "code",
   "execution_count": 29,
   "metadata": {},
   "outputs": [
    {
     "data": {
      "text/plain": [
       "[HumanMessage(content='주문 번호3의 주문을 취소하고 싶어', id='92168dd9-cd46-4f36-91f0-69a926299683'),\n",
       " AIMessage(content='', additional_kwargs={'tool_calls': [{'id': 'call_8GSFtAwoHNwH7C2tEw49KKSR', 'function': {'arguments': '{\"status\":\"pending\",\"limit\":1}', 'name': 'get_recent_orders_by_status'}, 'type': 'function'}]}, response_metadata={'token_usage': {'completion_tokens': 21, 'prompt_tokens': 377, 'total_tokens': 398}, 'model_name': 'gpt-3.5-turbo', 'system_fingerprint': None, 'finish_reason': 'tool_calls', 'logprobs': None}, id='run-2bfa0ccb-6813-4d68-bde9-8dae228ef3d9-0', tool_calls=[{'name': 'get_recent_orders_by_status', 'args': {'status': 'pending', 'limit': 1}, 'id': 'call_8GSFtAwoHNwH7C2tEw49KKSR'}]),\n",
       " ToolMessage(content=\"Retrieving recent orders with status 'pending' up to 1 records.\", name='get_recent_orders_by_status', id='3b9e8fe1-74e8-4245-bea3-0bcf1750f812', tool_call_id='call_8GSFtAwoHNwH7C2tEw49KKSR')]"
      ]
     },
     "execution_count": 29,
     "metadata": {},
     "output_type": "execute_result"
    }
   ],
   "source": [
    "response = runnable.invoke(HumanMessage(\"주문 번호3의 주문을 취소하고 싶어\"))\n",
    "response"
   ]
  }
 ],
 "metadata": {
  "kernelspec": {
   "display_name": "venv",
   "language": "python",
   "name": "python3"
  },
  "language_info": {
   "codemirror_mode": {
    "name": "ipython",
    "version": 3
   },
   "file_extension": ".py",
   "mimetype": "text/x-python",
   "name": "python",
   "nbconvert_exporter": "python",
   "pygments_lexer": "ipython3",
   "version": "3.10.5"
  }
 },
 "nbformat": 4,
 "nbformat_minor": 2
}
