{
 "cells": [
  {
   "cell_type": "markdown",
   "metadata": {},
   "source": [
    "# router testor"
   ]
  },
  {
   "cell_type": "code",
   "execution_count": 46,
   "metadata": {},
   "outputs": [],
   "source": [
    "from langchain_openai import ChatOpenAI\n",
    "\n",
    "llm = ChatOpenAI()"
   ]
  },
  {
   "cell_type": "code",
   "execution_count": 47,
   "metadata": {},
   "outputs": [],
   "source": [
    "from langchain_core.pydantic_v1 import BaseModel, Field\n",
    "\n",
    "class ToPresentProductList(BaseModel):\n",
    "    \"\"\"Transfers work to a specialized assistant to present product list\"\"\"\n",
    "\n",
    "    task_to_request: str = Field(description=\"상품 목록을 제시하는 전문가에게 요청하는 작업\")\n",
    "    evaluation_for_choice: str = Field(description=\"ToPresentProductList 도구 사용에 대한 평가. 적절하면 good, 적절하지 않으면 bad로 평가.\")\n",
    "    rationale_for_evaluation: str = Field(description=\"도구 사용 평가에 대한 근거\")"
   ]
  },
  {
   "cell_type": "code",
   "execution_count": 48,
   "metadata": {},
   "outputs": [],
   "source": [
    "from langchain_core.prompts import ChatPromptTemplate, MessagesPlaceholder\n",
    "\n",
    "routing_criteria = \"\"\"\n",
    "    이전 대화에서 판매 중인 상품 목록을 제시했는지 확인해.\n",
    "    만약 판매중인 상품 목록을 제시하지 않았다면 ToPresentProductList를 사용해\n",
    "    고객이 주문할 품목을 말했다면 TodOrderRequestConfirmation를 사용해.\n",
    "    고객이 주문을 진행하려는 내용에 동의했다면 create_order를 사용해.\n",
    "    \"\"\"\n",
    "\n",
    "order_create_router_prompt = ChatPromptTemplate.from_messages(\n",
    "    [\n",
    "        (\n",
    "            \"system\",\n",
    "            \"\"\"\n",
    "            너는 주문을 생성하는 유능한 주문봇이야.\n",
    "            적절한 도구를 사용해 고객의 요청을 처리해.\n",
    "            고객이 응답이 필요할 때는 도구를 사용하지 말고 고객에게 응답을 부탁해.\n",
    "\n",
    "            {routing_criteria}\n",
    "\n",
    "            user_id: {user_info},\n",
    "            input_message: {input_message}\n",
    "            \"\"\",\n",
    "        ),\n",
    "        MessagesPlaceholder(variable_name=\"messages\"),\n",
    "    ]\n",
    ").partial(routing_criteria=routing_criteria)\n",
    "\n",
    "tools = [ToPresentProductList]\n",
    "order_create_router_runnable = order_create_router_prompt | llm.bind_tools(tools)"
   ]
  },
  {
   "cell_type": "code",
   "execution_count": 49,
   "metadata": {},
   "outputs": [
    {
     "data": {
      "text/plain": [
       "(AIMessage(content='', additional_kwargs={'tool_calls': [{'id': 'call_ggiGjJ0OszaOnkk8a1dMgm1w', 'function': {'arguments': '{\"task_to_request\":\"제품 목록을 제시해주세요.\",\"evaluation_for_choice\":\"good\",\"rationale_for_evaluation\":\"주문을 진행하기 전에 고객에게 제품 목록을 보여주어 선택할 수 있도록 도와야 합니다.\"}', 'name': 'ToPresentProductList'}, 'type': 'function'}]}, response_metadata={'token_usage': {'completion_tokens': 82, 'prompt_tokens': 375, 'total_tokens': 457}, 'model_name': 'gpt-3.5-turbo', 'system_fingerprint': None, 'finish_reason': 'tool_calls', 'logprobs': None}, id='run-e8d26f40-4b24-47e4-82e0-7c6524bc3524-0', tool_calls=[{'name': 'ToPresentProductList', 'args': {'task_to_request': '제품 목록을 제시해주세요.', 'evaluation_for_choice': 'good', 'rationale_for_evaluation': '주문을 진행하기 전에 고객에게 제품 목록을 보여주어 선택할 수 있도록 도와야 합니다.'}, 'id': 'call_ggiGjJ0OszaOnkk8a1dMgm1w'}]),)"
      ]
     },
     "execution_count": 49,
     "metadata": {},
     "output_type": "execute_result"
    }
   ],
   "source": [
    "\n",
    "input_message = \"주문할게요\"\n",
    "user_info = \"1\"\n",
    "messages = []\n",
    "\n",
    "output = order_create_router_runnable.invoke({\"input_message\": input_message,\n",
    "                                              \"user_info\": user_info,\n",
    "                                              \"messages\": messages,\n",
    "                                              }),\n",
    "\n",
    "output"
   ]
  },
  {
   "cell_type": "code",
   "execution_count": 50,
   "metadata": {},
   "outputs": [
    {
     "data": {
      "text/plain": [
       "[{'name': 'ToPresentProductList',\n",
       "  'args': {'task_to_request': '제품 목록을 제시해주세요.',\n",
       "   'evaluation_for_choice': 'good',\n",
       "   'rationale_for_evaluation': '주문을 진행하기 전에 고객에게 제품 목록을 보여주어 선택할 수 있도록 도와야 합니다.'},\n",
       "  'id': 'call_ggiGjJ0OszaOnkk8a1dMgm1w'}]"
      ]
     },
     "execution_count": 50,
     "metadata": {},
     "output_type": "execute_result"
    }
   ],
   "source": [
    "output[0].tool_calls"
   ]
  },
  {
   "cell_type": "code",
   "execution_count": 51,
   "metadata": {},
   "outputs": [
    {
     "data": {
      "text/plain": [
       "(AIMessage(content='', additional_kwargs={'tool_calls': [{'id': 'call_aiXVnw900yvys0H60EX3oxHn', 'function': {'arguments': '{\"task_to_request\":\"제품 목록을 제시해주세요.\",\"evaluation_for_choice\":\"good\",\"rationale_for_evaluation\":\"상품 목록을 제공하여 고객이 주문을 진행할 수 있도록 도와줄 수 있습니다.\"}', 'name': 'ToPresentProductList'}, 'type': 'function'}]}, response_metadata={'token_usage': {'completion_tokens': 78, 'prompt_tokens': 386, 'total_tokens': 464}, 'model_name': 'gpt-3.5-turbo', 'system_fingerprint': None, 'finish_reason': 'tool_calls', 'logprobs': None}, id='run-fb065fdf-3b08-44c2-bbe0-654d27f3384e-0', tool_calls=[{'name': 'ToPresentProductList', 'args': {'task_to_request': '제품 목록을 제시해주세요.', 'evaluation_for_choice': 'good', 'rationale_for_evaluation': '상품 목록을 제공하여 고객이 주문을 진행할 수 있도록 도와줄 수 있습니다.'}, 'id': 'call_aiXVnw900yvys0H60EX3oxHn'}]),)"
      ]
     },
     "execution_count": 51,
     "metadata": {},
     "output_type": "execute_result"
    }
   ],
   "source": [
    "\n",
    "input_message = \"떡케익 2개 주문할게요\"\n",
    "user_info = \"1\"\n",
    "messages = []\n",
    "\n",
    "output = order_create_router_runnable.invoke({\"input_message\": input_message,\n",
    "                                              \"user_info\": user_info,\n",
    "                                              \"messages\": messages,\n",
    "                                              }),\n",
    "\n",
    "output"
   ]
  },
  {
   "cell_type": "code",
   "execution_count": 52,
   "metadata": {},
   "outputs": [
    {
     "data": {
      "text/plain": [
       "[{'name': 'ToPresentProductList',\n",
       "  'args': {'task_to_request': '제품 목록을 제시해주세요.',\n",
       "   'evaluation_for_choice': 'good',\n",
       "   'rationale_for_evaluation': '상품 목록을 제공하여 고객이 주문을 진행할 수 있도록 도와줄 수 있습니다.'},\n",
       "  'id': 'call_aiXVnw900yvys0H60EX3oxHn'}]"
      ]
     },
     "execution_count": 52,
     "metadata": {},
     "output_type": "execute_result"
    }
   ],
   "source": [
    "output[0].tool_calls"
   ]
  },
  {
   "cell_type": "code",
   "execution_count": 53,
   "metadata": {},
   "outputs": [],
   "source": [
    "product_list = [\n",
    "    {\n",
    "        \"product_name\": \"떡케익5호\",\n",
    "        \"quantity\": 1,\n",
    "        \"price\": 54000\n",
    "    },\n",
    "    {\n",
    "        \"product_name\": \"무지개 백설기 케익\",\n",
    "        \"quantity\": 1,\n",
    "        \"price\": 51500\n",
    "    },\n",
    "    {\n",
    "        \"product_name\": \"미니 백설기\",\n",
    "        \"quantity\": 35,\n",
    "        \"price\": 31500\n",
    "    },\n",
    "    {\n",
    "        \"product_name\": \"개별 모듬팩\",\n",
    "        \"quantity\": 1,\n",
    "        \"price\": 13500\n",
    "    }\n",
    "]"
   ]
  },
  {
   "cell_type": "code",
   "execution_count": 54,
   "metadata": {},
   "outputs": [
    {
     "name": "stdout",
     "output_type": "stream",
     "text": [
      "Exception: Error code: 400 - {'error': {'message': \"Missing required parameter: 'messages[2].content[0].type'.\", 'type': 'invalid_request_error', 'param': 'messages[2].content[0].type', 'code': 'missing_required_parameter'}}\n"
     ]
    }
   ],
   "source": [
    "from langchain_core.messages import HumanMessage, AIMessage\n",
    "\n",
    "input_message = \"떡케익 2개 주문할게요\"\n",
    "user_info = \"1\"\n",
    "messages = [\n",
    "    HumanMessage(content=\"주문할게요\"), \n",
    "    AIMessage(content=product_list)\n",
    "    ]\n",
    "\n",
    "try:\n",
    "    output = order_create_router_runnable.invoke({\n",
    "        \"input_message\": input_message,\n",
    "        \"user_info\": user_info,\n",
    "        \"messages\": messages,\n",
    "    })\n",
    "    print(output)\n",
    "except Exception as e: \n",
    "    print(f\"Exception: {e}\")"
   ]
  },
  {
   "cell_type": "code",
   "execution_count": 55,
   "metadata": {},
   "outputs": [
    {
     "name": "stdout",
     "output_type": "stream",
     "text": [
      "Exception: Error code: 400 - {'error': {'message': \"Missing required parameter: 'messages[2].content[0].type'.\", 'type': 'invalid_request_error', 'param': 'messages[2].content[0].type', 'code': 'missing_required_parameter'}}\n"
     ]
    }
   ],
   "source": [
    "from langchain_core.messages import HumanMessage, AIMessage\n",
    "\n",
    "input_message = \"떡케익 2개 주문할게요\"\n",
    "user_info = \"1\"\n",
    "messages = [\n",
    "    HumanMessage(content=\"주문할게요\"), \n",
    "    AIMessage(content=product_list)\n",
    "    ]\n",
    "\n",
    "try:\n",
    "    output = order_create_router_runnable.invoke({\n",
    "        \"input_message\": HumanMessage(content=input_message),\n",
    "        \"user_info\": user_info,\n",
    "        \"messages\": messages,\n",
    "    })\n",
    "    print(output)\n",
    "except Exception as e: \n",
    "    print(f\"Exception: {e}\")"
   ]
  },
  {
   "cell_type": "code",
   "execution_count": 56,
   "metadata": {},
   "outputs": [
    {
     "name": "stdout",
     "output_type": "stream",
     "text": [
      "[SystemMessage(content='\\n            너는 주문을 생성하는 유능한 주문봇이야.\\n            적절한 도구를 사용해 고객의 요청을 처리해.\\n            고객이 응답이 필요할 때는 도구를 사용하지 말고 고객에게 응답을 부탁해.\\n\\n            \\n    이전 대화에서 판매 중인 상품 목록을 제시했는지 확인해.\\n    만약 판매중인 상품 목록을 제시하지 않았다면 ToPresentProductList를 사용해\\n    고객이 주문할 품목을 말했다면 TodOrderRequestConfirmation를 사용해.\\n    고객이 주문을 진행하려는 내용에 동의했다면 create_order를 사용해.\\n    \\n\\n            user_id: 1,\\n            input_message: 떡케익 2개 주문할게요\\n            '), HumanMessage(content='주문할게요'), AIMessage(content=[{'product_name': '떡케익5호', 'quantity': 1, 'price': 54000}, {'product_name': '무지개 백설기 케익', 'quantity': 1, 'price': 51500}, {'product_name': '미니 백설기', 'quantity': 35, 'price': 31500}, {'product_name': '개별 모듬팩', 'quantity': 1, 'price': 13500}])]\n"
     ]
    }
   ],
   "source": [
    "input_message = \"떡케익 2개 주문할게요\"\n",
    "user_info = \"1\"\n",
    "messages = [\n",
    "    HumanMessage(content=\"주문할게요\"), \n",
    "    AIMessage(content=product_list)\n",
    "    ]\n",
    "\n",
    "\n",
    "compiled_prompt = order_create_router_prompt.invoke({\n",
    "        \"input_message\": input_message,\n",
    "        \"user_info\": user_info,\n",
    "        \"messages\": messages,\n",
    "    })\n",
    "print(compiled_prompt.messages)"
   ]
  },
  {
   "cell_type": "code",
   "execution_count": 57,
   "metadata": {},
   "outputs": [
    {
     "name": "stdout",
     "output_type": "stream",
     "text": [
      "Exception: Unsupported message type: <class 'list'>\n"
     ]
    }
   ],
   "source": [
    "input_message = \"떡케익 2개 주문할게요\"\n",
    "user_info = \"1\"\n",
    "messages = [\n",
    "    \"주문할게요\", \n",
    "    product_list\n",
    "    ]\n",
    "\n",
    "\n",
    "try:\n",
    "    output = order_create_router_runnable.invoke({\n",
    "        \"input_message\": input_message,\n",
    "        \"user_info\": user_info,\n",
    "        \"messages\": messages,\n",
    "    })\n",
    "    print(output)\n",
    "except Exception as e: \n",
    "    print(f\"Exception: {e}\")"
   ]
  },
  {
   "cell_type": "code",
   "execution_count": 58,
   "metadata": {},
   "outputs": [
    {
     "ename": "ValidationError",
     "evalue": "4 validation errors for BaseMessage\ncontent\n  str type expected (type=type_error.str)\ncontent -> 1\n  str type expected (type=type_error.str)\ncontent -> 1\n  value is not a valid dict (type=type_error.dict)\ntype\n  field required (type=value_error.missing)",
     "output_type": "error",
     "traceback": [
      "\u001b[1;31m---------------------------------------------------------------------------\u001b[0m",
      "\u001b[1;31mValidationError\u001b[0m                           Traceback (most recent call last)",
      "Cell \u001b[1;32mIn[58], line 10\u001b[0m\n\u001b[0;32m      5\u001b[0m user_info \u001b[38;5;241m=\u001b[39m \u001b[38;5;124m\"\u001b[39m\u001b[38;5;124m1\u001b[39m\u001b[38;5;124m\"\u001b[39m\n\u001b[0;32m      6\u001b[0m messages \u001b[38;5;241m=\u001b[39m [\n\u001b[0;32m      7\u001b[0m     \u001b[38;5;124m\"\u001b[39m\u001b[38;5;124m주문할게요\u001b[39m\u001b[38;5;124m\"\u001b[39m, \n\u001b[0;32m      8\u001b[0m     product_list\n\u001b[0;32m      9\u001b[0m     ]\n\u001b[1;32m---> 10\u001b[0m message \u001b[38;5;241m=\u001b[39m \u001b[43mBaseMessage\u001b[49m\u001b[43m(\u001b[49m\u001b[43mmessages\u001b[49m\u001b[43m)\u001b[49m\n\u001b[0;32m     13\u001b[0m \u001b[38;5;28;01mtry\u001b[39;00m:\n\u001b[0;32m     14\u001b[0m     output \u001b[38;5;241m=\u001b[39m order_create_router_runnable\u001b[38;5;241m.\u001b[39minvoke({\n\u001b[0;32m     15\u001b[0m         \u001b[38;5;124m\"\u001b[39m\u001b[38;5;124minput_message\u001b[39m\u001b[38;5;124m\"\u001b[39m: input_message,\n\u001b[0;32m     16\u001b[0m         \u001b[38;5;124m\"\u001b[39m\u001b[38;5;124muser_info\u001b[39m\u001b[38;5;124m\"\u001b[39m: user_info,\n\u001b[0;32m     17\u001b[0m         \u001b[38;5;124m\"\u001b[39m\u001b[38;5;124mmessages\u001b[39m\u001b[38;5;124m\"\u001b[39m: messages,\n\u001b[0;32m     18\u001b[0m     })\n",
      "File \u001b[1;32mc:\\Users\\Tae-su\\Grow\\Repositories\\orderbot_v2\\venv\\lib\\site-packages\\langchain_core\\messages\\base.py:47\u001b[0m, in \u001b[0;36mBaseMessage.__init__\u001b[1;34m(self, content, **kwargs)\u001b[0m\n\u001b[0;32m     43\u001b[0m \u001b[38;5;28;01mdef\u001b[39;00m \u001b[38;5;21m__init__\u001b[39m(\n\u001b[0;32m     44\u001b[0m     \u001b[38;5;28mself\u001b[39m, content: Union[\u001b[38;5;28mstr\u001b[39m, List[Union[\u001b[38;5;28mstr\u001b[39m, Dict]]], \u001b[38;5;241m*\u001b[39m\u001b[38;5;241m*\u001b[39mkwargs: Any\n\u001b[0;32m     45\u001b[0m ) \u001b[38;5;241m-\u001b[39m\u001b[38;5;241m>\u001b[39m \u001b[38;5;28;01mNone\u001b[39;00m:\n\u001b[0;32m     46\u001b[0m \u001b[38;5;250m    \u001b[39m\u001b[38;5;124;03m\"\"\"Pass in content as positional arg.\"\"\"\u001b[39;00m\n\u001b[1;32m---> 47\u001b[0m     \u001b[38;5;28msuper\u001b[39m()\u001b[38;5;241m.\u001b[39m\u001b[38;5;21m__init__\u001b[39m(content\u001b[38;5;241m=\u001b[39mcontent, \u001b[38;5;241m*\u001b[39m\u001b[38;5;241m*\u001b[39mkwargs)\n",
      "File \u001b[1;32mc:\\Users\\Tae-su\\Grow\\Repositories\\orderbot_v2\\venv\\lib\\site-packages\\pydantic\\v1\\main.py:341\u001b[0m, in \u001b[0;36mBaseModel.__init__\u001b[1;34m(__pydantic_self__, **data)\u001b[0m\n\u001b[0;32m    339\u001b[0m values, fields_set, validation_error \u001b[38;5;241m=\u001b[39m validate_model(__pydantic_self__\u001b[38;5;241m.\u001b[39m\u001b[38;5;18m__class__\u001b[39m, data)\n\u001b[0;32m    340\u001b[0m \u001b[38;5;28;01mif\u001b[39;00m validation_error:\n\u001b[1;32m--> 341\u001b[0m     \u001b[38;5;28;01mraise\u001b[39;00m validation_error\n\u001b[0;32m    342\u001b[0m \u001b[38;5;28;01mtry\u001b[39;00m:\n\u001b[0;32m    343\u001b[0m     object_setattr(__pydantic_self__, \u001b[38;5;124m'\u001b[39m\u001b[38;5;124m__dict__\u001b[39m\u001b[38;5;124m'\u001b[39m, values)\n",
      "\u001b[1;31mValidationError\u001b[0m: 4 validation errors for BaseMessage\ncontent\n  str type expected (type=type_error.str)\ncontent -> 1\n  str type expected (type=type_error.str)\ncontent -> 1\n  value is not a valid dict (type=type_error.dict)\ntype\n  field required (type=value_error.missing)"
     ]
    }
   ],
   "source": [
    "from langchain_core.messages import BaseMessage\n",
    "\n",
    "\n",
    "input_message = \"떡케익 2개 주문할게요\"\n",
    "user_info = \"1\"\n",
    "messages = [\n",
    "    \"주문할게요\", \n",
    "    product_list\n",
    "    ]\n",
    "message = BaseMessage(messages)\n",
    "\n",
    "\n",
    "try:\n",
    "    output = order_create_router_runnable.invoke({\n",
    "        \"input_message\": input_message,\n",
    "        \"user_info\": user_info,\n",
    "        \"messages\": messages,\n",
    "    })\n",
    "    print(output)\n",
    "except Exception as e: \n",
    "    print(f\"Exception: {e}\")"
   ]
  },
  {
   "cell_type": "code",
   "execution_count": null,
   "metadata": {},
   "outputs": [
    {
     "name": "stdout",
     "output_type": "stream",
     "text": [
      "Exception: Error code: 400 - {'error': {'message': \"Missing required parameter: 'messages[2].content[0].type'.\", 'type': 'invalid_request_error', 'param': 'messages[2].content[0].type', 'code': 'missing_required_parameter'}}\n"
     ]
    }
   ],
   "source": [
    "from langchain_core.messages import HumanMessage, AIMessage, SystemMessage\n",
    "\n",
    "input_message = \"떡케익 2개 주문할게요\"\n",
    "user_info = \"1\"\n",
    "messages = [\n",
    "    HumanMessage(content=\"주문할게요\", type=\"human\"), \n",
    "    AIMessage(content=product_list, type=\"ai\"),\n",
    "]\n",
    "\n",
    "try:\n",
    "    output = order_create_router_runnable.invoke({\n",
    "        \"input_message\": HumanMessage(content=input_message, type=\"human\"),\n",
    "        \"user_info\": user_info,\n",
    "        \"messages\": messages,\n",
    "    })\n",
    "    print(output)\n",
    "except Exception as e: \n",
    "    print(f\"Exception: {e}\")"
   ]
  },
  {
   "cell_type": "markdown",
   "metadata": {},
   "source": [
    "messages 리스트에 하나만 메시지 담기니 괜찮네?"
   ]
  },
  {
   "cell_type": "code",
   "execution_count": null,
   "metadata": {},
   "outputs": [
    {
     "name": "stdout",
     "output_type": "stream",
     "text": [
      "content='' additional_kwargs={'tool_calls': [{'id': 'call_DA7MVc1jDNuDIjoOSv8UBDlx', 'function': {'arguments': '{\"task_to_request\":\"제품 목록을 제시해주세요.\",\"evaluation_for_choice\":\"good\",\"rationale_for_evaluation\":\"고객이 주문을 원했고, 상품 목록을 제시하여 주문을 진행할 수 있도록 도와야 합니다.\"}', 'name': 'ToPresentProductList'}, 'type': 'function'}]} response_metadata={'token_usage': {'completion_tokens': 85, 'prompt_tokens': 374, 'total_tokens': 459}, 'model_name': 'gpt-3.5-turbo', 'system_fingerprint': None, 'finish_reason': 'tool_calls', 'logprobs': None} id='run-bad8eefe-7753-4e94-b47a-0fc029659004-0' tool_calls=[{'name': 'ToPresentProductList', 'args': {'task_to_request': '제품 목록을 제시해주세요.', 'evaluation_for_choice': 'good', 'rationale_for_evaluation': '고객이 주문을 원했고, 상품 목록을 제시하여 주문을 진행할 수 있도록 도와야 합니다.'}, 'id': 'call_DA7MVc1jDNuDIjoOSv8UBDlx'}]\n"
     ]
    }
   ],
   "source": [
    "from langchain_core.messages import HumanMessage, AIMessage\n",
    "\n",
    "\n",
    "input_message = \"떡케익 2개 주문할게요\"\n",
    "user_info = \"1\"\n",
    "messages = [\n",
    "    HumanMessage(content=\"주문할게요\"), \n",
    "    ]\n",
    "\n",
    "\n",
    "try:\n",
    "    output = order_create_router_runnable.invoke({\n",
    "        \"input_message\": input_message,\n",
    "        \"user_info\": user_info,\n",
    "        \"messages\": messages,\n",
    "    })\n",
    "    print(output)\n",
    "except Exception as e: \n",
    "    print(f\"Exception: {e}\")"
   ]
  },
  {
   "cell_type": "markdown",
   "metadata": {},
   "source": [
    "이건 또 바로 AIMessage를 뱉네? 위에는 튜플에 감싸져 있었는데"
   ]
  },
  {
   "cell_type": "code",
   "execution_count": null,
   "metadata": {},
   "outputs": [
    {
     "ename": "TypeError",
     "evalue": "'AIMessage' object is not subscriptable",
     "output_type": "error",
     "traceback": [
      "\u001b[1;31m---------------------------------------------------------------------------\u001b[0m",
      "\u001b[1;31mTypeError\u001b[0m                                 Traceback (most recent call last)",
      "Cell \u001b[1;32mIn[34], line 1\u001b[0m\n\u001b[1;32m----> 1\u001b[0m \u001b[43moutput\u001b[49m\u001b[43m[\u001b[49m\u001b[38;5;241;43m0\u001b[39;49m\u001b[43m]\u001b[49m\u001b[38;5;241m.\u001b[39mtool_calls\n",
      "\u001b[1;31mTypeError\u001b[0m: 'AIMessage' object is not subscriptable"
     ]
    }
   ],
   "source": [
    "output[0].tool_calls"
   ]
  },
  {
   "cell_type": "code",
   "execution_count": null,
   "metadata": {},
   "outputs": [
    {
     "data": {
      "text/plain": [
       "[{'name': 'ToPresentProductList',\n",
       "  'args': {'task_to_request': '제품 목록을 제시해주세요.',\n",
       "   'evaluation_for_choice': 'good',\n",
       "   'rationale_for_evaluation': '고객이 주문을 원했고, 상품 목록을 제시하여 주문을 진행할 수 있도록 도와야 합니다.'},\n",
       "  'id': 'call_DA7MVc1jDNuDIjoOSv8UBDlx'}]"
      ]
     },
     "execution_count": 35,
     "metadata": {},
     "output_type": "execute_result"
    }
   ],
   "source": [
    "output.tool_calls"
   ]
  },
  {
   "cell_type": "markdown",
   "metadata": {},
   "source": [
    "product_list 때문이었음"
   ]
  },
  {
   "cell_type": "code",
   "execution_count": null,
   "metadata": {},
   "outputs": [
    {
     "name": "stdout",
     "output_type": "stream",
     "text": [
      "content='' additional_kwargs={'tool_calls': [{'id': 'call_17jXoVATLj1HzuysCWqbp3Ss', 'function': {'arguments': '{\"task_to_request\":\"판매 중인 상품 목록을 제시해주세요.\",\"evaluation_for_choice\":\"good\",\"rationale_for_evaluation\":\"고객이 주문할 상품을 선택하기 위해 상품 목록이 필요합니다.\"}', 'name': 'ToPresentProductList'}, 'type': 'function'}]} response_metadata={'token_usage': {'completion_tokens': 75, 'prompt_tokens': 374, 'total_tokens': 449}, 'model_name': 'gpt-3.5-turbo', 'system_fingerprint': None, 'finish_reason': 'tool_calls', 'logprobs': None} id='run-fcb1b9d8-0adb-440b-8502-493629ddd684-0' tool_calls=[{'name': 'ToPresentProductList', 'args': {'task_to_request': '판매 중인 상품 목록을 제시해주세요.', 'evaluation_for_choice': 'good', 'rationale_for_evaluation': '고객이 주문할 상품을 선택하기 위해 상품 목록이 필요합니다.'}, 'id': 'call_17jXoVATLj1HzuysCWqbp3Ss'}]\n"
     ]
    }
   ],
   "source": [
    "from langchain_core.messages import HumanMessage, AIMessage\n",
    "\n",
    "\n",
    "input_message = \"떡케익 2개 주문할게요\"\n",
    "user_info = \"1\"\n",
    "messages = [\n",
    "    AIMessage(content=\"안녕하세요\"),\n",
    "    ]\n",
    "\n",
    "\n",
    "try:\n",
    "    output = order_create_router_runnable.invoke({\n",
    "        \"input_message\": input_message,\n",
    "        \"user_info\": user_info,\n",
    "        \"messages\": messages,\n",
    "    })\n",
    "    print(output)\n",
    "except Exception as e: \n",
    "    print(f\"Exception: {e}\")"
   ]
  },
  {
   "cell_type": "code",
   "execution_count": null,
   "metadata": {},
   "outputs": [
    {
     "data": {
      "text/plain": [
       "[{'name': 'ToPresentProductList',\n",
       "  'args': {'task_to_request': '판매 중인 상품 목록을 제시해주세요.',\n",
       "   'evaluation_for_choice': 'good',\n",
       "   'rationale_for_evaluation': '고객이 주문할 상품을 선택하기 위해 상품 목록이 필요합니다.'},\n",
       "  'id': 'call_17jXoVATLj1HzuysCWqbp3Ss'}]"
      ]
     },
     "execution_count": 38,
     "metadata": {},
     "output_type": "execute_result"
    }
   ],
   "source": [
    "output.tool_calls"
   ]
  },
  {
   "cell_type": "code",
   "execution_count": null,
   "metadata": {},
   "outputs": [
    {
     "data": {
      "text/plain": [
       "[{'product_name': '떡케익5호', 'quantity': 1, 'price': 54000},\n",
       " {'product_name': '무지개 백설기 케익', 'quantity': 1, 'price': 51500},\n",
       " {'product_name': '미니 백설기', 'quantity': 35, 'price': 31500},\n",
       " {'product_name': '개별 모듬팩', 'quantity': 1, 'price': 13500}]"
      ]
     },
     "execution_count": 39,
     "metadata": {},
     "output_type": "execute_result"
    }
   ],
   "source": [
    "product_list"
   ]
  },
  {
   "cell_type": "code",
   "execution_count": null,
   "metadata": {},
   "outputs": [
    {
     "data": {
      "text/plain": [
       "{'product_name': '떡케익5호', 'quantity': 1, 'price': 54000}"
      ]
     },
     "execution_count": 40,
     "metadata": {},
     "output_type": "execute_result"
    }
   ],
   "source": [
    "product_list"
   ]
  },
  {
   "cell_type": "markdown",
   "metadata": {},
   "source": [
    "아 문자열이 아닌 가령 리스트나 딕셔너리 형태라 그런 듯"
   ]
  },
  {
   "cell_type": "code",
   "execution_count": null,
   "metadata": {},
   "outputs": [
    {
     "ename": "ValidationError",
     "evalue": "2 validation errors for AIMessage\ncontent\n  str type expected (type=type_error.str)\ncontent\n  value is not a valid list (type=type_error.list)",
     "output_type": "error",
     "traceback": [
      "\u001b[1;31m---------------------------------------------------------------------------\u001b[0m",
      "\u001b[1;31mValidationError\u001b[0m                           Traceback (most recent call last)",
      "Cell \u001b[1;32mIn[41], line 7\u001b[0m\n\u001b[0;32m      4\u001b[0m input_message \u001b[38;5;241m=\u001b[39m \u001b[38;5;124m\"\u001b[39m\u001b[38;5;124m떡케익 2개 주문할게요\u001b[39m\u001b[38;5;124m\"\u001b[39m\n\u001b[0;32m      5\u001b[0m user_info \u001b[38;5;241m=\u001b[39m \u001b[38;5;124m\"\u001b[39m\u001b[38;5;124m1\u001b[39m\u001b[38;5;124m\"\u001b[39m\n\u001b[0;32m      6\u001b[0m messages \u001b[38;5;241m=\u001b[39m [\n\u001b[1;32m----> 7\u001b[0m     \u001b[43mAIMessage\u001b[49m\u001b[43m(\u001b[49m\u001b[43mcontent\u001b[49m\u001b[38;5;241;43m=\u001b[39;49m\u001b[43mproduct_list\u001b[49m\u001b[43m[\u001b[49m\u001b[38;5;241;43m0\u001b[39;49m\u001b[43m]\u001b[49m\u001b[43m)\u001b[49m,\n\u001b[0;32m      8\u001b[0m     ]\n\u001b[0;32m     11\u001b[0m \u001b[38;5;28;01mtry\u001b[39;00m:\n\u001b[0;32m     12\u001b[0m     output \u001b[38;5;241m=\u001b[39m order_create_router_runnable\u001b[38;5;241m.\u001b[39minvoke({\n\u001b[0;32m     13\u001b[0m         \u001b[38;5;124m\"\u001b[39m\u001b[38;5;124minput_message\u001b[39m\u001b[38;5;124m\"\u001b[39m: input_message,\n\u001b[0;32m     14\u001b[0m         \u001b[38;5;124m\"\u001b[39m\u001b[38;5;124muser_info\u001b[39m\u001b[38;5;124m\"\u001b[39m: user_info,\n\u001b[0;32m     15\u001b[0m         \u001b[38;5;124m\"\u001b[39m\u001b[38;5;124mmessages\u001b[39m\u001b[38;5;124m\"\u001b[39m: messages,\n\u001b[0;32m     16\u001b[0m     })\n",
      "File \u001b[1;32mc:\\Users\\Tae-su\\Grow\\Repositories\\orderbot_v2\\venv\\lib\\site-packages\\langchain_core\\messages\\ai.py:63\u001b[0m, in \u001b[0;36mAIMessage.__init__\u001b[1;34m(self, content, **kwargs)\u001b[0m\n\u001b[0;32m     59\u001b[0m \u001b[38;5;28;01mdef\u001b[39;00m \u001b[38;5;21m__init__\u001b[39m(\n\u001b[0;32m     60\u001b[0m     \u001b[38;5;28mself\u001b[39m, content: Union[\u001b[38;5;28mstr\u001b[39m, List[Union[\u001b[38;5;28mstr\u001b[39m, Dict]]], \u001b[38;5;241m*\u001b[39m\u001b[38;5;241m*\u001b[39mkwargs: Any\n\u001b[0;32m     61\u001b[0m ) \u001b[38;5;241m-\u001b[39m\u001b[38;5;241m>\u001b[39m \u001b[38;5;28;01mNone\u001b[39;00m:\n\u001b[0;32m     62\u001b[0m \u001b[38;5;250m    \u001b[39m\u001b[38;5;124;03m\"\"\"Pass in content as positional arg.\"\"\"\u001b[39;00m\n\u001b[1;32m---> 63\u001b[0m     \u001b[38;5;28msuper\u001b[39m()\u001b[38;5;241m.\u001b[39m\u001b[38;5;21m__init__\u001b[39m(content\u001b[38;5;241m=\u001b[39mcontent, \u001b[38;5;241m*\u001b[39m\u001b[38;5;241m*\u001b[39mkwargs)\n",
      "File \u001b[1;32mc:\\Users\\Tae-su\\Grow\\Repositories\\orderbot_v2\\venv\\lib\\site-packages\\langchain_core\\messages\\base.py:47\u001b[0m, in \u001b[0;36mBaseMessage.__init__\u001b[1;34m(self, content, **kwargs)\u001b[0m\n\u001b[0;32m     43\u001b[0m \u001b[38;5;28;01mdef\u001b[39;00m \u001b[38;5;21m__init__\u001b[39m(\n\u001b[0;32m     44\u001b[0m     \u001b[38;5;28mself\u001b[39m, content: Union[\u001b[38;5;28mstr\u001b[39m, List[Union[\u001b[38;5;28mstr\u001b[39m, Dict]]], \u001b[38;5;241m*\u001b[39m\u001b[38;5;241m*\u001b[39mkwargs: Any\n\u001b[0;32m     45\u001b[0m ) \u001b[38;5;241m-\u001b[39m\u001b[38;5;241m>\u001b[39m \u001b[38;5;28;01mNone\u001b[39;00m:\n\u001b[0;32m     46\u001b[0m \u001b[38;5;250m    \u001b[39m\u001b[38;5;124;03m\"\"\"Pass in content as positional arg.\"\"\"\u001b[39;00m\n\u001b[1;32m---> 47\u001b[0m     \u001b[38;5;28msuper\u001b[39m()\u001b[38;5;241m.\u001b[39m\u001b[38;5;21m__init__\u001b[39m(content\u001b[38;5;241m=\u001b[39mcontent, \u001b[38;5;241m*\u001b[39m\u001b[38;5;241m*\u001b[39mkwargs)\n",
      "File \u001b[1;32mc:\\Users\\Tae-su\\Grow\\Repositories\\orderbot_v2\\venv\\lib\\site-packages\\pydantic\\v1\\main.py:341\u001b[0m, in \u001b[0;36mBaseModel.__init__\u001b[1;34m(__pydantic_self__, **data)\u001b[0m\n\u001b[0;32m    339\u001b[0m values, fields_set, validation_error \u001b[38;5;241m=\u001b[39m validate_model(__pydantic_self__\u001b[38;5;241m.\u001b[39m\u001b[38;5;18m__class__\u001b[39m, data)\n\u001b[0;32m    340\u001b[0m \u001b[38;5;28;01mif\u001b[39;00m validation_error:\n\u001b[1;32m--> 341\u001b[0m     \u001b[38;5;28;01mraise\u001b[39;00m validation_error\n\u001b[0;32m    342\u001b[0m \u001b[38;5;28;01mtry\u001b[39;00m:\n\u001b[0;32m    343\u001b[0m     object_setattr(__pydantic_self__, \u001b[38;5;124m'\u001b[39m\u001b[38;5;124m__dict__\u001b[39m\u001b[38;5;124m'\u001b[39m, values)\n",
      "\u001b[1;31mValidationError\u001b[0m: 2 validation errors for AIMessage\ncontent\n  str type expected (type=type_error.str)\ncontent\n  value is not a valid list (type=type_error.list)"
     ]
    }
   ],
   "source": [
    "from langchain_core.messages import HumanMessage, AIMessage\n",
    "\n",
    "\n",
    "input_message = \"떡케익 2개 주문할게요\"\n",
    "user_info = \"1\"\n",
    "messages = [\n",
    "    AIMessage(content=product_list[0]),\n",
    "    ]\n",
    "\n",
    "\n",
    "try:\n",
    "    output = order_create_router_runnable.invoke({\n",
    "        \"input_message\": input_message,\n",
    "        \"user_info\": user_info,\n",
    "        \"messages\": messages,\n",
    "    })\n",
    "    print(output)\n",
    "except Exception as e: \n",
    "    print(f\"Exception: {e}\")"
   ]
  },
  {
   "cell_type": "code",
   "execution_count": null,
   "metadata": {},
   "outputs": [
    {
     "data": {
      "text/plain": [
       "'[{\"product_name\": \"떡케익5호\", \"quantity\": 1, \"price\": 54000}, {\"product_name\": \"무지개 백설기 케익\", \"quantity\": 1, \"price\": 51500}, {\"product_name\": \"미니 백설기\", \"quantity\": 35, \"price\": 31500}, {\"product_name\": \"개별 모듬팩\", \"quantity\": 1, \"price\": 13500}]'"
      ]
     },
     "execution_count": 43,
     "metadata": {},
     "output_type": "execute_result"
    }
   ],
   "source": [
    "import json\n",
    "\n",
    "product_list = [\n",
    "    {\n",
    "        \"product_name\": \"떡케익5호\",\n",
    "        \"quantity\": 1,\n",
    "        \"price\": 54000\n",
    "    },\n",
    "    {\n",
    "        \"product_name\": \"무지개 백설기 케익\",\n",
    "        \"quantity\": 1,\n",
    "        \"price\": 51500\n",
    "    },\n",
    "    {\n",
    "        \"product_name\": \"미니 백설기\",\n",
    "        \"quantity\": 35,\n",
    "        \"price\": 31500\n",
    "    },\n",
    "    {\n",
    "        \"product_name\": \"개별 모듬팩\",\n",
    "        \"quantity\": 1,\n",
    "        \"price\": 13500\n",
    "    }\n",
    "]\n",
    "\n",
    "product_list_str = json.dumps(product_list, ensure_ascii=False)\n",
    "product_list_str\n"
   ]
  },
  {
   "cell_type": "code",
   "execution_count": 59,
   "metadata": {},
   "outputs": [
    {
     "name": "stdout",
     "output_type": "stream",
     "text": [
      "content='' additional_kwargs={'tool_calls': [{'id': 'call_Cstpg3dqfOCMCYCHk42GKaez', 'function': {'arguments': '{\"task_to_request\":\"떡케익 2개 주문할게요\",\"evaluation_for_choice\":\"good\",\"rationale_for_evaluation\":\"고객이 주문할 상품을 명시했기 때문에 상품 목록을 제시하는 것이 적절합니다.\"}', 'name': 'ToPresentProductList'}, 'type': 'function'}]} response_metadata={'token_usage': {'completion_tokens': 86, 'prompt_tokens': 506, 'total_tokens': 592}, 'model_name': 'gpt-3.5-turbo', 'system_fingerprint': None, 'finish_reason': 'tool_calls', 'logprobs': None} id='run-6748799a-d00c-4770-8391-f2cfb022b717-0' tool_calls=[{'name': 'ToPresentProductList', 'args': {'task_to_request': '떡케익 2개 주문할게요', 'evaluation_for_choice': 'good', 'rationale_for_evaluation': '고객이 주문할 상품을 명시했기 때문에 상품 목록을 제시하는 것이 적절합니다.'}, 'id': 'call_Cstpg3dqfOCMCYCHk42GKaez'}]\n"
     ]
    }
   ],
   "source": [
    "from langchain_core.messages import HumanMessage, AIMessage\n",
    "\n",
    "\n",
    "input_message = \"떡케익 2개 주문할게요\"\n",
    "user_info = \"1\"\n",
    "messages = [\n",
    "    AIMessage(content=product_list_str),\n",
    "    ]\n",
    "\n",
    "\n",
    "try:\n",
    "    output = order_create_router_runnable.invoke({\n",
    "        \"input_message\": input_message,\n",
    "        \"user_info\": user_info,\n",
    "        \"messages\": messages,\n",
    "    })\n",
    "    print(output)\n",
    "except Exception as e: \n",
    "    print(f\"Exception: {e}\")"
   ]
  },
  {
   "cell_type": "code",
   "execution_count": 60,
   "metadata": {},
   "outputs": [
    {
     "data": {
      "text/plain": [
       "[{'name': 'ToPresentProductList',\n",
       "  'args': {'task_to_request': '떡케익 2개 주문할게요',\n",
       "   'evaluation_for_choice': 'good',\n",
       "   'rationale_for_evaluation': '고객이 주문할 상품을 명시했기 때문에 상품 목록을 제시하는 것이 적절합니다.'},\n",
       "  'id': 'call_Cstpg3dqfOCMCYCHk42GKaez'}]"
      ]
     },
     "execution_count": 60,
     "metadata": {},
     "output_type": "execute_result"
    }
   ],
   "source": [
    " output.tool_calls"
   ]
  },
  {
   "cell_type": "code",
   "execution_count": 61,
   "metadata": {},
   "outputs": [
    {
     "name": "stdout",
     "output_type": "stream",
     "text": [
      "content='' additional_kwargs={'tool_calls': [{'id': 'call_5F8Yt24QQkQoQh10bYvuruao', 'function': {'arguments': '{\"task_to_request\":\"제시된 상품 목록 중 떡케익 5호 1개를 주문합니다.\",\"evaluation_for_choice\":\"good\",\"rationale_for_evaluation\":\"고객이 주문하고자 하는 상품을 명확히 선택하고 주문을 진행하려는 의사를 밝힘.\"}', 'name': 'ToPresentProductList'}, 'type': 'function'}]} response_metadata={'token_usage': {'completion_tokens': 105, 'prompt_tokens': 514, 'total_tokens': 619}, 'model_name': 'gpt-3.5-turbo', 'system_fingerprint': None, 'finish_reason': 'tool_calls', 'logprobs': None} id='run-db6a509a-cebb-4487-9520-f22dc220ea7a-0' tool_calls=[{'name': 'ToPresentProductList', 'args': {'task_to_request': '제시된 상품 목록 중 떡케익 5호 1개를 주문합니다.', 'evaluation_for_choice': 'good', 'rationale_for_evaluation': '고객이 주문하고자 하는 상품을 명확히 선택하고 주문을 진행하려는 의사를 밝힘.'}, 'id': 'call_5F8Yt24QQkQoQh10bYvuruao'}]\n"
     ]
    }
   ],
   "source": [
    "from langchain_core.messages import HumanMessage, AIMessage\n",
    "\n",
    "\n",
    "input_message = \"떡케익 2개 주문할게요\"\n",
    "user_info = \"1\"\n",
    "messages = [\n",
    "    AIMessage(content=\"상품 목록\\n\"+product_list_str),\n",
    "    ]\n",
    "\n",
    "\n",
    "try:\n",
    "    output = order_create_router_runnable.invoke({\n",
    "        \"input_message\": input_message,\n",
    "        \"user_info\": user_info,\n",
    "        \"messages\": messages,\n",
    "    })\n",
    "    print(output)\n",
    "except Exception as e: \n",
    "    print(f\"Exception: {e}\")"
   ]
  },
  {
   "cell_type": "code",
   "execution_count": 62,
   "metadata": {},
   "outputs": [
    {
     "data": {
      "text/plain": [
       "[{'name': 'ToPresentProductList',\n",
       "  'args': {'task_to_request': '제시된 상품 목록 중 떡케익 5호 1개를 주문합니다.',\n",
       "   'evaluation_for_choice': 'good',\n",
       "   'rationale_for_evaluation': '고객이 주문하고자 하는 상품을 명확히 선택하고 주문을 진행하려는 의사를 밝힘.'},\n",
       "  'id': 'call_5F8Yt24QQkQoQh10bYvuruao'}]"
      ]
     },
     "execution_count": 62,
     "metadata": {},
     "output_type": "execute_result"
    }
   ],
   "source": [
    " output.tool_calls"
   ]
  },
  {
   "cell_type": "markdown",
   "metadata": {},
   "source": [
    "---"
   ]
  },
  {
   "cell_type": "code",
   "execution_count": 63,
   "metadata": {},
   "outputs": [],
   "source": [
    "from langchain_core.pydantic_v1 import BaseModel, Field\n",
    "\n",
    "class EvalueateCalssification(BaseModel):\n",
    "    \"\"\"Records misclassification of router\"\"\"\n",
    "    input: str = Field(description=\"라우터에 입력된 메시지\")\n",
    "    classification_of_router: str = Field(description=\"라우터의 분류 결과\")\n",
    "    evaluation_for_classification: str = Field(description=\" 라우터의 분류에 대한 평가. '올바름'과 '잘못됨' 중 하나로 평가\")\n",
    "    reason_for_evaluation: str = Field(description=\"라우터 분류에 대한 평가의 이유\")"
   ]
  },
  {
   "cell_type": "code",
   "execution_count": 64,
   "metadata": {},
   "outputs": [],
   "source": [
    "from langchain_core.prompts import ChatPromptTemplate\n",
    "\n",
    "check_routing_prompt = ChatPromptTemplate.from_messages(\n",
    "    [\n",
    "        (\n",
    "            \"system\",\n",
    "            \"\"\"\n",
    "            너는 라우팅 결과가 올바른지 꼼꼼하게 점검해야 해.\n",
    "            라우팅 기준: {routing_criteria}\n",
    "            입력 메시지: {input_message}\n",
    "            모델의 분류 결과: {model_classification}\n",
    "\n",
    "            도구를 사용해 모델의 분류 결과를 평가해.      \n",
    "            \n",
    "            \"\"\",\n",
    "        ),\n",
    "        MessagesPlaceholder(variable_name=\"messages\"),\n",
    "    ]\n",
    ").partial(routing_criteria=routing_criteria)\n",
    "\n",
    "# model=\"gpt-4o\"\n",
    "# gpt4o = ChatOpenAI(model=model)\n",
    "# check_routing_runnable = check_routing_prompt | gpt4o.bind_tools([EvalueateCalssification])\n",
    "check_routing_runnable = check_routing_prompt | llm.bind_tools([EvalueateCalssification])"
   ]
  },
  {
   "cell_type": "markdown",
   "metadata": {},
   "source": [
    "routing_criteria = \"\"\"\n",
    "    이전 대화에서 판매 중인 상품 목록을 제시했는지 확인해.\n",
    "    만약 판매중인 상품 목록을 제시하지 않았다면 ToPresentProductList를 사용해\n",
    "    고객이 주문할 품목을 말했다면 TodOrderRequestConfirmation를 사용해.\n",
    "    고객이 주문을 진행하려는 내용에 동의했다면 create_order를 사용해.\n",
    "    \"\"\""
   ]
  },
  {
   "cell_type": "code",
   "execution_count": 65,
   "metadata": {},
   "outputs": [
    {
     "data": {
      "text/plain": [
       "[{'name': 'EvalueateCalssification',\n",
       "  'args': {'input': '떡케익 2개 주문할게요',\n",
       "   'classification_of_router': 'ToPresentProductList',\n",
       "   'evaluation_for_classification': '잘못됨',\n",
       "   'reason_for_evaluation': '고객이 주문을 진행하려는 내용에 동의했기 때문에 TodOrderRequestConfirmation을 사용해야 합니다.'},\n",
       "  'id': 'call_PgJphnXkcp7Tx03cGgYpDahq'}]"
      ]
     },
     "execution_count": 65,
     "metadata": {},
     "output_type": "execute_result"
    }
   ],
   "source": [
    "input_message = \"떡케익 2개 주문할게요\"\n",
    "model_classification = \"ToPresentProductList\"\n",
    "messages = [\n",
    "    AIMessage(content=\"상품 목록\\n\"+product_list_str),\n",
    "    ]\n",
    "\n",
    "output = check_routing_runnable.invoke({\"input_message\": input_message,\n",
    "                                        \"model_classification\": model_classification,\n",
    "                                        \"messages\": messages})\n",
    "output.tool_calls"
   ]
  },
  {
   "cell_type": "markdown",
   "metadata": {},
   "source": [
    "틀림."
   ]
  },
  {
   "cell_type": "code",
   "execution_count": 68,
   "metadata": {},
   "outputs": [
    {
     "data": {
      "text/plain": [
       "[{'name': 'EvalueateCalssification',\n",
       "  'args': {'input': '떡케익 2개 주문할게요',\n",
       "   'classification_of_router': 'TodOrderRequestConfirmation',\n",
       "   'evaluation_for_classification': '올바름',\n",
       "   'reason_for_evaluation': '주문 요청 확인'},\n",
       "  'id': 'call_JssY2VIu14SRhyddzr3fON5i'}]"
      ]
     },
     "execution_count": 68,
     "metadata": {},
     "output_type": "execute_result"
    }
   ],
   "source": [
    "input_message = \"응\"\n",
    "model_classification = \"TodOrderRequestConfirmation\"\n",
    "messages = [\n",
    "    AIMessage(content=\"상품 목록\\n\"+product_list_str),\n",
    "    HumanMessage(content=\"떡케익 2개 주문할게요\"),\n",
    "    AIMessage(content=\"떡케익 2개로 주문하면 될까요?\")\n",
    "    ]\n",
    "\n",
    "output = check_routing_runnable.invoke({\"input_message\": input_message,\n",
    "                                        \"model_classification\": model_classification,\n",
    "                                        \"messages\": messages})\n",
    "output.tool_calls"
   ]
  },
  {
   "cell_type": "code",
   "execution_count": 67,
   "metadata": {},
   "outputs": [
    {
     "data": {
      "text/plain": [
       "[{'name': 'EvalueateCalssification',\n",
       "  'args': {'input': '떡케익 2개 주문할게요',\n",
       "   'classification_of_router': 'create_order',\n",
       "   'evaluation_for_classification': '올바름',\n",
       "   'reason_for_evaluation': '주문을 진행하는 내용에 동의함'},\n",
       "  'id': 'call_NIIzvAW2wUgzzVGbKTTkbak4'}]"
      ]
     },
     "execution_count": 67,
     "metadata": {},
     "output_type": "execute_result"
    }
   ],
   "source": [
    "input_message = \"응\"\n",
    "model_classification = \"create_order\"\n",
    "messages = [\n",
    "    AIMessage(content=\"상품 목록\\n\"+product_list_str),\n",
    "    HumanMessage(content=\"떡케익 2개 주문할게요\"),\n",
    "    AIMessage(content=\"떡케익 2개로 주문하면 될까요?\")\n",
    "    ]\n",
    "\n",
    "output = check_routing_runnable.invoke({\"input_message\": input_message,\n",
    "                                        \"model_classification\": model_classification,\n",
    "                                        \"messages\": messages})\n",
    "output.tool_calls"
   ]
  },
  {
   "cell_type": "markdown",
   "metadata": {},
   "source": [
    "모델 gpt4o로 교체 후 다시 시도. 잘못 잡아냄. 뽀록인 듯?"
   ]
  },
  {
   "cell_type": "code",
   "execution_count": 70,
   "metadata": {},
   "outputs": [],
   "source": [
    "from langchain_core.prompts import ChatPromptTemplate\n",
    "\n",
    "check_routing_prompt = ChatPromptTemplate.from_messages(\n",
    "    [\n",
    "        (\n",
    "            \"system\",\n",
    "            \"\"\"\n",
    "            너는 라우팅 결과가 올바른지 꼼꼼하게 점검해야 해.\n",
    "            라우팅 기준: {routing_criteria}\n",
    "            입력 메시지: {input_message}\n",
    "            모델의 분류 결과: {model_classification}\n",
    "\n",
    "            도구를 사용해 모델의 분류 결과를 평가해.      \n",
    "            \n",
    "            \"\"\",\n",
    "        ),\n",
    "        MessagesPlaceholder(variable_name=\"messages\"),\n",
    "    ]\n",
    ").partial(routing_criteria=routing_criteria)\n",
    "\n",
    "model=\"gpt-4o\"\n",
    "gpt4o = ChatOpenAI(model=model)\n",
    "check_routing_runnable = check_routing_prompt | gpt4o.bind_tools([EvalueateCalssification])\n",
    "# check_routing_runnable = check_routing_prompt | llm.bind_tools([EvalueateCalssification])"
   ]
  },
  {
   "cell_type": "code",
   "execution_count": 71,
   "metadata": {},
   "outputs": [
    {
     "data": {
      "text/plain": [
       "[{'name': 'EvalueateCalssification',\n",
       "  'args': {'input': '응',\n",
       "   'classification_of_router': 'TodOrderRequestConfirmation',\n",
       "   'evaluation_for_classification': '잘못됨',\n",
       "   'reason_for_evaluation': \"고객이 주문을 진행하려는 내용을 확인했으므로 'create_order'로 라우팅해야 합니다.\"},\n",
       "  'id': 'call_DgmDUEeIaIB6DIiaU3yWBaid'}]"
      ]
     },
     "execution_count": 71,
     "metadata": {},
     "output_type": "execute_result"
    }
   ],
   "source": [
    "input_message = \"응\"\n",
    "model_classification = \"TodOrderRequestConfirmation\"\n",
    "messages = [\n",
    "    AIMessage(content=\"상품 목록\\n\"+product_list_str),\n",
    "    HumanMessage(content=\"떡케익 2개 주문할게요\"),\n",
    "    AIMessage(content=\"떡케익 2개로 주문하면 될까요?\")\n",
    "    ]\n",
    "\n",
    "output = check_routing_runnable.invoke({\"input_message\": input_message,\n",
    "                                        \"model_classification\": model_classification,\n",
    "                                        \"messages\": messages})\n",
    "output.tool_calls"
   ]
  },
  {
   "cell_type": "markdown",
   "metadata": {},
   "source": [
    "쉬운 데도 gpt4o도 틀리는 경우 있네"
   ]
  },
  {
   "cell_type": "code",
   "execution_count": 73,
   "metadata": {},
   "outputs": [
    {
     "data": {
      "text/plain": [
       "[{'name': 'EvalueateCalssification',\n",
       "  'args': {'input': '응',\n",
       "   'classification_of_router': 'create_order',\n",
       "   'evaluation_for_classification': '잘못됨',\n",
       "   'reason_for_evaluation': '고객이 주문을 진행하려는 내용에 동의했다는 명확한 표현이 없었기에 create_order 대신 ToOrderRequestConfirmation이 사용되어야 합니다.'},\n",
       "  'id': 'call_emQYFWHaFwz6Vcmz5bMRq2uP'}]"
      ]
     },
     "execution_count": 73,
     "metadata": {},
     "output_type": "execute_result"
    }
   ],
   "source": [
    "input_message = \"응\"\n",
    "model_classification = \"create_order\"\n",
    "messages = [\n",
    "    AIMessage(content=\"상품 목록\\n\"+product_list_str),\n",
    "    HumanMessage(content=\"떡케익 2개 주문할게요\"),\n",
    "    AIMessage(content=\"떡케익 2개로 주문하면 될까요?\")\n",
    "    ]\n",
    "\n",
    "output = check_routing_runnable.invoke({\"input_message\": input_message,\n",
    "                                        \"model_classification\": model_classification,\n",
    "                                        \"messages\": messages})\n",
    "output.tool_calls"
   ]
  },
  {
   "cell_type": "code",
   "execution_count": 74,
   "metadata": {},
   "outputs": [
    {
     "data": {
      "text/plain": [
       "[{'name': 'EvalueateCalssification',\n",
       "  'args': {'input': '응',\n",
       "   'classification_of_router': 'create_order',\n",
       "   'evaluation_for_classification': '잘못됨',\n",
       "   'reason_for_evaluation': \"고객이 주문할 품목을 명확히 언급했으므로, 'create_order'가 아닌 'TodOrderRequestConfirmation'으로 라우팅해야 합니다.\"},\n",
       "  'id': 'call_0u7LjwtbMQa4B4kQTb0mPTkp'}]"
      ]
     },
     "execution_count": 74,
     "metadata": {},
     "output_type": "execute_result"
    }
   ],
   "source": [
    "input_message = \"응\"\n",
    "model_classification = \"create_order\"\n",
    "messages = [\n",
    "    AIMessage(content=\"상품 목록\\n\"+product_list_str),\n",
    "    HumanMessage(content=\"떡케익 2개 주문할게요\"),\n",
    "    AIMessage(content=\"떡케익 2개로 주문하면 될까요?\")\n",
    "    ]\n",
    "\n",
    "output = check_routing_runnable.invoke({\"input_message\": input_message,\n",
    "                                        \"model_classification\": model_classification,\n",
    "                                        \"messages\": messages})\n",
    "output.tool_calls"
   ]
  },
  {
   "cell_type": "code",
   "execution_count": 80,
   "metadata": {},
   "outputs": [],
   "source": [
    "from langchain_core.prompts import ChatPromptTemplate\n",
    "\n",
    "check_routing_prompt = ChatPromptTemplate.from_messages(\n",
    "    [\n",
    "        (\n",
    "            \"system\",\n",
    "            \"\"\"\n",
    "            너는 라우팅 결과가 올바른지 검사하는 전문가야.\n",
    "            라우팅 기준: {routing_criteria}\n",
    "            입력 메시지: {input_message}\n",
    "            모델의 분류 결과: {model_classification}\n",
    "\n",
    "            모델의 분류 결과가 맞다면 good, 틀리다면 bad를 출력해. \n",
    "            반드시 응답은 good과 bad 중 하나여야 해.\n",
    "            \"\"\",\n",
    "        ),\n",
    "        MessagesPlaceholder(variable_name=\"messages\"),\n",
    "    ]\n",
    ").partial(routing_criteria=routing_criteria)\n",
    "\n",
    "# model=\"gpt-4o\"\n",
    "# gpt4o = ChatOpenAI(model=model)\n",
    "check_routing_runnable = check_routing_prompt | llm"
   ]
  },
  {
   "cell_type": "code",
   "execution_count": 81,
   "metadata": {},
   "outputs": [
    {
     "data": {
      "text/plain": [
       "'create_order'"
      ]
     },
     "execution_count": 81,
     "metadata": {},
     "output_type": "execute_result"
    }
   ],
   "source": [
    "input_message = \"응\"\n",
    "model_classification = \"create_order\"\n",
    "messages = [\n",
    "    AIMessage(content=\"상품 목록\\n\"+product_list_str),\n",
    "    HumanMessage(content=\"떡케익 2개 주문할게요\"),\n",
    "    AIMessage(content=\"떡케익 2개로 주문하면 될까요?\")\n",
    "    ]\n",
    "\n",
    "output = check_routing_runnable.invoke({\"input_message\": input_message,\n",
    "                                        \"model_classification\": model_classification,\n",
    "                                        \"messages\": messages})\n",
    "output.content"
   ]
  },
  {
   "cell_type": "code",
   "execution_count": 82,
   "metadata": {},
   "outputs": [
    {
     "data": {
      "text/plain": [
       "AIMessage(content='create_order', response_metadata={'token_usage': {'completion_tokens': 2, 'prompt_tokens': 415, 'total_tokens': 417}, 'model_name': 'gpt-3.5-turbo', 'system_fingerprint': None, 'finish_reason': 'stop', 'logprobs': None}, id='run-c2a99493-a2d0-4ecd-ba9b-a4654a46d1b9-0')"
      ]
     },
     "execution_count": 82,
     "metadata": {},
     "output_type": "execute_result"
    }
   ],
   "source": [
    "output"
   ]
  },
  {
   "cell_type": "code",
   "execution_count": 83,
   "metadata": {},
   "outputs": [],
   "source": [
    "from langchain_core.prompts import ChatPromptTemplate\n",
    "\n",
    "check_routing_prompt = ChatPromptTemplate.from_messages(\n",
    "    [\n",
    "        (\n",
    "            \"system\",\n",
    "            \"\"\"\n",
    "            너는 라우팅 결과가 올바른지 검사하는 전문가야.\n",
    "            라우팅 기준: {routing_criteria}\n",
    "            입력 메시지: {input_message}\n",
    "            모델의 분류 결과: {model_classification}\n",
    "\n",
    "            모델의 분류 결과가 맞다면 good, 틀리다면 bad를 출력해. \n",
    "            반드시 응답은 good과 bad 중 하나여야 해.\n",
    "            \"\"\",\n",
    "        ),\n",
    "        MessagesPlaceholder(variable_name=\"messages\"),\n",
    "    ]\n",
    ").partial(routing_criteria=routing_criteria)\n",
    "\n",
    "model=\"gpt-4o\"\n",
    "gpt4o = ChatOpenAI(model=model)\n",
    "check_routing_runnable = check_routing_prompt | gpt4o"
   ]
  },
  {
   "cell_type": "code",
   "execution_count": 84,
   "metadata": {},
   "outputs": [
    {
     "data": {
      "text/plain": [
       "'TodOrderRequestConfirmation'"
      ]
     },
     "execution_count": 84,
     "metadata": {},
     "output_type": "execute_result"
    }
   ],
   "source": [
    "input_message = \"응\"\n",
    "model_classification = \"create_order\"\n",
    "messages = [\n",
    "    AIMessage(content=\"상품 목록\\n\"+product_list_str),\n",
    "    HumanMessage(content=\"떡케익 2개 주문할게요\"),\n",
    "    AIMessage(content=\"떡케익 2개로 주문하면 될까요?\")\n",
    "    ]\n",
    "\n",
    "output = check_routing_runnable.invoke({\"input_message\": input_message,\n",
    "                                        \"model_classification\": model_classification,\n",
    "                                        \"messages\": messages})\n",
    "output.content"
   ]
  },
  {
   "cell_type": "code",
   "execution_count": 85,
   "metadata": {},
   "outputs": [],
   "source": [
    "from langchain_core.prompts import ChatPromptTemplate\n",
    "\n",
    "check_routing_prompt = ChatPromptTemplate.from_messages(\n",
    "    [\n",
    "        (\n",
    "            \"system\",\n",
    "            \"\"\"\n",
    "            너는 라우팅 결과가 올바른지 검사하는 전문가야.\n",
    "            라우팅 기준: {routing_criteria}\n",
    "            입력 메시지: {input_message}\n",
    "            라우팅 결과: {model_classification}\n",
    "\n",
    "            라우팅 결과가 맞다면 good, 틀리다면 bad를 출력해. \n",
    "            반드시 응답은 good과 bad 중 하나여야 해.\n",
    "            \"\"\",\n",
    "        ),\n",
    "        MessagesPlaceholder(variable_name=\"messages\"),\n",
    "    ]\n",
    ").partial(routing_criteria=routing_criteria)\n",
    "\n",
    "model=\"gpt-4o\"\n",
    "gpt4o = ChatOpenAI(model=model)\n",
    "check_routing_runnable = check_routing_prompt | gpt4o"
   ]
  },
  {
   "cell_type": "code",
   "execution_count": 86,
   "metadata": {},
   "outputs": [
    {
     "data": {
      "text/plain": [
       "'TodOrderRequestConfirmation'"
      ]
     },
     "execution_count": 86,
     "metadata": {},
     "output_type": "execute_result"
    }
   ],
   "source": [
    "input_message = \"응\"\n",
    "model_classification = \"create_order\"\n",
    "messages = [\n",
    "    AIMessage(content=\"상품 목록\\n\"+product_list_str),\n",
    "    HumanMessage(content=\"떡케익 2개 주문할게요\"),\n",
    "    AIMessage(content=\"떡케익 2개로 주문하면 될까요?\")\n",
    "    ]\n",
    "\n",
    "output = check_routing_runnable.invoke({\"input_message\": input_message,\n",
    "                                        \"model_classification\": model_classification,\n",
    "                                        \"messages\": messages})\n",
    "output.content"
   ]
  },
  {
   "cell_type": "markdown",
   "metadata": {},
   "source": [
    "---"
   ]
  },
  {
   "cell_type": "markdown",
   "metadata": {},
   "source": [
    "# 담당 작업 외 예외 처리"
   ]
  },
  {
   "cell_type": "code",
   "execution_count": 87,
   "metadata": {},
   "outputs": [
    {
     "ename": "ModuleNotFoundError",
     "evalue": "No module named 'chain'",
     "output_type": "error",
     "traceback": [
      "\u001b[1;31m---------------------------------------------------------------------------\u001b[0m",
      "\u001b[1;31mModuleNotFoundError\u001b[0m                       Traceback (most recent call last)",
      "Cell \u001b[1;32mIn[87], line 1\u001b[0m\n\u001b[1;32m----> 1\u001b[0m \u001b[38;5;28;01mfrom\u001b[39;00m \u001b[38;5;21;01mchain\u001b[39;00m\u001b[38;5;21;01m.\u001b[39;00m\u001b[38;5;21;01mlanggraph_states\u001b[39;00m \u001b[38;5;28;01mimport\u001b[39;00m State\n\u001b[0;32m      2\u001b[0m \u001b[38;5;28;01mfrom\u001b[39;00m \u001b[38;5;21;01mchain\u001b[39;00m\u001b[38;5;21;01m.\u001b[39;00m\u001b[38;5;21;01mlanggraph_assistants\u001b[39;00m \u001b[38;5;28;01mimport\u001b[39;00m request_order_confirmation_runnable\n\u001b[0;32m      4\u001b[0m \u001b[38;5;28;01mdef\u001b[39;00m \u001b[38;5;21mrequest_order_confirmation\u001b[39m(state: State):\n",
      "\u001b[1;31mModuleNotFoundError\u001b[0m: No module named 'chain'"
     ]
    }
   ],
   "source": [
    "from chain.langgraph_states import State\n",
    "from chain.langgraph_assistants import request_order_confirmation_runnable\n",
    "\n",
    "def request_order_confirmation(state: State):\n",
    "    print(\"-\"*77)\n",
    "    print(\"request_order_confirmation 진입\")\n",
    "    print(\"state\\n\", state)\n",
    "\n",
    "    messages = state[\"messages\"]\n",
    "    response = request_order_confirmation_runnable.invoke({\"messages\": messages})\n",
    "    \n",
    "    return {\"messages\": response}"
   ]
  },
  {
   "cell_type": "code",
   "execution_count": 88,
   "metadata": {},
   "outputs": [],
   "source": [
    "class CompleteOrEscalate(BaseModel):\n",
    "    \"\"\"A tool to mark the current task as completed and/or to escalate control of the dialog to the main assistant,\n",
    "    who can re-route the dialog based on the user's needs.\"\"\"\n",
    "\n",
    "    cancel: bool = True\n",
    "    reason: str\n",
    "\n",
    "    class Config:\n",
    "        schema_extra = {\n",
    "            \"example\": {\n",
    "                \"cancel\": True,\n",
    "                \"reason\": \"User changed their mind about the current task.\",\n",
    "            },\n",
    "            \"example 2\": {\n",
    "                \"cancel\": True,\n",
    "                \"reason\": \"User made a statement that is irrelevant to the current task.\",\n",
    "            },\n",
    "            \"example 3\": {\n",
    "                \"cancel\": False,\n",
    "                \"reason\": \"I need to use the tool to place a new order.\",\n",
    "            },\n",
    "        }\n"
   ]
  },
  {
   "cell_type": "code",
   "execution_count": 89,
   "metadata": {},
   "outputs": [],
   "source": [
    "request_order_confirmation_prompt = ChatPromptTemplate.from_messages(\n",
    "    [\n",
    "        (\"system\", \n",
    "        \"\"\"\n",
    "        너는 사용자의 요청 사항을 확인하는 주문봇이야.\n",
    "        ToolMessage에 담긴 정보를 바탕으로 아례 예시처럼 응답을 생성해줘.\n",
    "        응답에는 반드시 상품명, 가격, 수량을 모두 포함해야 해.\n",
    "        응답을 출력하기 전에 응답에 상품명, 가격, 수량이 모두 포함돼 있는지 확인하고, 깜빡했다면 반드시 포함시켜줘.\n",
    "\n",
    "        # ToolMessage에 담긴 정보 예시\n",
    "        product_list: 떡케익5호 - 54,000원, 무지개 백설기 케익 - 51,500원, 미니 백설기 (35개 세트) - 31,500원, 개별 모듬팩 - 13,500원\n",
    "        customer_order_request: 미니 백설기 1개, 개별 모듬팩 2개\n",
    "        message_to_be_confirmed: 미니 백설기 1개 - 31,500원, 개별 모듬팩 2개 - 27,000원\n",
    "\n",
    "        # 모델 응답 예시\n",
    "\n",
    "        주문 품목:\n",
    "        1. 상품명: 미니 백설기 \n",
    "           가격: 31,500원 \n",
    "           수량: 1개\n",
    "\n",
    "        2. 상품명: 개별 모듬팩\n",
    "           가격: 13,500원\n",
    "           수량: 2개\n",
    "\n",
    "           총 가격: 31,500+27,000 = 58,500원\n",
    "        \n",
    "        이대로 주문을 진행하면 될까요?\n",
    "        \"\"\"\n",
    "        ),\n",
    "        MessagesPlaceholder(variable_name=\"messages\"),\n",
    "    ]\n",
    "    \n",
    ")\n",
    "request_order_confirmation_runnable = request_order_confirmation_prompt | llm.bind_tools([CompleteOrEscalate])\n"
   ]
  },
  {
   "cell_type": "code",
   "execution_count": 90,
   "metadata": {},
   "outputs": [
    {
     "data": {
      "text/plain": [
       "'[{\"product_name\": \"떡케익5호\", \"quantity\": 1, \"price\": 54000}, {\"product_name\": \"무지개 백설기 케익\", \"quantity\": 1, \"price\": 51500}, {\"product_name\": \"미니 백설기\", \"quantity\": 35, \"price\": 31500}, {\"product_name\": \"개별 모듬팩\", \"quantity\": 1, \"price\": 13500}]'"
      ]
     },
     "execution_count": 90,
     "metadata": {},
     "output_type": "execute_result"
    }
   ],
   "source": [
    "product_list_str"
   ]
  },
  {
   "cell_type": "code",
   "execution_count": 91,
   "metadata": {},
   "outputs": [
    {
     "data": {
      "text/plain": [
       "AIMessage(content='주문 품목:\\n1. 상품명: 떡케익5호\\n   가격: 54,000원\\n   수량: 2개\\n\\n총 가격: 54,000 x 2 = 108,000원\\n\\n이대로 주문을 진행하면 될까요?', response_metadata={'token_usage': {'completion_tokens': 86, 'prompt_tokens': 694, 'total_tokens': 780}, 'model_name': 'gpt-3.5-turbo', 'system_fingerprint': None, 'finish_reason': 'stop', 'logprobs': None}, id='run-18219ad1-1867-4619-82ca-d40b668ad7de-0')"
      ]
     },
     "execution_count": 91,
     "metadata": {},
     "output_type": "execute_result"
    }
   ],
   "source": [
    "messages = [\n",
    "    HumanMessage(content=\"주문할게요\"),\n",
    "    AIMessage(content=product_list_str),\n",
    "    HumanMessage(content=\"떡케익 2개 할게요\"),\n",
    "]\n",
    "output = request_order_confirmation_runnable.invoke({\"messages\": messages})\n",
    "output"
   ]
  },
  {
   "cell_type": "code",
   "execution_count": 93,
   "metadata": {},
   "outputs": [
    {
     "data": {
      "text/plain": [
       "AIMessage(content='', additional_kwargs={'tool_calls': [{'id': 'call_gtbZIB6cpAUHSSwiOwRKCuGN', 'function': {'arguments': '{\"cancel\":true,\"reason\":\"사용자가 주문을 취소했습니다.\"}', 'name': 'CompleteOrEscalate'}, 'type': 'function'}]}, response_metadata={'token_usage': {'completion_tokens': 34, 'prompt_tokens': 690, 'total_tokens': 724}, 'model_name': 'gpt-3.5-turbo', 'system_fingerprint': None, 'finish_reason': 'tool_calls', 'logprobs': None}, id='run-8fcf83bf-8345-4d3c-877d-928240cdf905-0', tool_calls=[{'name': 'CompleteOrEscalate', 'args': {'cancel': True, 'reason': '사용자가 주문을 취소했습니다.'}, 'id': 'call_gtbZIB6cpAUHSSwiOwRKCuGN'}])"
      ]
     },
     "execution_count": 93,
     "metadata": {},
     "output_type": "execute_result"
    }
   ],
   "source": [
    "messages = [\n",
    "    HumanMessage(content=\"주문할게요\"),\n",
    "    AIMessage(content=product_list_str),\n",
    "    HumanMessage(content=\"아 그냥 주문 안 할래\"),\n",
    "]\n",
    "output = request_order_confirmation_runnable.invoke({\"messages\": messages})\n",
    "output"
   ]
  },
  {
   "cell_type": "code",
   "execution_count": 94,
   "metadata": {},
   "outputs": [
    {
     "data": {
      "text/plain": [
       "AIMessage(content='주문할 상품 목록은 다음과 같아:\\n\\n1. 상품명: 떡케익5호\\n   가격: 54,000원\\n   수량: 1개\\n\\n2. 상품명: 무지개 백설기 케익\\n   가격: 51,500원\\n   수량: 1개\\n\\n3. 상품명: 미니 백설기\\n   가격: 31,500원\\n   수량: 35개\\n\\n4. 상품명: 개별 모듬팩\\n   가격: 13,500원\\n   수량: 1개\\n\\n주문을 원하시는 상품을 선택해주세요.', response_metadata={'token_usage': {'completion_tokens': 192, 'prompt_tokens': 699, 'total_tokens': 891}, 'model_name': 'gpt-3.5-turbo', 'system_fingerprint': None, 'finish_reason': 'stop', 'logprobs': None}, id='run-27ae4ef6-26ba-4625-acf9-85e9ff0ec030-0')"
      ]
     },
     "execution_count": 94,
     "metadata": {},
     "output_type": "execute_result"
    }
   ],
   "source": [
    "messages = [\n",
    "    HumanMessage(content=\"주문할게요\"),\n",
    "    AIMessage(content=product_list_str),\n",
    "    HumanMessage(content=\"판매 중인 상품이 뭐가 있더라?\"),\n",
    "]\n",
    "output = request_order_confirmation_runnable.invoke({\"messages\": messages})\n",
    "output"
   ]
  }
 ],
 "metadata": {
  "kernelspec": {
   "display_name": "venv",
   "language": "python",
   "name": "python3"
  },
  "language_info": {
   "codemirror_mode": {
    "name": "ipython",
    "version": 3
   },
   "file_extension": ".py",
   "mimetype": "text/x-python",
   "name": "python",
   "nbconvert_exporter": "python",
   "pygments_lexer": "ipython3",
   "version": "3.10.5"
  }
 },
 "nbformat": 4,
 "nbformat_minor": 2
}
