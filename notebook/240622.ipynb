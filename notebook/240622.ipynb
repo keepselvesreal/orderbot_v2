{
 "cells": [
  {
   "cell_type": "code",
   "execution_count": 3,
   "metadata": {},
   "outputs": [],
   "source": [
    "from typing import Annotated, Literal, Optional\n",
    "from typing_extensions import TypedDict\n",
    "\n",
    "from langgraph.graph.message import AnyMessage, add_messages\n",
    "\n",
    "\n",
    "\n",
    "def update_dialog_stack(left: list[str], right: Optional[str]) -> list[str]:\n",
    "    \"\"\"Push or pop the state.\"\"\"\n",
    "    if right is None:\n",
    "        return left\n",
    "    if right == \"pop\":\n",
    "        return left[:-1]\n",
    "    return left + [right]\n",
    "\n",
    "class State(TypedDict):\n",
    "    messages: Annotated[list[AnyMessage], add_messages]\n",
    "    user_info: str\n",
    "    dialog_state: Annotated[\n",
    "            list[\n",
    "                Literal[\n",
    "                    \"assistant\",\n",
    "                    \"query\",\n",
    "                    \"requset\",\n",
    "                ]\n",
    "            ],\n",
    "            update_dialog_stack,\n",
    "        ]\n",
    "    order_id: int = None # int형에 None으로 초기화해도 되나?\n",
    "    confirmation: bool = False"
   ]
  },
  {
   "cell_type": "code",
   "execution_count": 4,
   "metadata": {},
   "outputs": [
    {
     "ename": "ModuleNotFoundError",
     "evalue": "No module named 'products'",
     "output_type": "error",
     "traceback": [
      "\u001b[1;31m---------------------------------------------------------------------------\u001b[0m",
      "\u001b[1;31mModuleNotFoundError\u001b[0m                       Traceback (most recent call last)",
      "Cell \u001b[1;32mIn[4], line 4\u001b[0m\n\u001b[0;32m      1\u001b[0m \u001b[38;5;28;01mfrom\u001b[39;00m \u001b[38;5;21;01mlangchain_core\u001b[39;00m\u001b[38;5;21;01m.\u001b[39;00m\u001b[38;5;21;01mrunnables\u001b[39;00m \u001b[38;5;28;01mimport\u001b[39;00m Runnable, RunnableConfig\n\u001b[0;32m      2\u001b[0m \u001b[38;5;28;01mfrom\u001b[39;00m \u001b[38;5;21;01mlangchain_core\u001b[39;00m\u001b[38;5;21;01m.\u001b[39;00m\u001b[38;5;21;01mmessages\u001b[39;00m \u001b[38;5;28;01mimport\u001b[39;00m AIMessage\n\u001b[1;32m----> 4\u001b[0m \u001b[38;5;28;01mfrom\u001b[39;00m \u001b[38;5;21;01mproducts\u001b[39;00m\u001b[38;5;21;01m.\u001b[39;00m\u001b[38;5;21;01mmodels\u001b[39;00m \u001b[38;5;28;01mimport\u001b[39;00m Order\n\u001b[0;32m      5\u001b[0m \u001b[38;5;28;01mfrom\u001b[39;00m \u001b[38;5;21;01mdjango\u001b[39;00m\u001b[38;5;21;01m.\u001b[39;00m\u001b[38;5;21;01mdb\u001b[39;00m\u001b[38;5;21;01m.\u001b[39;00m\u001b[38;5;21;01mmodels\u001b[39;00m \u001b[38;5;28;01mimport\u001b[39;00m QuerySet\n\u001b[0;32m      7\u001b[0m \u001b[38;5;28;01mclass\u001b[39;00m \u001b[38;5;21;01mAssistant\u001b[39;00m:\n",
      "\u001b[1;31mModuleNotFoundError\u001b[0m: No module named 'products'"
     ]
    }
   ],
   "source": [
    "from langchain_core.runnables import Runnable, RunnableConfig\n",
    "from langchain_core.messages import AIMessage\n",
    "\n",
    "from products.models import Order\n",
    "from django.db.models import QuerySet\n",
    "\n",
    "class Assistant:\n",
    "    def __init__(self, runnable: Runnable):\n",
    "        self.runnable = runnable\n",
    "\n",
    "    def __call__(self, state: State, config: RunnableConfig):\n",
    "        while True:\n",
    "            result = self.runnable.invoke(state)\n",
    "\n",
    "            if not result.tool_calls and (\n",
    "                not result.content\n",
    "                or isinstance(result.content, list)\n",
    "                and not result.content[0].get(\"text\")\n",
    "            ):\n",
    "                messages = state[\"messages\"] + [(\"user\", \"Respond with a real output.\")]\n",
    "                state = {**state, \"messages\": messages}\n",
    "            else:\n",
    "                break\n",
    "\n",
    "        if isinstance(result, Order):\n",
    "            result = result.to_dict()\n",
    "            result = AIMessage(content=result)\n",
    "            # result = json.dumps(result)\n",
    "        elif isinstance(result, QuerySet):\n",
    "            result = [order.to_dict() for order in result]\n",
    "            result = AIMessage(content=result)\n",
    "        # print(\"assistant 출력\\n\", type(result))\n",
    "        return {\"messages\": result}"
   ]
  },
  {
   "cell_type": "code",
   "execution_count": 1,
   "metadata": {},
   "outputs": [
    {
     "ename": "SyntaxError",
     "evalue": "invalid syntax (1018811084.py, line 1)",
     "output_type": "error",
     "traceback": [
      "\u001b[1;36m  Cell \u001b[1;32mIn[1], line 1\u001b[1;36m\u001b[0m\n\u001b[1;33m    from lang\u001b[0m\n\u001b[1;37m             ^\u001b[0m\n\u001b[1;31mSyntaxError\u001b[0m\u001b[1;31m:\u001b[0m invalid syntax\n"
     ]
    }
   ],
   "source": [
    "from langchain_core.prompts import ChatPromptTemplate, MessagesPlaceholder\n",
    "from langchain_openai import ChatOpenAI\n",
    "\n",
    "order_request_prompt = ChatPromptTemplate.from_messages(\n",
    "    [\n",
    "        (\n",
    "            \"system\",\n",
    "            \"\"\"\n",
    "            너는 주문 요청 처리를 담당하는 주문봇이야.\n",
    "            사용자 요청이 주문 변경, 주문 취소와 관련된 경우, \n",
    "\n",
    "            Current user ID: {user_info}\n",
    "            \"\"\"\n",
    "       ),\n",
    "        MessagesPlaceholder(variable_name=\"messages\"),\n",
    "    ]\n",
    ")\n",
    "llm =  ChatOpenAI()\n",
    "\n",
    "order_request_runnable = order_request_prompt | llm\n",
    "\n",
    "order_request_runnable"
   ]
  },
  {
   "cell_type": "markdown",
   "metadata": {},
   "source": [
    "주문 내역 출력"
   ]
  },
  {
   "cell_type": "code",
   "execution_count": null,
   "metadata": {},
   "outputs": [],
   "source": [
    "from langchain_core.prompts import ChatPromptTemplate, MessagesPlaceholder\n",
    "from langchain_openai import ChatOpenAI\n",
    "\n",
    "\n",
    "prompt = ChatPromptTemplate.from_messages(\n",
    "    (\"system\", \n",
    "     \"너는 사용자에게 변경할 주문을 묻는 주문봇이야\"\n",
    "     \"사용자의 주문 내역을 보여주고 그 가운데 변경할 주문을 선택해달라는 메시지를 작성해줘\"\n",
    "     \"사용자 주문 내역: {orders}\"),\n",
    "     MessagesPlaceholder(variable_name=\"messgaes\")\n",
    ")\n",
    "llm =  ChatOpenAI()\n",
    "manage_order_runnable = llm | prompt "
   ]
  },
  {
   "cell_type": "code",
   "execution_count": null,
   "metadata": {},
   "outputs": [],
   "source": [
    "from chain.langgraph_tools import fetch_recent_order\n",
    "\n",
    "def display_user_order(state: State):\n",
    "    user_id = State[\"user_id\"]\n",
    "    recent_orders = fetch_recent_order(user_id)\n",
    "    response = manage_order_runnable.invoke(**state, {\"orders\": recent_orders})\n",
    "    return {\"orders\":response}\n"
   ]
  },
  {
   "cell_type": "markdown",
   "metadata": {},
   "source": [
    "선택했으면 주문 변경 진행\n",
    "* 진행 전에 사용자 개입\n",
    "---\n",
    "* 이전 노드 출력에서 Dict에 할당한 key를 그 다음 노드에서 접근하려면?\n",
    "* order_id에 담아 다음 노드로 전달"
   ]
  },
  {
   "cell_type": "code",
   "execution_count": null,
   "metadata": {},
   "outputs": [],
   "source": [
    "def manage_order_route(state: State) -> Literal[\"order_change\", \"order_cancel\"]:\n",
    "    order_id = state[\"order_id\"]\n",
    "    messages = state['messages']\n",
    "    last_message = messages[-1]\n",
    "    tool_calls = last_message.tool_calls\n",
    "    if order_id is None:\n",
    "        return \"display_user_order\"\n",
    "    if tool_calls[0][\"name\"] == \"order_change\":\n",
    "        return \"order_change\"\n",
    "    if tool_calls[0][\"name\"] == \"order_cancel\":\n",
    "        return \"order_cancel\"\n",
    "    # 이후에 leave_skill 등 추가\n"
   ]
  },
  {
   "cell_type": "code",
   "execution_count": null,
   "metadata": {},
   "outputs": [],
   "source": [
    "def route_order_request(state: State):\n",
    "    order_id = state[\"order_id\"]\n",
    "    if order_id is None:\n",
    "        return \"display_user_order\"\n"
   ]
  },
  {
   "cell_type": "code",
   "execution_count": null,
   "metadata": {},
   "outputs": [],
   "source": []
  },
  {
   "cell_type": "markdown",
   "metadata": {},
   "source": [
    "# Define Graph"
   ]
  },
  {
   "cell_type": "code",
   "execution_count": null,
   "metadata": {},
   "outputs": [],
   "source": [
    "from langgraph.graph import StateGraph\n",
    "builder = StateGraph(State)\n",
    "builder.add_node(\"order_request\", Assistant(order_request_runnable))\n",
    "builder.add_node(\"display_user_order\", display_user_order)\n",
    "builder.add_node(\"change_order\", chage_order)\n",
    "builder.add_node(\"cancel_order\", cancel_order)"
   ]
  },
  {
   "cell_type": "code",
   "execution_count": null,
   "metadata": {},
   "outputs": [],
   "source": [
    "builder.add_conditional_edges(\n",
    "    \"order_request\",\n",
    "    orer_change_route,\n",
    "    {\n",
    "        \"order_change\": \"order_change\",\n",
    "        \"enter_order_request\": \"enter_order_request\",\n",
    "        \"primary_assistant_tools\": \"primary_assistant_tools\",\n",
    "        END: END,\n",
    "    },\n",
    ")"
   ]
  }
 ],
 "metadata": {
  "kernelspec": {
   "display_name": "venv",
   "language": "python",
   "name": "python3"
  },
  "language_info": {
   "codemirror_mode": {
    "name": "ipython",
    "version": 3
   },
   "file_extension": ".py",
   "mimetype": "text/x-python",
   "name": "python",
   "nbconvert_exporter": "python",
   "pygments_lexer": "ipython3",
   "version": "3.10.5"
  }
 },
 "nbformat": 4,
 "nbformat_minor": 2
}
