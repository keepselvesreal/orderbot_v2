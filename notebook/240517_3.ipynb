{
 "cells": [
  {
   "cell_type": "code",
   "execution_count": 35,
   "metadata": {},
   "outputs": [
    {
     "data": {
      "text/plain": [
       "[{'product_name': '떡케익5호', 'quantity': 1, 'price': 54000},\n",
       " {'product_name': '무지개 백설기 케익', 'quantity': 1, 'price': 51500},\n",
       " {'product_name': '미니 백설기', 'quantity': 35, 'price': 31500},\n",
       " {'product_name': '개별 모듬팩', 'quantity': 1, 'price': 13500}]"
      ]
     },
     "execution_count": 35,
     "metadata": {},
     "output_type": "execute_result"
    }
   ],
   "source": [
    "products = [\n",
    "    {\n",
    "        \"product_name\": \"떡케익5호\",\n",
    "        \"quantity\": 1,\n",
    "        \"price\": 54000\n",
    "    },\n",
    "    {\n",
    "        \"product_name\": \"무지개 백설기 케익\",\n",
    "        \"quantity\": 1,\n",
    "        \"price\": 51500\n",
    "    },\n",
    "    {\n",
    "        \"product_name\": \"미니 백설기\",\n",
    "        \"quantity\": 35,\n",
    "        \"price\": 31500\n",
    "    },\n",
    "    {\n",
    "        \"product_name\": \"개별 모듬팩\",\n",
    "        \"quantity\": 1,\n",
    "        \"price\": 13500\n",
    "    }\n",
    "]\n",
    "products"
   ]
  },
  {
   "cell_type": "code",
   "execution_count": 38,
   "metadata": {},
   "outputs": [
    {
     "name": "stdout",
     "output_type": "stream",
     "text": [
      "<class 'list'>\n",
      "<class 'dict'>\n"
     ]
    }
   ],
   "source": [
    "print(type(products))\n",
    "print(type(products[0]))"
   ]
  },
  {
   "cell_type": "code",
   "execution_count": 1,
   "metadata": {},
   "outputs": [
    {
     "data": {
      "text/plain": [
       "[{'id': 10,\n",
       "  'created_at': '2024-05-17T12:00:00Z',\n",
       "  'order_status': '주문 완료',\n",
       "  'items': [{'product_name': '떡케익5호', 'quantity': 1, 'price': 54000.0},\n",
       "   {'product_name': '무지개 백설기 케익', 'quantity': 1, 'price': 51500.0}]}]"
      ]
     },
     "execution_count": 1,
     "metadata": {},
     "output_type": "execute_result"
    }
   ],
   "source": [
    "queried_result = [\n",
    "    {\n",
    "        \"id\": 10,\n",
    "        \"created_at\": \"2024-05-17T12:00:00Z\",\n",
    "        \"order_status\": \"주문 완료\",\n",
    "        \"items\": [\n",
    "            {\n",
    "                \"product_name\": \"떡케익5호\",\n",
    "                \"quantity\": 1,\n",
    "                \"price\": 54000.0\n",
    "            },\n",
    "            {\n",
    "                \"product_name\": \"무지개 백설기 케익\",\n",
    "                \"quantity\": 1,\n",
    "                \"price\": 51500.0\n",
    "            }\n",
    "        ]\n",
    "    },\n",
    "]\n",
    "queried_result"
   ]
  },
  {
   "cell_type": "code",
   "execution_count": 2,
   "metadata": {},
   "outputs": [
    {
     "name": "stdout",
     "output_type": "stream",
     "text": [
      "[\n",
      "    {\n",
      "        \"id\": 10,\n",
      "        \"created_at\": \"2024-05-17T12:00:00Z\",\n",
      "        \"order_status\": \"주문 완료\",\n",
      "        \"items\": [\n",
      "            {\n",
      "                \"product_name\": \"떡케익5호\",\n",
      "                \"quantity\": 1,\n",
      "                \"price\": 54000.0\n",
      "            },\n",
      "            {\n",
      "                \"product_name\": \"무지개 백설기 케익\",\n",
      "                \"quantity\": 1,\n",
      "                \"price\": 51500.0\n",
      "            }\n",
      "        ]\n",
      "    }\n",
      "]\n"
     ]
    }
   ],
   "source": [
    "import json\n",
    "\n",
    "queried_result = [\n",
    "    {\n",
    "        \"id\": 10,\n",
    "        \"created_at\": \"2024-05-17T12:00:00Z\",\n",
    "        \"order_status\": \"주문 완료\",\n",
    "        \"items\": [\n",
    "            {\n",
    "                \"product_name\": \"떡케익5호\",\n",
    "                \"quantity\": 1,\n",
    "                \"price\": 54000.0\n",
    "            },\n",
    "            {\n",
    "                \"product_name\": \"무지개 백설기 케익\",\n",
    "                \"quantity\": 1,\n",
    "                \"price\": 51500.0\n",
    "            }\n",
    "        ]\n",
    "    },\n",
    "]\n",
    "queried_result\n",
    "\n",
    "print(json.dumps(queried_result, indent=4, ensure_ascii=False))"
   ]
  },
  {
   "cell_type": "markdown",
   "metadata": {},
   "source": [
    "## 주문 변경 처리 체인"
   ]
  },
  {
   "cell_type": "code",
   "execution_count": 3,
   "metadata": {},
   "outputs": [
    {
     "data": {
      "text/plain": [
       "ChatPromptTemplate(input_variables=['input', 'queried_result'], messages=[SystemMessagePromptTemplate(prompt=PromptTemplate(input_variables=[], template=\"\\n            You are a customer service assistant responsible for processing order changes based on customer input and existing order details.\\n            \\n            Given the 'queried_result' which contains existing order details and the 'input' which contains the customer's desired order changes, combine these to finalize the order changes.\\n            \\n            Follow these steps:\\n            1. Review the 'queried_result' to understand the original order details.\\n            2. Review the 'input' to understand the customer's desired changes.\\n            3. Combine both sets of information to produce the updated order details.\\n            \\n            Ensure that the final output clearly lists the original items and the updated items in the order. If there is any mismatch or inconsistency, highlight it appropriately.\\n            \\n            \")), HumanMessagePromptTemplate(prompt=PromptTemplate(input_variables=['input', 'queried_result'], template='input:{input}\\nqueried_result:{queried_result}'))])"
      ]
     },
     "execution_count": 3,
     "metadata": {},
     "output_type": "execute_result"
    }
   ],
   "source": [
    "from langchain_core.prompts import ChatPromptTemplate, MessagesPlaceholder\n",
    "\n",
    "order_change_prompt = ChatPromptTemplate.from_messages(\n",
    "    [\n",
    "        (\n",
    "            \"system\",\n",
    "            \"\"\"\n",
    "            You are a customer service assistant responsible for processing order changes based on customer input and existing order details.\n",
    "            \n",
    "            Given the 'queried_result' which contains existing order details and the 'input' which contains the customer's desired order changes, combine these to finalize the order changes.\n",
    "            \n",
    "            Follow these steps:\n",
    "            1. Review the 'queried_result' to understand the original order details.\n",
    "            2. Review the 'input' to understand the customer's desired changes.\n",
    "            3. Combine both sets of information to produce the updated order details.\n",
    "            \n",
    "            Ensure that the final output clearly lists the original items and the updated items in the order. If there is any mismatch or inconsistency, highlight it appropriately.\n",
    "            \n",
    "            \"\"\"\n",
    "        ),\n",
    "        (\"human\", \"input:{input}\\nqueried_result:{queried_result}\")\n",
    "    ]\n",
    ")\n",
    "\n",
    "order_change_prompt\n"
   ]
  },
  {
   "cell_type": "code",
   "execution_count": 4,
   "metadata": {},
   "outputs": [],
   "source": [
    "from langchain_openai import ChatOpenAI\n",
    "\n",
    "model = ChatOpenAI()"
   ]
  },
  {
   "cell_type": "code",
   "execution_count": 5,
   "metadata": {},
   "outputs": [],
   "source": [
    "order_change_chain = order_change_prompt | model"
   ]
  },
  {
   "cell_type": "code",
   "execution_count": 6,
   "metadata": {},
   "outputs": [
    {
     "data": {
      "text/plain": [
       "AIMessage(content='Original Order Details:\\n- Order ID: 10\\n- Created At: 2024-05-17T12:00:00Z\\n- Order Status: 주문 완료\\n- Items:\\n    1. Product Name: 떡케익5호, Quantity: 1, Price: 54000.0\\n    2. Product Name: 무지개 백설기 케익, Quantity: 1, Price: 51500.0\\n\\nRequested Order Changes:\\n- New Item: Product Name: 무지개 백설기 케익, Quantity: 1\\n\\nUpdated Order Details:\\n- Order ID: 10\\n- Created At: 2024-05-17T12:00:00Z\\n- Order Status: 주문 완료\\n- Items:\\n    1. Product Name: 떡케익5호, Quantity: 1, Price: 54000.0\\n    2. Product Name: 무지개 백설기 케익, Quantity: 1, Price: 51500.0 (No change)\\n\\nIt seems that the requested change is already included in the original order. No further action is needed.', response_metadata={'token_usage': {'completion_tokens': 272, 'prompt_tokens': 294, 'total_tokens': 566}, 'model_name': 'gpt-3.5-turbo', 'system_fingerprint': None, 'finish_reason': 'stop', 'logprobs': None}, id='run-439bbeb0-f62d-40aa-9981-2a8d3b562ca2-0')"
      ]
     },
     "execution_count": 6,
     "metadata": {},
     "output_type": "execute_result"
    }
   ],
   "source": [
    "response = order_change_chain.invoke(\n",
    "    {\"input\": \"무지개 백설기 케익만 주문할게요\",\n",
    "     \"queried_result\": queried_result}\n",
    "    )\n",
    "response"
   ]
  },
  {
   "cell_type": "code",
   "execution_count": 7,
   "metadata": {},
   "outputs": [
    {
     "name": "stdout",
     "output_type": "stream",
     "text": [
      "Original Order Details:\n",
      "- Order ID: 10\n",
      "- Created At: 2024-05-17T12:00:00Z\n",
      "- Order Status: 주문 완료\n",
      "- Items:\n",
      "    1. Product Name: 떡케익5호, Quantity: 1, Price: 54000.0\n",
      "    2. Product Name: 무지개 백설기 케익, Quantity: 1, Price: 51500.0\n",
      "\n",
      "Requested Order Changes:\n",
      "- New Item: Product Name: 무지개 백설기 케익, Quantity: 1\n",
      "\n",
      "Updated Order Details:\n",
      "- Order ID: 10\n",
      "- Created At: 2024-05-17T12:00:00Z\n",
      "- Order Status: 주문 완료\n",
      "- Items:\n",
      "    1. Product Name: 떡케익5호, Quantity: 1, Price: 54000.0\n",
      "    2. Product Name: 무지개 백설기 케익, Quantity: 1, Price: 51500.0 (No change)\n",
      "\n",
      "It seems that the requested change is already included in the original order. No further action is needed.\n"
     ]
    }
   ],
   "source": [
    "print(response.content)"
   ]
  },
  {
   "cell_type": "code",
   "execution_count": 19,
   "metadata": {},
   "outputs": [],
   "source": [
    "from langchain_core.output_parsers import PydanticOutputParser\n",
    "from langchain_core.prompts import PromptTemplate\n",
    "from langchain_core.pydantic_v1 import BaseModel, Field, validator\n",
    "from langchain_openai import OpenAI\n",
    "\n",
    "model = OpenAI(model_name=\"gpt-3.5-turbo-instruct\", temperature=0.0)\n",
    "\n",
    "# Define the desired data structure for order details.\n",
    "class OrderItem(BaseModel):\n",
    "    product_name: str = Field(description=\"The name of the product\")\n",
    "    quantity: int = Field(description=\"The quantity of the product\")\n",
    "    price: float = Field(description=\"The price of the product\")\n",
    "\n",
    "class OrderDetails(BaseModel):\n",
    "    id: int = Field(description=\"The order ID\")\n",
    "    created_at: str = Field(description=\"The order creation date\")\n",
    "    order_status: str = Field(description=\"The current status of the order\")\n",
    "    items: list[OrderItem] = Field(description=\"The items in the order\")\n",
    "\n",
    "# Set up a parser\n",
    "parser = PydanticOutputParser(pydantic_object=OrderDetails)"
   ]
  },
  {
   "cell_type": "code",
   "execution_count": 30,
   "metadata": {},
   "outputs": [],
   "source": [
    "# Define the prompt template\n",
    "prompt = PromptTemplate(\n",
    "    template=\"\"\"\n",
    "    You are a customer service assistant responsible for processing order changes based on customer input and existing order details.\n",
    "    \n",
    "    Given the 'queried_result' which contains existing order details and the 'input' which contains the customer's desired order changes, combine these to finalize the order changes.\n",
    "    \n",
    "    Follow these steps:\n",
    "    1. Review the 'queried_result' to understand the original order details.\n",
    "    2. Review the 'input' to understand the customer's desired changes.\n",
    "    3. Combine both sets of information to produce the updated order details.\n",
    "    \n",
    "    Ensure that the final output includes only the updated items in the order, formatted the same way as the original order, and set the order_status to '주문 변경'.\n",
    "\n",
    "    {format_instructions}\n",
    "    queried_result: {queried_result}\n",
    "    input: {input}\n",
    "    \"\"\",\n",
    "    input_variables=[\"queried_result\", \"input\"],\n",
    "    partial_variables={\"format_instructions\": parser.get_format_instructions()},\n",
    ")"
   ]
  },
  {
   "cell_type": "code",
   "execution_count": 31,
   "metadata": {},
   "outputs": [],
   "source": [
    "# Create the prompt and model pipeline\n",
    "prompt_and_model = prompt | model"
   ]
  },
  {
   "cell_type": "code",
   "execution_count": 32,
   "metadata": {},
   "outputs": [],
   "source": [
    "# Example query with sample data\n",
    "queried_result = {\n",
    "    \"id\": 10,\n",
    "    \"created_at\": \"2024-05-17T12:00:00Z\",\n",
    "    \"order_status\": \"주문 완료\",\n",
    "    \"items\": [\n",
    "        {\n",
    "            \"product_name\": \"떡케익5호\",\n",
    "            \"quantity\": 1,\n",
    "            \"price\": 54000.0\n",
    "        },\n",
    "        {\n",
    "            \"product_name\": \"무지개 백설기 케익\",\n",
    "            \"quantity\": 1,\n",
    "            \"price\": 51500.0\n",
    "        }\n",
    "    ]\n",
    "}"
   ]
  },
  {
   "cell_type": "code",
   "execution_count": 33,
   "metadata": {},
   "outputs": [
    {
     "name": "stdout",
     "output_type": "stream",
     "text": [
      "id=10 created_at='2024-05-17T12:00:00Z' order_status='주문 변경' items=[OrderItem(product_name='무지개 백설기 케익', quantity=1, price=51500.0)]\n"
     ]
    }
   ],
   "source": [
    "# Invoke the model\n",
    "output = prompt_and_model.invoke({\"queried_result\": queried_result, \"input\": \"무지개 백설기 케익만 주문할게요\"})\n",
    "parsed_output = parser.parse(output)\n",
    "\n",
    "# Print the parsed output\n",
    "print(parsed_output)\n"
   ]
  },
  {
   "cell_type": "code",
   "execution_count": 34,
   "metadata": {},
   "outputs": [
    {
     "name": "stdout",
     "output_type": "stream",
     "text": [
      "\n",
      "    {\"id\": 10, \"created_at\": \"2024-05-17T12:00:00Z\", \"order_status\": \"주문 변경\", \"items\": [{\"product_name\": \"무지개 백설기 케익\", \"quantity\": 1, \"price\": 51500.0}]}\n"
     ]
    }
   ],
   "source": [
    "print(output)"
   ]
  },
  {
   "cell_type": "markdown",
   "metadata": {},
   "source": [
    "## products 필드 추가"
   ]
  },
  {
   "cell_type": "code",
   "execution_count": 41,
   "metadata": {},
   "outputs": [],
   "source": [
    "prompt = PromptTemplate(\n",
    "    template=\"\"\"\n",
    "    You are a customer service assistant responsible for processing order changes based on customer input and existing order details.\n",
    "    \n",
    "    Given the 'queried_result' which contains existing order details and the 'input' which contains the customer's desired order changes, combine these to finalize the order changes.\n",
    "    \n",
    "    Follow these steps:\n",
    "    1. Review the 'queried_result' to understand the original order details.\n",
    "    2. Review the 'input' to understand the customer's desired changes.\n",
    "    3. Combine both sets of information to produce the updated order details.\n",
    "    \n",
    "    Ensure that the final output includes only the updated items in the order, formatted the same way as the original order, and set the order_status to '주문 변경'.\n",
    "\n",
    "    {format_instructions}\n",
    "    products: {products}\n",
    "    queried_result: {queried_result}\n",
    "    input: {input}\n",
    "    \"\"\",\n",
    "    input_variables=[\"products\", \"queried_result\", \"input\"],\n",
    "    partial_variables={\"format_instructions\": parser.get_format_instructions()},\n",
    ")"
   ]
  },
  {
   "cell_type": "code",
   "execution_count": 42,
   "metadata": {},
   "outputs": [],
   "source": [
    "prompt_and_model = prompt | model"
   ]
  },
  {
   "cell_type": "code",
   "execution_count": 43,
   "metadata": {},
   "outputs": [
    {
     "data": {
      "text/plain": [
       "[{'product_name': '떡케익5호', 'quantity': 1, 'price': 54000},\n",
       " {'product_name': '무지개 백설기 케익', 'quantity': 1, 'price': 51500},\n",
       " {'product_name': '미니 백설기', 'quantity': 35, 'price': 31500},\n",
       " {'product_name': '개별 모듬팩', 'quantity': 1, 'price': 13500}]"
      ]
     },
     "execution_count": 43,
     "metadata": {},
     "output_type": "execute_result"
    }
   ],
   "source": [
    "products"
   ]
  },
  {
   "cell_type": "code",
   "execution_count": 48,
   "metadata": {},
   "outputs": [
    {
     "data": {
      "text/plain": [
       "{'id': 10,\n",
       " 'created_at': '2024-05-17T12:00:00Z',\n",
       " 'order_status': '주문 완료',\n",
       " 'items': [{'product_name': '떡케익5호', 'quantity': 1, 'price': 54000.0},\n",
       "  {'product_name': '무지개 백설기 케익', 'quantity': 1, 'price': 51500.0}]}"
      ]
     },
     "execution_count": 48,
     "metadata": {},
     "output_type": "execute_result"
    }
   ],
   "source": [
    "queried_result"
   ]
  },
  {
   "cell_type": "code",
   "execution_count": 45,
   "metadata": {},
   "outputs": [],
   "source": [
    "output = prompt_and_model.invoke({\n",
    "    \"products\": products,\n",
    "    \"queried_result\": queried_result, \n",
    "    \"input\": \"무지개 백설기 케익 빼고 개별 모듬팩 2개 주문할게요\"})\n",
    "parsed_output = parser.parse(output)"
   ]
  },
  {
   "cell_type": "code",
   "execution_count": 46,
   "metadata": {},
   "outputs": [
    {
     "name": "stdout",
     "output_type": "stream",
     "text": [
      "\n",
      "    {\"id\": 10, \"created_at\": \"2024-05-17T12:00:00Z\", \"order_status\": \"주문 변경\", \"items\": [{\"product_name\": \"떡케익5호\", \"quantity\": 1, \"price\": 54000.0}, {\"product_name\": \"개별 모듬팩\", \"quantity\": 2, \"price\": 13500.0}]}\n"
     ]
    }
   ],
   "source": [
    "print(output)"
   ]
  },
  {
   "cell_type": "code",
   "execution_count": 47,
   "metadata": {},
   "outputs": [
    {
     "name": "stdout",
     "output_type": "stream",
     "text": [
      "id=10 created_at='2024-05-17T12:00:00Z' order_status='주문 변경' items=[OrderItem(product_name='떡케익5호', quantity=1, price=54000.0), OrderItem(product_name='개별 모듬팩', quantity=2, price=13500.0)]\n"
     ]
    }
   ],
   "source": [
    "print(parsed_output)"
   ]
  },
  {
   "cell_type": "markdown",
   "metadata": {},
   "source": [
    "# 상품 정보 추가하기"
   ]
  },
  {
   "cell_type": "code",
   "execution_count": 54,
   "metadata": {},
   "outputs": [
    {
     "ename": "TypeError",
     "evalue": "Expected a Runnable, callable or dict.Instead got an unsupported type: <class 'str'>",
     "output_type": "error",
     "traceback": [
      "\u001b[1;31m---------------------------------------------------------------------------\u001b[0m",
      "\u001b[1;31mTypeError\u001b[0m                                 Traceback (most recent call last)",
      "Cell \u001b[1;32mIn[54], line 3\u001b[0m\n\u001b[0;32m      1\u001b[0m \u001b[38;5;28;01mfrom\u001b[39;00m \u001b[38;5;21;01mlangchain_core\u001b[39;00m\u001b[38;5;21;01m.\u001b[39;00m\u001b[38;5;21;01mrunnables\u001b[39;00m \u001b[38;5;28;01mimport\u001b[39;00m RunnablePassthrough\n\u001b[1;32m----> 3\u001b[0m \u001b[43mRunnablePassthrough\u001b[49m\u001b[38;5;241;43m.\u001b[39;49m\u001b[43massign\u001b[49m\u001b[43m(\u001b[49m\u001b[43mproducts\u001b[49m\u001b[38;5;241;43m=\u001b[39;49m\u001b[38;5;124;43m\"\u001b[39;49m\u001b[38;5;124;43m파일로 가져온 상품 정보\u001b[39;49m\u001b[38;5;124;43m\"\u001b[39;49m\u001b[43m)\u001b[49m\n",
      "File \u001b[1;32mc:\\Users\\Tae-su\\Grow\\repositories\\orderbot_v2\\venv\\lib\\site-packages\\langchain_core\\runnables\\passthrough.py:208\u001b[0m, in \u001b[0;36mRunnablePassthrough.assign\u001b[1;34m(cls, **kwargs)\u001b[0m\n\u001b[0;32m    187\u001b[0m \u001b[38;5;129m@classmethod\u001b[39m\n\u001b[0;32m    188\u001b[0m \u001b[38;5;28;01mdef\u001b[39;00m \u001b[38;5;21massign\u001b[39m(\n\u001b[0;32m    189\u001b[0m     \u001b[38;5;28mcls\u001b[39m,\n\u001b[1;32m   (...)\u001b[0m\n\u001b[0;32m    197\u001b[0m     ],\n\u001b[0;32m    198\u001b[0m ) \u001b[38;5;241m-\u001b[39m\u001b[38;5;241m>\u001b[39m \u001b[38;5;124m\"\u001b[39m\u001b[38;5;124mRunnableAssign\u001b[39m\u001b[38;5;124m\"\u001b[39m:\n\u001b[0;32m    199\u001b[0m \u001b[38;5;250m    \u001b[39m\u001b[38;5;124;03m\"\"\"Merge the Dict input with the output produced by the mapping argument.\u001b[39;00m\n\u001b[0;32m    200\u001b[0m \n\u001b[0;32m    201\u001b[0m \u001b[38;5;124;03m    Args:\u001b[39;00m\n\u001b[1;32m   (...)\u001b[0m\n\u001b[0;32m    206\u001b[0m \u001b[38;5;124;03m        mapping argument.\u001b[39;00m\n\u001b[0;32m    207\u001b[0m \u001b[38;5;124;03m    \"\"\"\u001b[39;00m\n\u001b[1;32m--> 208\u001b[0m     \u001b[38;5;28;01mreturn\u001b[39;00m RunnableAssign(\u001b[43mRunnableParallel\u001b[49m\u001b[43m(\u001b[49m\u001b[43mkwargs\u001b[49m\u001b[43m)\u001b[49m)\n",
      "File \u001b[1;32mc:\\Users\\Tae-su\\Grow\\repositories\\orderbot_v2\\venv\\lib\\site-packages\\langchain_core\\runnables\\base.py:3007\u001b[0m, in \u001b[0;36mRunnableParallel.__init__\u001b[1;34m(self, steps__, **kwargs)\u001b[0m\n\u001b[0;32m   3004\u001b[0m merged \u001b[38;5;241m=\u001b[39m {\u001b[38;5;241m*\u001b[39m\u001b[38;5;241m*\u001b[39msteps__} \u001b[38;5;28;01mif\u001b[39;00m steps__ \u001b[38;5;129;01mis\u001b[39;00m \u001b[38;5;129;01mnot\u001b[39;00m \u001b[38;5;28;01mNone\u001b[39;00m \u001b[38;5;28;01melse\u001b[39;00m {}\n\u001b[0;32m   3005\u001b[0m merged\u001b[38;5;241m.\u001b[39mupdate(kwargs)\n\u001b[0;32m   3006\u001b[0m \u001b[38;5;28msuper\u001b[39m()\u001b[38;5;241m.\u001b[39m\u001b[38;5;21m__init__\u001b[39m(  \u001b[38;5;66;03m# type: ignore[call-arg]\u001b[39;00m\n\u001b[1;32m-> 3007\u001b[0m     steps__\u001b[38;5;241m=\u001b[39m{key: coerce_to_runnable(r) \u001b[38;5;28;01mfor\u001b[39;00m key, r \u001b[38;5;129;01min\u001b[39;00m merged\u001b[38;5;241m.\u001b[39mitems()}\n\u001b[0;32m   3008\u001b[0m )\n",
      "File \u001b[1;32mc:\\Users\\Tae-su\\Grow\\repositories\\orderbot_v2\\venv\\lib\\site-packages\\langchain_core\\runnables\\base.py:3007\u001b[0m, in \u001b[0;36m<dictcomp>\u001b[1;34m(.0)\u001b[0m\n\u001b[0;32m   3004\u001b[0m merged \u001b[38;5;241m=\u001b[39m {\u001b[38;5;241m*\u001b[39m\u001b[38;5;241m*\u001b[39msteps__} \u001b[38;5;28;01mif\u001b[39;00m steps__ \u001b[38;5;129;01mis\u001b[39;00m \u001b[38;5;129;01mnot\u001b[39;00m \u001b[38;5;28;01mNone\u001b[39;00m \u001b[38;5;28;01melse\u001b[39;00m {}\n\u001b[0;32m   3005\u001b[0m merged\u001b[38;5;241m.\u001b[39mupdate(kwargs)\n\u001b[0;32m   3006\u001b[0m \u001b[38;5;28msuper\u001b[39m()\u001b[38;5;241m.\u001b[39m\u001b[38;5;21m__init__\u001b[39m(  \u001b[38;5;66;03m# type: ignore[call-arg]\u001b[39;00m\n\u001b[1;32m-> 3007\u001b[0m     steps__\u001b[38;5;241m=\u001b[39m{key: \u001b[43mcoerce_to_runnable\u001b[49m\u001b[43m(\u001b[49m\u001b[43mr\u001b[49m\u001b[43m)\u001b[49m \u001b[38;5;28;01mfor\u001b[39;00m key, r \u001b[38;5;129;01min\u001b[39;00m merged\u001b[38;5;241m.\u001b[39mitems()}\n\u001b[0;32m   3008\u001b[0m )\n",
      "File \u001b[1;32mc:\\Users\\Tae-su\\Grow\\repositories\\orderbot_v2\\venv\\lib\\site-packages\\langchain_core\\runnables\\base.py:4977\u001b[0m, in \u001b[0;36mcoerce_to_runnable\u001b[1;34m(thing)\u001b[0m\n\u001b[0;32m   4975\u001b[0m     \u001b[38;5;28;01mreturn\u001b[39;00m cast(Runnable[Input, Output], RunnableParallel(thing))\n\u001b[0;32m   4976\u001b[0m \u001b[38;5;28;01melse\u001b[39;00m:\n\u001b[1;32m-> 4977\u001b[0m     \u001b[38;5;28;01mraise\u001b[39;00m \u001b[38;5;167;01mTypeError\u001b[39;00m(\n\u001b[0;32m   4978\u001b[0m         \u001b[38;5;124mf\u001b[39m\u001b[38;5;124m\"\u001b[39m\u001b[38;5;124mExpected a Runnable, callable or dict.\u001b[39m\u001b[38;5;124m\"\u001b[39m\n\u001b[0;32m   4979\u001b[0m         \u001b[38;5;124mf\u001b[39m\u001b[38;5;124m\"\u001b[39m\u001b[38;5;124mInstead got an unsupported type: \u001b[39m\u001b[38;5;132;01m{\u001b[39;00m\u001b[38;5;28mtype\u001b[39m(thing)\u001b[38;5;132;01m}\u001b[39;00m\u001b[38;5;124m\"\u001b[39m\n\u001b[0;32m   4980\u001b[0m     )\n",
      "\u001b[1;31mTypeError\u001b[0m: Expected a Runnable, callable or dict.Instead got an unsupported type: <class 'str'>"
     ]
    }
   ],
   "source": [
    "from langchain_core.runnables import RunnablePassthrough\n",
    "\n",
    "RunnablePassthrough.assign(products=\"파일로 가져온 상품 정보\")"
   ]
  },
  {
   "cell_type": "code",
   "execution_count": 51,
   "metadata": {},
   "outputs": [
    {
     "data": {
      "text/plain": [
       "PromptTemplate(input_variables=['input', 'products', 'queried_result'], partial_variables={'format_instructions': 'The output should be formatted as a JSON instance that conforms to the JSON schema below.\\n\\nAs an example, for the schema {\"properties\": {\"foo\": {\"title\": \"Foo\", \"description\": \"a list of strings\", \"type\": \"array\", \"items\": {\"type\": \"string\"}}}, \"required\": [\"foo\"]}\\nthe object {\"foo\": [\"bar\", \"baz\"]} is a well-formatted instance of the schema. The object {\"properties\": {\"foo\": [\"bar\", \"baz\"]}} is not well-formatted.\\n\\nHere is the output schema:\\n```\\n{\"properties\": {\"id\": {\"title\": \"Id\", \"description\": \"The order ID\", \"type\": \"integer\"}, \"created_at\": {\"title\": \"Created At\", \"description\": \"The order creation date\", \"type\": \"string\"}, \"order_status\": {\"title\": \"Order Status\", \"description\": \"The current status of the order\", \"type\": \"string\"}, \"items\": {\"title\": \"Items\", \"description\": \"The items in the order\", \"type\": \"array\", \"items\": {\"$ref\": \"#/definitions/OrderItem\"}}}, \"required\": [\"id\", \"created_at\", \"order_status\", \"items\"], \"definitions\": {\"OrderItem\": {\"title\": \"OrderItem\", \"type\": \"object\", \"properties\": {\"product_name\": {\"title\": \"Product Name\", \"description\": \"The name of the product\", \"type\": \"string\"}, \"quantity\": {\"title\": \"Quantity\", \"description\": \"The quantity of the product\", \"type\": \"integer\"}, \"price\": {\"title\": \"Price\", \"description\": \"The price of the product\", \"type\": \"number\"}}, \"required\": [\"product_name\", \"quantity\", \"price\"]}}}\\n```'}, template=\"\\n    You are a customer service assistant responsible for processing order changes based on customer input and existing order details.\\n    \\n    Given the 'queried_result' which contains existing order details and the 'input' which contains the customer's desired order changes, combine these to finalize the order changes.\\n    \\n    Follow these steps:\\n    1. Review the 'queried_result' to understand the original order details.\\n    2. Review the 'input' to understand the customer's desired changes.\\n    3. Combine both sets of information to produce the updated order details.\\n    \\n    Ensure that the final output includes only the updated items in the order, formatted the same way as the original order, and set the order_status to '주문 변경'.\\n\\n    {format_instructions}\\n    products: {products}\\n    queried_result: {queried_result}\\n    input: {input}\\n    \")"
      ]
     },
     "execution_count": 51,
     "metadata": {},
     "output_type": "execute_result"
    }
   ],
   "source": [
    "order_chagne_prompt = PromptTemplate(\n",
    "    template=\"\"\"\n",
    "    You are a customer service assistant responsible for processing order changes based on customer input and existing order details.\n",
    "    \n",
    "    Given the 'queried_result' which contains existing order details and the 'input' which contains the customer's desired order changes, combine these to finalize the order changes.\n",
    "    \n",
    "    Follow these steps:\n",
    "    1. Review the 'queried_result' to understand the original order details.\n",
    "    2. Review the 'input' to understand the customer's desired changes.\n",
    "    3. Combine both sets of information to produce the updated order details.\n",
    "    \n",
    "    Ensure that the final output includes only the updated items in the order, formatted the same way as the original order, and set the order_status to '주문 변경'.\n",
    "\n",
    "    {format_instructions}\n",
    "    products: {products}\n",
    "    queried_result: {queried_result}\n",
    "    input: {input}\n",
    "    \"\"\",\n",
    "    input_variables=[\"products\", \"queried_result\", \"input\"],\n",
    "    partial_variables={\"format_instructions\": parser.get_format_instructions()},\n",
    ")\n",
    "order_change_prompt"
   ]
  },
  {
   "cell_type": "code",
   "execution_count": 52,
   "metadata": {},
   "outputs": [
    {
     "data": {
      "text/plain": [
       "PromptTemplate(input_variables=['input', 'products', 'queried_result'], partial_variables={'format_instructions': 'The output should be formatted as a JSON instance that conforms to the JSON schema below.\\n\\nAs an example, for the schema {\"properties\": {\"foo\": {\"title\": \"Foo\", \"description\": \"a list of strings\", \"type\": \"array\", \"items\": {\"type\": \"string\"}}}, \"required\": [\"foo\"]}\\nthe object {\"foo\": [\"bar\", \"baz\"]} is a well-formatted instance of the schema. The object {\"properties\": {\"foo\": [\"bar\", \"baz\"]}} is not well-formatted.\\n\\nHere is the output schema:\\n```\\n{\"properties\": {\"id\": {\"title\": \"Id\", \"description\": \"The order ID\", \"type\": \"integer\"}, \"created_at\": {\"title\": \"Created At\", \"description\": \"The order creation date\", \"type\": \"string\"}, \"order_status\": {\"title\": \"Order Status\", \"description\": \"The current status of the order\", \"type\": \"string\"}, \"items\": {\"title\": \"Items\", \"description\": \"The items in the order\", \"type\": \"array\", \"items\": {\"$ref\": \"#/definitions/OrderItem\"}}}, \"required\": [\"id\", \"created_at\", \"order_status\", \"items\"], \"definitions\": {\"OrderItem\": {\"title\": \"OrderItem\", \"type\": \"object\", \"properties\": {\"product_name\": {\"title\": \"Product Name\", \"description\": \"The name of the product\", \"type\": \"string\"}, \"quantity\": {\"title\": \"Quantity\", \"description\": \"The quantity of the product\", \"type\": \"integer\"}, \"price\": {\"title\": \"Price\", \"description\": \"The price of the product\", \"type\": \"number\"}}, \"required\": [\"product_name\", \"quantity\", \"price\"]}}}\\n```'}, template=\"\\n    You are a customer service assistant responsible for processing order changes based on customer input and existing order details.\\n    \\n    Given the 'queried_result' which contains existing order details and the 'input' which contains the customer's desired order changes, combine these to finalize the order changes.\\n    \\n    Follow these steps:\\n    1. Review the 'queried_result' to understand the original order details.\\n    2. Review the 'input' to understand the customer's desired changes.\\n    3. Combine both sets of information to produce the updated order details.\\n    \\n    Ensure that the final output includes only the updated items in the order, formatted the same way as the original order, and set the order_status to '주문 변경'.\\n\\n    {format_instructions}\\n    products: {products}\\n    queried_result: {queried_result}\\n    input: {input}\\n    \")\n",
       "| OpenAI(client=<openai.resources.completions.Completions object at 0x0000024B3A2702B0>, async_client=<openai.resources.completions.AsyncCompletions object at 0x0000024B58745DB0>, temperature=0.0, openai_api_key=SecretStr('**********'), openai_proxy='')"
      ]
     },
     "execution_count": 52,
     "metadata": {},
     "output_type": "execute_result"
    }
   ],
   "source": [
    "order_change_chain = order_change_prompt | model\n",
    "order_change_chain"
   ]
  },
  {
   "cell_type": "code",
   "execution_count": null,
   "metadata": {},
   "outputs": [],
   "source": [
    "handle_order_change = RunnablePassthrough.assign(products=\"파일로 가져온 상품 정보\") | order_change_chain \n",
    "handle_order_change"
   ]
  }
 ],
 "metadata": {
  "kernelspec": {
   "display_name": "venv",
   "language": "python",
   "name": "python3"
  },
  "language_info": {
   "codemirror_mode": {
    "name": "ipython",
    "version": 3
   },
   "file_extension": ".py",
   "mimetype": "text/x-python",
   "name": "python",
   "nbconvert_exporter": "python",
   "pygments_lexer": "ipython3",
   "version": "3.10.5"
  }
 },
 "nbformat": 4,
 "nbformat_minor": 2
}
