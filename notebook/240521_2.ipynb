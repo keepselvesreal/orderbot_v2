{
 "cells": [
  {
   "cell_type": "code",
   "execution_count": 1,
   "metadata": {},
   "outputs": [],
   "source": [
    "from langchain_core.prompts import ChatPromptTemplate, MessagesPlaceholder\n",
    "\n",
    "message_type_prompt = ChatPromptTemplate.from_messages(\n",
    "    [\n",
    "        (\n",
    "            \"system\",\n",
    "            \"\"\"\n",
    "            You are a robot that classifies customer input messages into one of the following two types:\n",
    "            - Product inquiry, order history inquiry, order change history inquiry, order cancellation history inquiry: '문의'\n",
    "            - Order request, order change request, order cancellation request: '요청'\n",
    "            \n",
    "            You need to review the messages in the Messages Placeholder from the latest to the oldest.\n",
    "\n",
    "            Consider the previous AI responses and their classifications to understand the intent behind the current input. \n",
    "            Use this context to make an accurate classification. \n",
    "            If the latest AI response was classified as '요청', and the current input is related to an order, it is likely a '요청'.\n",
    "            \n",
    "            Additionally, if the input contains order details, it should be classified as '요청'.\n",
    "            \"\"\"\n",
    "        ),\n",
    "        MessagesPlaceholder(variable_name=\"chat_history\"),\n",
    "        (\"human\", \"{input}\"),\n",
    "    ]\n",
    ")"
   ]
  },
  {
   "cell_type": "code",
   "execution_count": 3,
   "metadata": {},
   "outputs": [],
   "source": [
    "from langchain_openai import ChatOpenAI\n",
    "\n",
    "model = ChatOpenAI()"
   ]
  },
  {
   "cell_type": "code",
   "execution_count": 4,
   "metadata": {},
   "outputs": [],
   "source": [
    "classify_message_chain = message_type_prompt | model"
   ]
  },
  {
   "cell_type": "code",
   "execution_count": 6,
   "metadata": {},
   "outputs": [],
   "source": [
    "store = {}"
   ]
  },
  {
   "cell_type": "code",
   "execution_count": 7,
   "metadata": {},
   "outputs": [],
   "source": [
    "from typing import List, Optional\n",
    "from langchain_core.pydantic_v1 import BaseModel, Field\n",
    "from langchain_core.messages import BaseMessage, AIMessage, HumanMessage\n",
    "from langchain_core.chat_history import BaseChatMessageHistory\n",
    "from langchain_community.chat_message_histories import ChatMessageHistory\n",
    "from langchain_core.runnables.history import RunnableWithMessageHistory\n",
    "from langchain_core.runnables import RunnableLambda\n",
    "\n",
    "\n",
    "class InMemoryHistory(BaseChatMessageHistory, BaseModel):\n",
    "    messages: List[BaseMessage] = Field(default_factory=list)\n",
    "    save_mode: Optional[str] = Field(default=\"both\")  # \"input\", \"output\", \"both\"\n",
    "    \n",
    "    def add_messages(self, messages: List[BaseMessage]) -> None:\n",
    "        \"\"\"조건에 따라 메시지를 저장\"\"\"\n",
    "        if self.save_mode == \"input\":\n",
    "            input_messages = [msg for msg in messages if isinstance(msg, HumanMessage)]\n",
    "            self.messages.extend(input_messages)\n",
    "        elif self.save_mode == \"output\":\n",
    "            output_messages = [msg for msg in messages if isinstance(msg, AIMessage)]\n",
    "            self.messages.extend(output_messages)\n",
    "        elif self.save_mode == \"both\":\n",
    "            self.messages.extend(messages)\n",
    "\n",
    "    def clear(self) -> None:\n",
    "        self.messages = []\n",
    "\n",
    "# store = {}\n",
    "def get_by_session_id(session_id: str, save_mode: str = \"both\") -> BaseChatMessageHistory:\n",
    "    if session_id not in store:\n",
    "        store[session_id] = InMemoryHistory(save_mode=save_mode)\n",
    "    return store[session_id]\n",
    "\n",
    "def create_chain_with_memory(chain, save_mode: str) -> RunnableWithMessageHistory:\n",
    "    def get_session_history_with_mode(session_id: str) -> BaseChatMessageHistory:\n",
    "        return get_by_session_id(session_id, save_mode)\n",
    "    \n",
    "    return RunnableWithMessageHistory(\n",
    "        chain,\n",
    "        get_session_history=get_session_history_with_mode,\n",
    "        input_messages_key=\"input\",\n",
    "        history_messages_key=\"chat_history\",\n",
    "    )"
   ]
  },
  {
   "cell_type": "code",
   "execution_count": 8,
   "metadata": {},
   "outputs": [
    {
     "data": {
      "text/plain": [
       "RunnableWithMessageHistory(bound=RunnableBinding(bound=RunnableBinding(bound=RunnableAssign(mapper={\n",
       "  chat_history: RunnableBinding(bound=RunnableLambda(_enter_history), config={'run_name': 'load_history'})\n",
       "}), config={'run_name': 'insert_history'})\n",
       "| RunnableBinding(bound=ChatPromptTemplate(input_variables=['chat_history', 'input'], input_types={'chat_history': typing.List[typing.Union[langchain_core.messages.ai.AIMessage, langchain_core.messages.human.HumanMessage, langchain_core.messages.chat.ChatMessage, langchain_core.messages.system.SystemMessage, langchain_core.messages.function.FunctionMessage, langchain_core.messages.tool.ToolMessage]]}, messages=[SystemMessagePromptTemplate(prompt=PromptTemplate(input_variables=[], template=\"\\n            You are a robot that classifies customer input messages into one of the following two types:\\n            - Product inquiry, order history inquiry, order change history inquiry, order cancellation history inquiry: '문의'\\n            - Order request, order change request, order cancellation request: '요청'\\n            \\n            You need to review the messages in the Messages Placeholder from the latest to the oldest.\\n\\n            Consider the previous AI responses and their classifications to understand the intent behind the current input. \\n            Use this context to make an accurate classification. \\n            If the latest AI response was classified as '요청', and the current input is related to an order, it is likely a '요청'.\\n            \\n            Additionally, if the input contains order details, it should be classified as '요청'.\\n            \")), MessagesPlaceholder(variable_name='chat_history'), HumanMessagePromptTemplate(prompt=PromptTemplate(input_variables=['input'], template='{input}'))])\n",
       "  | ChatOpenAI(client=<openai.resources.chat.completions.Completions object at 0x000001F9A7A5F7C0>, async_client=<openai.resources.chat.completions.AsyncCompletions object at 0x000001F9A7A88F10>, openai_api_key=SecretStr('**********'), openai_proxy=''), config_factories=[<function Runnable.with_listeners.<locals>.<lambda> at 0x000001F9A7AC9EA0>]), config={'run_name': 'RunnableWithMessageHistory'}), get_session_history=<function create_chain_with_memory.<locals>.get_session_history_with_mode at 0x000001F9A7AC9E10>, input_messages_key='input', history_messages_key='chat_history', history_factory_config=[ConfigurableFieldSpec(id='session_id', annotation=<class 'str'>, name='Session ID', description='Unique identifier for a session.', default='', is_shared=True, dependencies=None)])"
      ]
     },
     "execution_count": 8,
     "metadata": {},
     "output_type": "execute_result"
    }
   ],
   "source": [
    "chain_with_history_input_only = create_chain_with_memory(classify_message_chain, \"input\")\n",
    "chain_with_history_input_only"
   ]
  },
  {
   "cell_type": "code",
   "execution_count": 9,
   "metadata": {},
   "outputs": [
    {
     "name": "stderr",
     "output_type": "stream",
     "text": [
      "Parent run ebf00f24-7d41-4cbe-b823-c0b68d3913f8 not found for run ec5063ba-1a7c-4a24-819e-b59ebf89f3a6. Treating as a root run.\n"
     ]
    }
   ],
   "source": [
    "response_input_only = chain_with_history_input_only.invoke(\n",
    "    {\"input\": \"주문 변경하고 싶어\"},\n",
    "    config={\"configurable\": {\"session_id\": \"input_only\"}}\n",
    ")"
   ]
  },
  {
   "cell_type": "code",
   "execution_count": 10,
   "metadata": {},
   "outputs": [
    {
     "data": {
      "text/plain": [
       "{'input_only': InMemoryHistory(messages=[HumanMessage(content='주문 변경하고 싶어')], save_mode='input')}"
      ]
     },
     "execution_count": 10,
     "metadata": {},
     "output_type": "execute_result"
    }
   ],
   "source": [
    "store"
   ]
  },
  {
   "cell_type": "markdown",
   "metadata": {},
   "source": [
    "# context 추가 가능"
   ]
  },
  {
   "cell_type": "code",
   "execution_count": 11,
   "metadata": {},
   "outputs": [],
   "source": [
    "from typing import List, Optional\n",
    "from langchain_core.chat_history import BaseChatMessageHistory\n",
    "from langchain_core.messages import BaseMessage, AIMessage, HumanMessage\n",
    "from langchain_core.pydantic_v1 import BaseModel, Field\n",
    "\n",
    "class InMemoryHistory(BaseChatMessageHistory, BaseModel):\n",
    "    messages: List[BaseMessage] = Field(default_factory=list)\n",
    "    save_mode: Optional[str] = Field(default=\"both\")  # \"input\", \"output\", \"both\"\n",
    "    \n",
    "    def add_messages(self, messages: List[BaseMessage], context: Optional[str] = None) -> None:\n",
    "        \"\"\"조건에 따라 메시지를 저장하고, 맥락을 결합\"\"\"\n",
    "        if self.save_mode == \"input\":\n",
    "            input_messages = [msg for msg in messages if isinstance(msg, HumanMessage)]\n",
    "            self.messages.extend(input_messages)\n",
    "        elif self.save_mode == \"output\":\n",
    "            output_messages = [msg for msg in messages if isinstance(msg, AIMessage)]\n",
    "            if context and output_messages:\n",
    "                output_messages[0].content = f\"{context}\\n{output_messages[0].content}\"\n",
    "            self.messages.extend(output_messages)\n",
    "        elif self.save_mode == \"both\":\n",
    "            if context:\n",
    "                first_output_added = False\n",
    "                for msg in messages:\n",
    "                    if isinstance(msg, AIMessage) and not first_output_added:\n",
    "                        msg.content = f\"{context}\\n{msg.content}\"\n",
    "                        first_output_added = True\n",
    "            self.messages.extend(messages)\n",
    "\n",
    "    def clear(self) -> None:\n",
    "        self.messages = []\n",
    "\n",
    "store = {}\n",
    "\n",
    "def get_by_session_id(session_id: str, save_mode: str = \"both\") -> BaseChatMessageHistory:\n",
    "    if session_id not in store:\n",
    "        store[session_id] = InMemoryHistory(save_mode=save_mode)\n",
    "    return store[session_id]\n"
   ]
  },
  {
   "cell_type": "code",
   "execution_count": 12,
   "metadata": {},
   "outputs": [],
   "source": [
    "from langchain_core.prompts import ChatPromptTemplate, MessagesPlaceholder\n",
    "from langchain_community.chat_models import ChatAnthropic\n",
    "from langchain_core.runnables.history import RunnableWithMessageHistory\n",
    "\n",
    "def create_chain_with_memory(chain, save_mode: str) -> RunnableWithMessageHistory:\n",
    "    def get_session_history_with_mode(session_id: str) -> BaseChatMessageHistory:\n",
    "        return get_by_session_id(session_id, save_mode)\n",
    "    \n",
    "    class CustomRunnableWithMessageHistory(RunnableWithMessageHistory):\n",
    "        def invoke(self, input: dict, config: Optional[dict] = None, context: Optional[str] = None) -> dict:\n",
    "            history = self.get_session_history(config[\"configurable\"][\"session_id\"])\n",
    "            result = super().invoke(input, config)\n",
    "            history.add_messages([result], context=context)\n",
    "            return result\n",
    "\n",
    "    return CustomRunnableWithMessageHistory(\n",
    "        chain,\n",
    "        get_session_history=get_session_history_with_mode,\n",
    "        input_messages_key=\"question\",\n",
    "        history_messages_key=\"history\",\n",
    "    )\n"
   ]
  },
  {
   "cell_type": "code",
   "execution_count": 14,
   "metadata": {},
   "outputs": [],
   "source": [
    "# 예제 사용법\n",
    "prompt = ChatPromptTemplate.from_messages([\n",
    "    (\"system\", \"You're an assistant who's good at {ability}\"),\n",
    "    MessagesPlaceholder(variable_name=\"history\"),\n",
    "    (\"human\", \"{question}\"),\n",
    "])\n",
    "\n",
    "chain = prompt | model"
   ]
  },
  {
   "cell_type": "code",
   "execution_count": 25,
   "metadata": {},
   "outputs": [],
   "source": [
    "store = {}"
   ]
  },
  {
   "cell_type": "code",
   "execution_count": 26,
   "metadata": {},
   "outputs": [
    {
     "name": "stderr",
     "output_type": "stream",
     "text": [
      "Parent run fad7cfeb-31ca-4eae-87e9-8ad83be9f8ec not found for run de16315f-4de4-4ef4-838e-d235b61b5290. Treating as a root run.\n",
      "Parent run 9a768410-253b-4326-aef2-637ca5961fb4 not found for run 32cef166-6c93-424d-95c8-e2ba3095378b. Treating as a root run.\n"
     ]
    },
    {
     "name": "stdout",
     "output_type": "stream",
     "text": [
      "content='Cosine is a trigonometric function that represents the ratio of the length of the adjacent side to the length of the hypotenuse in a right triangle. In simpler terms, cosine is a function that relates the angle of a right triangle to the ratio of the length of the adjacent side to the hypotenuse. It is commonly denoted as cos.' response_metadata={'token_usage': {'completion_tokens': 72, 'prompt_tokens': 25, 'total_tokens': 97}, 'model_name': 'gpt-3.5-turbo', 'system_fingerprint': None, 'finish_reason': 'stop', 'logprobs': None} id='run-c33c37f3-f178-47c4-973c-c1fcd934aa36-0'\n"
     ]
    },
    {
     "name": "stderr",
     "output_type": "stream",
     "text": [
      "Parent run 2b927dfe-9b46-4682-a467-bcda1b7bafa2 not found for run c2ec2851-7b56-45ad-a569-f257f8752347. Treating as a root run.\n"
     ]
    },
    {
     "name": "stdout",
     "output_type": "stream",
     "text": [
      "content='Additional context for output only\\nCosine is a trigonometric function that represents the ratio of the length of the adjacent side to the length of the hypotenuse in a right triangle. In simpler terms, cosine is a function that gives the ratio of the length of the side adjacent to an angle in a right triangle to the length of the hypotenuse. It is denoted by cos(theta) or cos(x), where theta or x is the angle in the triangle.' response_metadata={'token_usage': {'completion_tokens': 90, 'prompt_tokens': 25, 'total_tokens': 115}, 'model_name': 'gpt-3.5-turbo', 'system_fingerprint': None, 'finish_reason': 'stop', 'logprobs': None} id='run-8eef939b-067d-4379-968f-dfda42ebff77-0'\n",
      "content='Additional context for both\\nCosine is a trigonometric function that represents the ratio of the adjacent side to the hypotenuse in a right triangle. In simpler terms, it is a mathematical function that describes the relationship between the length of the adjacent side and the hypotenuse in a right triangle. The cosine function is commonly used in mathematics, physics, engineering, and various other fields to solve problems involving angles and distances.' response_metadata={'token_usage': {'completion_tokens': 81, 'prompt_tokens': 25, 'total_tokens': 106}, 'model_name': 'gpt-3.5-turbo', 'system_fingerprint': None, 'finish_reason': 'stop', 'logprobs': None} id='run-d69cd060-ddc7-4757-bd01-1b7e67e1d5c3-0'\n",
      "{'input_only': InMemoryHistory(messages=[HumanMessage(content='What does cosine mean?')], save_mode='input'), 'output_only': InMemoryHistory(messages=[AIMessage(content='Additional context for output only\\nCosine is a trigonometric function that represents the ratio of the length of the adjacent side to the length of the hypotenuse in a right triangle. In simpler terms, cosine is a function that gives the ratio of the length of the side adjacent to an angle in a right triangle to the length of the hypotenuse. It is denoted by cos(theta) or cos(x), where theta or x is the angle in the triangle.', response_metadata={'token_usage': {'completion_tokens': 90, 'prompt_tokens': 25, 'total_tokens': 115}, 'model_name': 'gpt-3.5-turbo', 'system_fingerprint': None, 'finish_reason': 'stop', 'logprobs': None}, id='run-8eef939b-067d-4379-968f-dfda42ebff77-0'), AIMessage(content='Additional context for output only\\nCosine is a trigonometric function that represents the ratio of the length of the adjacent side to the length of the hypotenuse in a right triangle. In simpler terms, cosine is a function that gives the ratio of the length of the side adjacent to an angle in a right triangle to the length of the hypotenuse. It is denoted by cos(theta) or cos(x), where theta or x is the angle in the triangle.', response_metadata={'token_usage': {'completion_tokens': 90, 'prompt_tokens': 25, 'total_tokens': 115}, 'model_name': 'gpt-3.5-turbo', 'system_fingerprint': None, 'finish_reason': 'stop', 'logprobs': None}, id='run-8eef939b-067d-4379-968f-dfda42ebff77-0')], save_mode='output'), 'both': InMemoryHistory(messages=[HumanMessage(content='What does cosine mean?'), AIMessage(content='Additional context for both\\nCosine is a trigonometric function that represents the ratio of the adjacent side to the hypotenuse in a right triangle. In simpler terms, it is a mathematical function that describes the relationship between the length of the adjacent side and the hypotenuse in a right triangle. The cosine function is commonly used in mathematics, physics, engineering, and various other fields to solve problems involving angles and distances.', response_metadata={'token_usage': {'completion_tokens': 81, 'prompt_tokens': 25, 'total_tokens': 106}, 'model_name': 'gpt-3.5-turbo', 'system_fingerprint': None, 'finish_reason': 'stop', 'logprobs': None}, id='run-d69cd060-ddc7-4757-bd01-1b7e67e1d5c3-0'), AIMessage(content='Additional context for both\\nCosine is a trigonometric function that represents the ratio of the adjacent side to the hypotenuse in a right triangle. In simpler terms, it is a mathematical function that describes the relationship between the length of the adjacent side and the hypotenuse in a right triangle. The cosine function is commonly used in mathematics, physics, engineering, and various other fields to solve problems involving angles and distances.', response_metadata={'token_usage': {'completion_tokens': 81, 'prompt_tokens': 25, 'total_tokens': 106}, 'model_name': 'gpt-3.5-turbo', 'system_fingerprint': None, 'finish_reason': 'stop', 'logprobs': None}, id='run-d69cd060-ddc7-4757-bd01-1b7e67e1d5c3-0')], save_mode='both')}\n"
     ]
    }
   ],
   "source": [
    "# 입력 메시지만 저장하는 체인 생성\n",
    "chain_with_history_input_only = create_chain_with_memory(chain, \"input\")\n",
    "\n",
    "# 출력 메시지만 저장하는 체인 생성\n",
    "chain_with_history_output_only = create_chain_with_memory(chain, \"output\")\n",
    "\n",
    "# 입력 및 출력 메시지 모두 저장하는 체인 생성\n",
    "chain_with_history_both = create_chain_with_memory(chain, \"both\")\n",
    "\n",
    "# 테스트 실행\n",
    "response_input_only = chain_with_history_input_only.invoke(\n",
    "    {\"ability\": \"math\", \"question\": \"What does cosine mean?\"},\n",
    "    config={\"configurable\": {\"session_id\": \"input_only\"}},\n",
    "    context=\"Additional context for input only\"\n",
    ")\n",
    "print(response_input_only)\n",
    "\n",
    "response_output_only = chain_with_history_output_only.invoke(\n",
    "    {\"ability\": \"math\", \"question\": \"What does cosine mean?\"},\n",
    "    config={\"configurable\": {\"session_id\": \"output_only\"}},\n",
    "    context=\"Additional context for output only\"\n",
    ")\n",
    "print(response_output_only)\n",
    "\n",
    "response_both = chain_with_history_both.invoke(\n",
    "    {\"ability\": \"math\", \"question\": \"What does cosine mean?\"},\n",
    "    config={\"configurable\": {\"session_id\": \"both\"}},\n",
    "    context=\"Additional context for both\"\n",
    ")\n",
    "print(response_both)\n",
    "\n",
    "# 저장된 메시지 확인\n",
    "print(store)"
   ]
  },
  {
   "cell_type": "code",
   "execution_count": 29,
   "metadata": {},
   "outputs": [
    {
     "data": {
      "text/plain": [
       "[HumanMessage(content='What does cosine mean?')]"
      ]
     },
     "execution_count": 29,
     "metadata": {},
     "output_type": "execute_result"
    }
   ],
   "source": [
    "store[\"input_only\"].messages"
   ]
  },
  {
   "cell_type": "code",
   "execution_count": 27,
   "metadata": {},
   "outputs": [
    {
     "data": {
      "text/plain": [
       "[AIMessage(content='Additional context for output only\\nCosine is a trigonometric function that represents the ratio of the length of the adjacent side to the length of the hypotenuse in a right triangle. In simpler terms, cosine is a function that gives the ratio of the length of the side adjacent to an angle in a right triangle to the length of the hypotenuse. It is denoted by cos(theta) or cos(x), where theta or x is the angle in the triangle.', response_metadata={'token_usage': {'completion_tokens': 90, 'prompt_tokens': 25, 'total_tokens': 115}, 'model_name': 'gpt-3.5-turbo', 'system_fingerprint': None, 'finish_reason': 'stop', 'logprobs': None}, id='run-8eef939b-067d-4379-968f-dfda42ebff77-0'),\n",
       " AIMessage(content='Additional context for output only\\nCosine is a trigonometric function that represents the ratio of the length of the adjacent side to the length of the hypotenuse in a right triangle. In simpler terms, cosine is a function that gives the ratio of the length of the side adjacent to an angle in a right triangle to the length of the hypotenuse. It is denoted by cos(theta) or cos(x), where theta or x is the angle in the triangle.', response_metadata={'token_usage': {'completion_tokens': 90, 'prompt_tokens': 25, 'total_tokens': 115}, 'model_name': 'gpt-3.5-turbo', 'system_fingerprint': None, 'finish_reason': 'stop', 'logprobs': None}, id='run-8eef939b-067d-4379-968f-dfda42ebff77-0')]"
      ]
     },
     "execution_count": 27,
     "metadata": {},
     "output_type": "execute_result"
    }
   ],
   "source": [
    "store[\"output_only\"].messages"
   ]
  },
  {
   "cell_type": "code",
   "execution_count": 28,
   "metadata": {},
   "outputs": [
    {
     "data": {
      "text/plain": [
       "[HumanMessage(content='What does cosine mean?'),\n",
       " AIMessage(content='Additional context for both\\nCosine is a trigonometric function that represents the ratio of the adjacent side to the hypotenuse in a right triangle. In simpler terms, it is a mathematical function that describes the relationship between the length of the adjacent side and the hypotenuse in a right triangle. The cosine function is commonly used in mathematics, physics, engineering, and various other fields to solve problems involving angles and distances.', response_metadata={'token_usage': {'completion_tokens': 81, 'prompt_tokens': 25, 'total_tokens': 106}, 'model_name': 'gpt-3.5-turbo', 'system_fingerprint': None, 'finish_reason': 'stop', 'logprobs': None}, id='run-d69cd060-ddc7-4757-bd01-1b7e67e1d5c3-0'),\n",
       " AIMessage(content='Additional context for both\\nCosine is a trigonometric function that represents the ratio of the adjacent side to the hypotenuse in a right triangle. In simpler terms, it is a mathematical function that describes the relationship between the length of the adjacent side and the hypotenuse in a right triangle. The cosine function is commonly used in mathematics, physics, engineering, and various other fields to solve problems involving angles and distances.', response_metadata={'token_usage': {'completion_tokens': 81, 'prompt_tokens': 25, 'total_tokens': 106}, 'model_name': 'gpt-3.5-turbo', 'system_fingerprint': None, 'finish_reason': 'stop', 'logprobs': None}, id='run-d69cd060-ddc7-4757-bd01-1b7e67e1d5c3-0')]"
      ]
     },
     "execution_count": 28,
     "metadata": {},
     "output_type": "execute_result"
    }
   ],
   "source": [
    "store[\"both\"].messages"
   ]
  },
  {
   "cell_type": "markdown",
   "metadata": {},
   "source": [
    "---"
   ]
  },
  {
   "cell_type": "code",
   "execution_count": 30,
   "metadata": {},
   "outputs": [],
   "source": [
    "from typing import List, Optional\n",
    "from langchain_core.chat_history import BaseChatMessageHistory\n",
    "from langchain_core.messages import BaseMessage, AIMessage, HumanMessage\n",
    "from langchain_core.pydantic_v1 import BaseModel, Field\n",
    "\n",
    "class InMemoryHistory(BaseChatMessageHistory, BaseModel):\n",
    "    messages: List[BaseMessage] = Field(default_factory=list)\n",
    "    save_mode: Optional[str] = Field(default=\"both\")  # \"input\", \"output\", \"both\"\n",
    "    \n",
    "    def add_messages(self, messages: List[BaseMessage], context: Optional[str] = None) -> None:\n",
    "        \"\"\"조건에 따라 메시지를 저장하고, 맥락을 결합\"\"\"\n",
    "        new_messages = []\n",
    "        if self.save_mode == \"input\":\n",
    "            input_messages = [msg for msg in messages if isinstance(msg, HumanMessage)]\n",
    "            new_messages.extend(input_messages)\n",
    "        elif self.save_mode == \"output\":\n",
    "            output_messages = [msg for msg in messages if isinstance(msg, AIMessage)]\n",
    "            if context and output_messages:\n",
    "                output_messages[0].content = f\"{context}\\n{output_messages[0].content}\"\n",
    "            new_messages.extend(output_messages)\n",
    "        elif self.save_mode == \"both\":\n",
    "            input_messages = [msg for msg in messages if isinstance(msg, HumanMessage)]\n",
    "            output_messages = [msg for msg in messages if isinstance(msg, AIMessage)]\n",
    "            if context and output_messages:\n",
    "                output_messages[0].content = f\"{context}\\n{output_messages[0].content}\"\n",
    "            new_messages.extend(input_messages + output_messages)\n",
    "        \n",
    "        # 메시지 중복 저장 방지\n",
    "        self.messages.extend(new_messages)\n",
    "\n",
    "    def clear(self) -> None:\n",
    "        self.messages = []\n",
    "\n",
    "store = {}\n",
    "\n",
    "def get_by_session_id(session_id: str, save_mode: str = \"both\") -> BaseChatMessageHistory:\n",
    "    if session_id not in store:\n",
    "        store[session_id] = InMemoryHistory(save_mode=save_mode)\n",
    "    return store[session_id]\n"
   ]
  },
  {
   "cell_type": "code",
   "execution_count": 31,
   "metadata": {},
   "outputs": [
    {
     "name": "stderr",
     "output_type": "stream",
     "text": [
      "Parent run 753322d6-b6cb-4bff-af74-5caef7351119 not found for run a6c3cfcc-8faf-4e41-b1b2-94c993fa770c. Treating as a root run.\n",
      "Parent run ca9363f9-ddb0-44e9-a222-de043c6cebce not found for run 2c38c880-e72a-4df2-b472-784754fd4c5b. Treating as a root run.\n"
     ]
    },
    {
     "name": "stdout",
     "output_type": "stream",
     "text": [
      "content='Cosine is a trigonometric function that represents the ratio of the adjacent side of a right triangle to the hypotenuse. In a right triangle, the cosine of an angle is calculated by dividing the length of the side adjacent to the angle by the length of the hypotenuse. The cosine function is commonly denoted as cos(theta) or cos(x), where theta or x represents the angle in radians.' response_metadata={'token_usage': {'completion_tokens': 83, 'prompt_tokens': 25, 'total_tokens': 108}, 'model_name': 'gpt-3.5-turbo', 'system_fingerprint': None, 'finish_reason': 'stop', 'logprobs': None} id='run-ebb4b4d2-0dd6-4346-867d-8d3b085686c4-0'\n"
     ]
    },
    {
     "name": "stderr",
     "output_type": "stream",
     "text": [
      "Parent run 855c32e4-63f9-4bba-bf97-9b507eff4a66 not found for run 27e1bd4d-b83e-44e8-b8c1-3f69e5319754. Treating as a root run.\n"
     ]
    },
    {
     "name": "stdout",
     "output_type": "stream",
     "text": [
      "content='Additional context for output only\\nCosine is a trigonometric function that describes the ratio of the length of the adjacent side of a right triangle to the length of the hypotenuse. In simpler terms, cosine is a function that gives the ratio of the adjacent side length to the hypotenuse in a right triangle. It is often denoted as cos.' response_metadata={'token_usage': {'completion_tokens': 67, 'prompt_tokens': 25, 'total_tokens': 92}, 'model_name': 'gpt-3.5-turbo', 'system_fingerprint': None, 'finish_reason': 'stop', 'logprobs': None} id='run-4b9b1087-846c-453a-8ac3-6a0dc5cb9a94-0'\n",
      "content='Additional context for both\\nCosine is a mathematical function that represents the ratio of the length of the adjacent side to the length of the hypotenuse in a right triangle. In simpler terms, cosine is a trigonometric function that relates the angle of a right triangle to the ratio of the lengths of two sides of the triangle. It is commonly denoted as cos.' response_metadata={'token_usage': {'completion_tokens': 70, 'prompt_tokens': 25, 'total_tokens': 95}, 'model_name': 'gpt-3.5-turbo', 'system_fingerprint': None, 'finish_reason': 'stop', 'logprobs': None} id='run-f30efc64-c199-4923-bc1e-1116b41dc29d-0'\n",
      "{'input_only': InMemoryHistory(messages=[HumanMessage(content='What does cosine mean?')], save_mode='input'), 'output_only': InMemoryHistory(messages=[AIMessage(content='Additional context for output only\\nCosine is a trigonometric function that describes the ratio of the length of the adjacent side of a right triangle to the length of the hypotenuse. In simpler terms, cosine is a function that gives the ratio of the adjacent side length to the hypotenuse in a right triangle. It is often denoted as cos.', response_metadata={'token_usage': {'completion_tokens': 67, 'prompt_tokens': 25, 'total_tokens': 92}, 'model_name': 'gpt-3.5-turbo', 'system_fingerprint': None, 'finish_reason': 'stop', 'logprobs': None}, id='run-4b9b1087-846c-453a-8ac3-6a0dc5cb9a94-0'), AIMessage(content='Additional context for output only\\nCosine is a trigonometric function that describes the ratio of the length of the adjacent side of a right triangle to the length of the hypotenuse. In simpler terms, cosine is a function that gives the ratio of the adjacent side length to the hypotenuse in a right triangle. It is often denoted as cos.', response_metadata={'token_usage': {'completion_tokens': 67, 'prompt_tokens': 25, 'total_tokens': 92}, 'model_name': 'gpt-3.5-turbo', 'system_fingerprint': None, 'finish_reason': 'stop', 'logprobs': None}, id='run-4b9b1087-846c-453a-8ac3-6a0dc5cb9a94-0')], save_mode='output'), 'both': InMemoryHistory(messages=[HumanMessage(content='What does cosine mean?'), AIMessage(content='Additional context for both\\nCosine is a mathematical function that represents the ratio of the length of the adjacent side to the length of the hypotenuse in a right triangle. In simpler terms, cosine is a trigonometric function that relates the angle of a right triangle to the ratio of the lengths of two sides of the triangle. It is commonly denoted as cos.', response_metadata={'token_usage': {'completion_tokens': 70, 'prompt_tokens': 25, 'total_tokens': 95}, 'model_name': 'gpt-3.5-turbo', 'system_fingerprint': None, 'finish_reason': 'stop', 'logprobs': None}, id='run-f30efc64-c199-4923-bc1e-1116b41dc29d-0'), AIMessage(content='Additional context for both\\nCosine is a mathematical function that represents the ratio of the length of the adjacent side to the length of the hypotenuse in a right triangle. In simpler terms, cosine is a trigonometric function that relates the angle of a right triangle to the ratio of the lengths of two sides of the triangle. It is commonly denoted as cos.', response_metadata={'token_usage': {'completion_tokens': 70, 'prompt_tokens': 25, 'total_tokens': 95}, 'model_name': 'gpt-3.5-turbo', 'system_fingerprint': None, 'finish_reason': 'stop', 'logprobs': None}, id='run-f30efc64-c199-4923-bc1e-1116b41dc29d-0')], save_mode='both')}\n"
     ]
    }
   ],
   "source": [
    "# 입력 메시지만 저장하는 체인 생성\n",
    "chain_with_history_input_only = create_chain_with_memory(chain, \"input\")\n",
    "\n",
    "# 출력 메시지만 저장하는 체인 생성\n",
    "chain_with_history_output_only = create_chain_with_memory(chain, \"output\")\n",
    "\n",
    "# 입력 및 출력 메시지 모두 저장하는 체인 생성\n",
    "chain_with_history_both = create_chain_with_memory(chain, \"both\")\n",
    "\n",
    "# 테스트 실행\n",
    "response_input_only = chain_with_history_input_only.invoke(\n",
    "    {\"ability\": \"math\", \"question\": \"What does cosine mean?\"},\n",
    "    config={\"configurable\": {\"session_id\": \"input_only\"}},\n",
    "    context=\"Additional context for input only\"\n",
    ")\n",
    "print(response_input_only)\n",
    "\n",
    "response_output_only = chain_with_history_output_only.invoke(\n",
    "    {\"ability\": \"math\", \"question\": \"What does cosine mean?\"},\n",
    "    config={\"configurable\": {\"session_id\": \"output_only\"}},\n",
    "    context=\"Additional context for output only\"\n",
    ")\n",
    "print(response_output_only)\n",
    "\n",
    "response_both = chain_with_history_both.invoke(\n",
    "    {\"ability\": \"math\", \"question\": \"What does cosine mean?\"},\n",
    "    config={\"configurable\": {\"session_id\": \"both\"}},\n",
    "    context=\"Additional context for both\"\n",
    ")\n",
    "print(response_both)\n",
    "\n",
    "# 저장된 메시지 확인\n",
    "print(store)"
   ]
  },
  {
   "cell_type": "code",
   "execution_count": 35,
   "metadata": {},
   "outputs": [
    {
     "data": {
      "text/plain": [
       "[HumanMessage(content='What does cosine mean?')]"
      ]
     },
     "execution_count": 35,
     "metadata": {},
     "output_type": "execute_result"
    }
   ],
   "source": [
    "store[\"input_only\"].messages"
   ]
  },
  {
   "cell_type": "code",
   "execution_count": 36,
   "metadata": {},
   "outputs": [
    {
     "data": {
      "text/plain": [
       "[AIMessage(content='Additional context for output only\\nCosine is a trigonometric function that describes the ratio of the length of the adjacent side of a right triangle to the length of the hypotenuse. In simpler terms, cosine is a function that gives the ratio of the adjacent side length to the hypotenuse in a right triangle. It is often denoted as cos.', response_metadata={'token_usage': {'completion_tokens': 67, 'prompt_tokens': 25, 'total_tokens': 92}, 'model_name': 'gpt-3.5-turbo', 'system_fingerprint': None, 'finish_reason': 'stop', 'logprobs': None}, id='run-4b9b1087-846c-453a-8ac3-6a0dc5cb9a94-0'),\n",
       " AIMessage(content='Additional context for output only\\nCosine is a trigonometric function that describes the ratio of the length of the adjacent side of a right triangle to the length of the hypotenuse. In simpler terms, cosine is a function that gives the ratio of the adjacent side length to the hypotenuse in a right triangle. It is often denoted as cos.', response_metadata={'token_usage': {'completion_tokens': 67, 'prompt_tokens': 25, 'total_tokens': 92}, 'model_name': 'gpt-3.5-turbo', 'system_fingerprint': None, 'finish_reason': 'stop', 'logprobs': None}, id='run-4b9b1087-846c-453a-8ac3-6a0dc5cb9a94-0')]"
      ]
     },
     "execution_count": 36,
     "metadata": {},
     "output_type": "execute_result"
    }
   ],
   "source": [
    "store[\"output_only\"].messages"
   ]
  },
  {
   "cell_type": "code",
   "execution_count": 37,
   "metadata": {},
   "outputs": [
    {
     "data": {
      "text/plain": [
       "[HumanMessage(content='What does cosine mean?'),\n",
       " AIMessage(content='Additional context for both\\nCosine is a mathematical function that represents the ratio of the length of the adjacent side to the length of the hypotenuse in a right triangle. In simpler terms, cosine is a trigonometric function that relates the angle of a right triangle to the ratio of the lengths of two sides of the triangle. It is commonly denoted as cos.', response_metadata={'token_usage': {'completion_tokens': 70, 'prompt_tokens': 25, 'total_tokens': 95}, 'model_name': 'gpt-3.5-turbo', 'system_fingerprint': None, 'finish_reason': 'stop', 'logprobs': None}, id='run-f30efc64-c199-4923-bc1e-1116b41dc29d-0'),\n",
       " AIMessage(content='Additional context for both\\nCosine is a mathematical function that represents the ratio of the length of the adjacent side to the length of the hypotenuse in a right triangle. In simpler terms, cosine is a trigonometric function that relates the angle of a right triangle to the ratio of the lengths of two sides of the triangle. It is commonly denoted as cos.', response_metadata={'token_usage': {'completion_tokens': 70, 'prompt_tokens': 25, 'total_tokens': 95}, 'model_name': 'gpt-3.5-turbo', 'system_fingerprint': None, 'finish_reason': 'stop', 'logprobs': None}, id='run-f30efc64-c199-4923-bc1e-1116b41dc29d-0')]"
      ]
     },
     "execution_count": 37,
     "metadata": {},
     "output_type": "execute_result"
    }
   ],
   "source": [
    "store[\"both\"].messages"
   ]
  },
  {
   "cell_type": "code",
   "execution_count": 57,
   "metadata": {},
   "outputs": [
    {
     "data": {
      "text/plain": [
       "{}"
      ]
     },
     "execution_count": 57,
     "metadata": {},
     "output_type": "execute_result"
    }
   ],
   "source": [
    "store = {}\n",
    "store"
   ]
  },
  {
   "cell_type": "code",
   "execution_count": 58,
   "metadata": {},
   "outputs": [],
   "source": [
    "from typing import List, Optional\n",
    "from langchain_core.chat_history import BaseChatMessageHistory\n",
    "from langchain_core.messages import BaseMessage, AIMessage, HumanMessage\n",
    "from langchain_core.pydantic_v1 import BaseModel, Field\n",
    "\n",
    "class InMemoryHistory(BaseChatMessageHistory, BaseModel):\n",
    "    messages: List[BaseMessage] = Field(default_factory=list)\n",
    "    save_mode: Optional[str] = Field(default=\"both\")  # \"input\", \"output\", \"both\"\n",
    "    \n",
    "    def add_messages(self, messages: List[BaseMessage], context: Optional[str] = None) -> None:\n",
    "        \"\"\"조건에 따라 메시지를 저장하고, 맥락을 결합\"\"\"\n",
    "        new_messages = []\n",
    "        if self.save_mode == \"input\":\n",
    "            input_messages = [msg for msg in messages if isinstance(msg, HumanMessage)]\n",
    "            new_messages.extend(input_messages)\n",
    "        elif self.save_mode == \"output\":\n",
    "            output_messages = [msg for msg in messages if isinstance(msg, AIMessage)]\n",
    "            if context and output_messages:\n",
    "                output_messages[0].content = f\"{context}\\n{output_messages[0].content}\"\n",
    "            new_messages.extend(output_messages)\n",
    "        elif self.save_mode == \"both\":\n",
    "            input_messages = [msg for msg in messages if isinstance(msg, HumanMessage)]\n",
    "            output_messages = [msg for msg in messages if isinstance(msg, AIMessage)]\n",
    "            if context and output_messages:\n",
    "                output_messages[0].content = f\"{context}\\n{output_messages[0].content}\"\n",
    "            new_messages.extend(input_messages + output_messages)\n",
    "        \n",
    "        # 메시지 중복 저장 방지\n",
    "        self.messages.extend(new_messages)\n",
    "\n",
    "    def clear(self) -> None:\n",
    "        self.messages = []\n",
    "\n",
    "store = {}\n",
    "\n",
    "def get_by_session_id(session_id: str, save_mode: str = \"both\") -> BaseChatMessageHistory:\n",
    "    if session_id not in store:\n",
    "        store[session_id] = InMemoryHistory(save_mode=save_mode)\n",
    "    return store[session_id]"
   ]
  },
  {
   "cell_type": "code",
   "execution_count": 59,
   "metadata": {},
   "outputs": [],
   "source": [
    "from langchain_core.prompts import ChatPromptTemplate, MessagesPlaceholder\n",
    "from langchain_community.chat_models import ChatAnthropic\n",
    "from langchain_core.runnables.history import RunnableWithMessageHistory\n",
    "\n",
    "def create_chain_with_memory(chain, save_mode: str) -> RunnableWithMessageHistory:\n",
    "    def get_session_history_with_mode(session_id: str) -> BaseChatMessageHistory:\n",
    "        return get_by_session_id(session_id, save_mode)\n",
    "    \n",
    "    class CustomRunnableWithMessageHistory(RunnableWithMessageHistory):\n",
    "        def invoke(self, input: dict, config: Optional[dict] = None, context: Optional[str] = None) -> dict:\n",
    "            history = self.get_session_history(config[\"configurable\"][\"session_id\"])\n",
    "            result = super().invoke(input, config)\n",
    "            history.add_messages([result], context=context)\n",
    "            return result\n",
    "\n",
    "    return CustomRunnableWithMessageHistory(\n",
    "        chain,\n",
    "        get_session_history=get_session_history_with_mode,\n",
    "        input_messages_key=\"question\",\n",
    "        history_messages_key=\"history\",\n",
    "    )"
   ]
  },
  {
   "cell_type": "code",
   "execution_count": 60,
   "metadata": {},
   "outputs": [
    {
     "name": "stderr",
     "output_type": "stream",
     "text": [
      "Parent run ba33c42d-5999-4650-8d78-f0d0e97f79a4 not found for run 4b976ff9-729c-4b2b-b42c-4d23e845f9e0. Treating as a root run.\n"
     ]
    },
    {
     "name": "stdout",
     "output_type": "stream",
     "text": [
      "content='Additional context for output only\\nCosine is a mathematical function that relates the angle of a right triangle to the ratio of the length of the adjacent side to the length of the hypotenuse. In simpler terms, cosine is a trigonometric function that gives the ratio of the adjacent side to the hypotenuse of a right triangle for a given angle. It is denoted by the abbreviation cos.' response_metadata={'token_usage': {'completion_tokens': 75, 'prompt_tokens': 25, 'total_tokens': 100}, 'model_name': 'gpt-3.5-turbo', 'system_fingerprint': None, 'finish_reason': 'stop', 'logprobs': None} id='run-0fb16627-5895-46d3-99ea-135896f8e44a-0'\n"
     ]
    }
   ],
   "source": [
    "response_output_only = chain_with_history_output_only.invoke(\n",
    "    {\"ability\": \"math\", \"question\": \"What does cosine mean?\"},\n",
    "    config={\"configurable\": {\"session_id\": \"output_only\"}},\n",
    "    context=\"Additional context for output only\"\n",
    ")\n",
    "print(response_output_only)"
   ]
  },
  {
   "cell_type": "code",
   "execution_count": 61,
   "metadata": {},
   "outputs": [
    {
     "data": {
      "text/plain": [
       "[AIMessage(content='Additional context for output only\\nCosine is a mathematical function that relates the angle of a right triangle to the ratio of the length of the adjacent side to the length of the hypotenuse. In simpler terms, cosine is a trigonometric function that gives the ratio of the adjacent side to the hypotenuse of a right triangle for a given angle. It is denoted by the abbreviation cos.', response_metadata={'token_usage': {'completion_tokens': 75, 'prompt_tokens': 25, 'total_tokens': 100}, 'model_name': 'gpt-3.5-turbo', 'system_fingerprint': None, 'finish_reason': 'stop', 'logprobs': None}, id='run-0fb16627-5895-46d3-99ea-135896f8e44a-0'),\n",
       " AIMessage(content='Additional context for output only\\nCosine is a mathematical function that relates the angle of a right triangle to the ratio of the length of the adjacent side to the length of the hypotenuse. In simpler terms, cosine is a trigonometric function that gives the ratio of the adjacent side to the hypotenuse of a right triangle for a given angle. It is denoted by the abbreviation cos.', response_metadata={'token_usage': {'completion_tokens': 75, 'prompt_tokens': 25, 'total_tokens': 100}, 'model_name': 'gpt-3.5-turbo', 'system_fingerprint': None, 'finish_reason': 'stop', 'logprobs': None}, id='run-0fb16627-5895-46d3-99ea-135896f8e44a-0')]"
      ]
     },
     "execution_count": 61,
     "metadata": {},
     "output_type": "execute_result"
    }
   ],
   "source": [
    "store[\"output_only\"].messages"
   ]
  },
  {
   "cell_type": "markdown",
   "metadata": {},
   "source": [
    "---"
   ]
  },
  {
   "cell_type": "code",
   "execution_count": 62,
   "metadata": {},
   "outputs": [],
   "source": [
    "from typing import List, Optional\n",
    "from langchain_core.chat_history import BaseChatMessageHistory\n",
    "from langchain_core.messages import BaseMessage, AIMessage, HumanMessage\n",
    "from langchain_core.pydantic_v1 import BaseModel, Field\n",
    "\n",
    "class InMemoryHistory(BaseChatMessageHistory, BaseModel):\n",
    "    messages: List[BaseMessage] = Field(default_factory=list)\n",
    "    save_mode: Optional[str] = Field(default=\"both\")  # \"input\", \"output\", \"both\"\n",
    "    \n",
    "    def add_messages(self, messages: List[BaseMessage], context: Optional[str] = None) -> None:\n",
    "        \"\"\"조건에 따라 메시지를 저장하고, 맥락을 결합\"\"\"\n",
    "        new_messages = []\n",
    "        if self.save_mode == \"input\":\n",
    "            input_messages = [msg for msg in messages if isinstance(msg, HumanMessage)]\n",
    "            new_messages.extend(input_messages)\n",
    "        elif self.save_mode == \"output\":\n",
    "            output_messages = [msg for msg in messages if isinstance(msg, AIMessage)]\n",
    "            if context and output_messages:\n",
    "                output_messages[0].content = f\"{context}\\n{output_messages[0].content}\"\n",
    "            new_messages.extend(output_messages)\n",
    "        elif self.save_mode == \"both\":\n",
    "            input_messages = [msg for msg in messages if isinstance(msg, HumanMessage)]\n",
    "            output_messages = [msg for msg in messages if isinstance(msg, AIMessage)]\n",
    "            if context and output_messages:\n",
    "                output_messages[0].content = f\"{context}\\n{output_messages[0].content}\"\n",
    "            new_messages.extend(input_messages + output_messages)\n",
    "        \n",
    "        # 메시지 중복 저장 방지\n",
    "        self.messages.extend(new_messages)\n",
    "\n",
    "    def clear(self) -> None:\n",
    "        self.messages = []\n",
    "\n",
    "store = {}\n",
    "\n",
    "def get_by_session_id(session_id: str, save_mode: str = \"both\") -> BaseChatMessageHistory:\n",
    "    if session_id not in store:\n",
    "        store[session_id] = InMemoryHistory(save_mode=save_mode)\n",
    "    return store[session_id]\n"
   ]
  },
  {
   "cell_type": "code",
   "execution_count": 63,
   "metadata": {},
   "outputs": [],
   "source": [
    "from langchain_core.prompts import ChatPromptTemplate, MessagesPlaceholder\n",
    "from langchain_community.chat_models import ChatAnthropic\n",
    "from langchain_core.runnables.history import RunnableWithMessageHistory\n",
    "\n",
    "def create_chain_with_memory(chain, save_mode: str) -> RunnableWithMessageHistory:\n",
    "    def get_session_history_with_mode(session_id: str) -> BaseChatMessageHistory:\n",
    "        return get_by_session_id(session_id, save_mode)\n",
    "    \n",
    "    class CustomRunnableWithMessageHistory(RunnableWithMessageHistory):\n",
    "        def invoke(self, input: dict, config: Optional[dict] = None, context: Optional[str] = None) -> dict:\n",
    "            history = self.get_session_history(config[\"configurable\"][\"session_id\"])\n",
    "            if self.history_messages_key:\n",
    "                history_messages = history.messages\n",
    "                input[self.history_messages_key] = history_messages\n",
    "\n",
    "            result = super().invoke(input, config)\n",
    "            result_messages = result.get('messages') if isinstance(result, dict) else [result]\n",
    "            history.add_messages(result_messages, context=context)\n",
    "            return result\n",
    "\n",
    "    return CustomRunnableWithMessageHistory(\n",
    "        chain,\n",
    "        get_session_history=get_session_history_with_mode,\n",
    "        input_messages_key=\"question\",\n",
    "        history_messages_key=\"history\",\n",
    "    )\n"
   ]
  },
  {
   "cell_type": "code",
   "execution_count": 65,
   "metadata": {},
   "outputs": [
    {
     "name": "stderr",
     "output_type": "stream",
     "text": [
      "Parent run 8e2b7687-6dd3-4c4d-a9be-7b9ed24b7b6c not found for run ced38e5e-101e-40b4-b178-9961fd1a758f. Treating as a root run.\n",
      "Parent run b3c2d94c-f837-41fc-8452-cbf9163fe40e not found for run 660f49b4-5834-4e72-9ccc-24ef6e662363. Treating as a root run.\n"
     ]
    },
    {
     "name": "stdout",
     "output_type": "stream",
     "text": [
      "content='Cosine is a trigonometric function that represents the ratio of the adjacent side to the hypotenuse in a right-angled triangle. In simpler terms, it is a mathematical function that helps to relate the angles of a triangle to the lengths of its sides. The cosine of an angle is calculated by dividing the length of the adjacent side by the length of the hypotenuse.' response_metadata={'token_usage': {'completion_tokens': 77, 'prompt_tokens': 25, 'total_tokens': 102}, 'model_name': 'gpt-3.5-turbo', 'system_fingerprint': None, 'finish_reason': 'stop', 'logprobs': None} id='run-1fd4aa67-bb8c-4e73-b262-8ea25d7888a7-0'\n"
     ]
    },
    {
     "name": "stderr",
     "output_type": "stream",
     "text": [
      "Parent run 1a685087-f93f-4aa6-8cc1-65c057023468 not found for run ed77101a-c36c-4aa6-98e7-5e5e7a0925ec. Treating as a root run.\n"
     ]
    },
    {
     "name": "stdout",
     "output_type": "stream",
     "text": [
      "content=\"Additional context for output only\\nCosine is a trigonometric function that represents the ratio of the adjacent side to the hypotenuse in a right triangle. In simpler terms, it's a function that relates the angle of a right triangle to the ratio of the length of the adjacent side to the length of the hypotenuse. The cosine function is denoted as cos(theta), where theta is the angle in the triangle.\" response_metadata={'token_usage': {'completion_tokens': 80, 'prompt_tokens': 25, 'total_tokens': 105}, 'model_name': 'gpt-3.5-turbo', 'system_fingerprint': None, 'finish_reason': 'stop', 'logprobs': None} id='run-517cf84f-5719-4978-94c6-993519a339db-0'\n",
      "content='Additional context for both\\nCosine is a trigonometric function that relates the length of the adjacent side of a right triangle to the length of the hypotenuse. In a right triangle, the cosine of an angle is equal to the length of the side adjacent to that angle divided by the length of the hypotenuse. It is often denoted as cos.' response_metadata={'token_usage': {'completion_tokens': 69, 'prompt_tokens': 25, 'total_tokens': 94}, 'model_name': 'gpt-3.5-turbo', 'system_fingerprint': None, 'finish_reason': 'stop', 'logprobs': None} id='run-9770b484-28ae-4cb4-a86c-16a0b7ea18d7-0'\n",
      "{'input_only': InMemoryHistory(messages=[HumanMessage(content='What does cosine mean?')], save_mode='input'), 'output_only': InMemoryHistory(messages=[AIMessage(content=\"Additional context for output only\\nCosine is a trigonometric function that represents the ratio of the adjacent side to the hypotenuse in a right triangle. In simpler terms, it's a function that relates the angle of a right triangle to the ratio of the length of the adjacent side to the length of the hypotenuse. The cosine function is denoted as cos(theta), where theta is the angle in the triangle.\", response_metadata={'token_usage': {'completion_tokens': 80, 'prompt_tokens': 25, 'total_tokens': 105}, 'model_name': 'gpt-3.5-turbo', 'system_fingerprint': None, 'finish_reason': 'stop', 'logprobs': None}, id='run-517cf84f-5719-4978-94c6-993519a339db-0'), AIMessage(content=\"Additional context for output only\\nCosine is a trigonometric function that represents the ratio of the adjacent side to the hypotenuse in a right triangle. In simpler terms, it's a function that relates the angle of a right triangle to the ratio of the length of the adjacent side to the length of the hypotenuse. The cosine function is denoted as cos(theta), where theta is the angle in the triangle.\", response_metadata={'token_usage': {'completion_tokens': 80, 'prompt_tokens': 25, 'total_tokens': 105}, 'model_name': 'gpt-3.5-turbo', 'system_fingerprint': None, 'finish_reason': 'stop', 'logprobs': None}, id='run-517cf84f-5719-4978-94c6-993519a339db-0')], save_mode='output'), 'both': InMemoryHistory(messages=[HumanMessage(content='What does cosine mean?'), AIMessage(content='Additional context for both\\nCosine is a trigonometric function that relates the length of the adjacent side of a right triangle to the length of the hypotenuse. In a right triangle, the cosine of an angle is equal to the length of the side adjacent to that angle divided by the length of the hypotenuse. It is often denoted as cos.', response_metadata={'token_usage': {'completion_tokens': 69, 'prompt_tokens': 25, 'total_tokens': 94}, 'model_name': 'gpt-3.5-turbo', 'system_fingerprint': None, 'finish_reason': 'stop', 'logprobs': None}, id='run-9770b484-28ae-4cb4-a86c-16a0b7ea18d7-0'), AIMessage(content='Additional context for both\\nCosine is a trigonometric function that relates the length of the adjacent side of a right triangle to the length of the hypotenuse. In a right triangle, the cosine of an angle is equal to the length of the side adjacent to that angle divided by the length of the hypotenuse. It is often denoted as cos.', response_metadata={'token_usage': {'completion_tokens': 69, 'prompt_tokens': 25, 'total_tokens': 94}, 'model_name': 'gpt-3.5-turbo', 'system_fingerprint': None, 'finish_reason': 'stop', 'logprobs': None}, id='run-9770b484-28ae-4cb4-a86c-16a0b7ea18d7-0')], save_mode='both')}\n"
     ]
    }
   ],
   "source": [
    "# 예제 사용법\n",
    "prompt = ChatPromptTemplate.from_messages([\n",
    "    (\"system\", \"You're an assistant who's good at {ability}\"),\n",
    "    MessagesPlaceholder(variable_name=\"history\"),\n",
    "    (\"human\", \"{question}\"),\n",
    "])\n",
    "\n",
    "chain = prompt | model\n",
    "\n",
    "# 입력 메시지만 저장하는 체인 생성\n",
    "chain_with_history_input_only = create_chain_with_memory(chain, \"input\")\n",
    "\n",
    "# 출력 메시지만 저장하는 체인 생성\n",
    "chain_with_history_output_only = create_chain_with_memory(chain, \"output\")\n",
    "\n",
    "# 입력 및 출력 메시지 모두 저장하는 체인 생성\n",
    "chain_with_history_both = create_chain_with_memory(chain, \"both\")\n",
    "\n",
    "# 테스트 실행\n",
    "response_input_only = chain_with_history_input_only.invoke(\n",
    "    {\"ability\": \"math\", \"question\": \"What does cosine mean?\"},\n",
    "    config={\"configurable\": {\"session_id\": \"input_only\"}},\n",
    "    context=\"Additional context for input only\"\n",
    ")\n",
    "print(response_input_only)\n",
    "\n",
    "response_output_only = chain_with_history_output_only.invoke(\n",
    "    {\"ability\": \"math\", \"question\": \"What does cosine mean?\"},\n",
    "    config={\"configurable\": {\"session_id\": \"output_only\"}},\n",
    "    context=\"Additional context for output only\"\n",
    ")\n",
    "print(response_output_only)\n",
    "\n",
    "response_both = chain_with_history_both.invoke(\n",
    "    {\"ability\": \"math\", \"question\": \"What does cosine mean?\"},\n",
    "    config={\"configurable\": {\"session_id\": \"both\"}},\n",
    "    context=\"Additional context for both\"\n",
    ")\n",
    "print(response_both)\n",
    "\n",
    "# 저장된 메시지 확인\n",
    "print(store)\n"
   ]
  },
  {
   "cell_type": "code",
   "execution_count": 68,
   "metadata": {},
   "outputs": [
    {
     "data": {
      "text/plain": [
       "[AIMessage(content=\"Additional context for output only\\nCosine is a trigonometric function that represents the ratio of the adjacent side to the hypotenuse in a right triangle. In simpler terms, it's a function that relates the angle of a right triangle to the ratio of the length of the adjacent side to the length of the hypotenuse. The cosine function is denoted as cos(theta), where theta is the angle in the triangle.\", response_metadata={'token_usage': {'completion_tokens': 80, 'prompt_tokens': 25, 'total_tokens': 105}, 'model_name': 'gpt-3.5-turbo', 'system_fingerprint': None, 'finish_reason': 'stop', 'logprobs': None}, id='run-517cf84f-5719-4978-94c6-993519a339db-0'),\n",
       " AIMessage(content=\"Additional context for output only\\nCosine is a trigonometric function that represents the ratio of the adjacent side to the hypotenuse in a right triangle. In simpler terms, it's a function that relates the angle of a right triangle to the ratio of the length of the adjacent side to the length of the hypotenuse. The cosine function is denoted as cos(theta), where theta is the angle in the triangle.\", response_metadata={'token_usage': {'completion_tokens': 80, 'prompt_tokens': 25, 'total_tokens': 105}, 'model_name': 'gpt-3.5-turbo', 'system_fingerprint': None, 'finish_reason': 'stop', 'logprobs': None}, id='run-517cf84f-5719-4978-94c6-993519a339db-0')]"
      ]
     },
     "execution_count": 68,
     "metadata": {},
     "output_type": "execute_result"
    }
   ],
   "source": [
    "store[\"output_only\"].messages"
   ]
  }
 ],
 "metadata": {
  "kernelspec": {
   "display_name": "venv",
   "language": "python",
   "name": "python3"
  },
  "language_info": {
   "codemirror_mode": {
    "name": "ipython",
    "version": 3
   },
   "file_extension": ".py",
   "mimetype": "text/x-python",
   "name": "python",
   "nbconvert_exporter": "python",
   "pygments_lexer": "ipython3",
   "version": "3.10.5"
  }
 },
 "nbformat": 4,
 "nbformat_minor": 2
}
