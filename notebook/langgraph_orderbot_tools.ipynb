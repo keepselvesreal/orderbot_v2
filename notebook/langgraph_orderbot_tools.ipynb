{
 "cells": [
  {
   "cell_type": "markdown",
   "metadata": {},
   "source": [
    "# State"
   ]
  },
  {
   "cell_type": "code",
   "execution_count": 4,
   "metadata": {},
   "outputs": [],
   "source": [
    "from typing import Annotated, Literal, Optional\n",
    "from typing_extensions import TypedDict\n",
    "\n",
    "from langgraph.graph.message import AnyMessage, add_messages\n",
    "\n",
    "\n",
    "def update_dialog_stack(left: list[str], right: Optional[str]) -> list[str]:\n",
    "    \"\"\"Push or pop the state.\"\"\"\n",
    "    if right is None:\n",
    "        return left\n",
    "    if right == \"pop\":\n",
    "        return left[:-1]\n",
    "    return left + [right]\n",
    "\n",
    "\n",
    "class State(TypedDict):\n",
    "    messages: Annotated[list[AnyMessage], add_messages]\n",
    "    user_info: str\n",
    "    dialog_state: Annotated[\n",
    "            list[\n",
    "                Literal[\n",
    "                    \"assistant\",\n",
    "                    \"query\",\n",
    "                    \"requset\",\n",
    "                ]\n",
    "            ],\n",
    "            update_dialog_stack,\n",
    "        ]"
   ]
  },
  {
   "cell_type": "markdown",
   "metadata": {},
   "source": [
    "# Tools"
   ]
  },
  {
   "cell_type": "code",
   "execution_count": 12,
   "metadata": {},
   "outputs": [
    {
     "ename": "ModuleNotFoundError",
     "evalue": "No module named 'products'",
     "output_type": "error",
     "traceback": [
      "\u001b[1;31m---------------------------------------------------------------------------\u001b[0m",
      "\u001b[1;31mModuleNotFoundError\u001b[0m                       Traceback (most recent call last)",
      "Cell \u001b[1;32mIn[12], line 4\u001b[0m\n\u001b[0;32m      1\u001b[0m \u001b[38;5;28;01mfrom\u001b[39;00m \u001b[38;5;21;01mlangchain_core\u001b[39;00m\u001b[38;5;21;01m.\u001b[39;00m\u001b[38;5;21;01mtools\u001b[39;00m \u001b[38;5;28;01mimport\u001b[39;00m tool\n\u001b[0;32m      2\u001b[0m \u001b[38;5;28;01mfrom\u001b[39;00m \u001b[38;5;21;01mdjango\u001b[39;00m\u001b[38;5;21;01m.\u001b[39;00m\u001b[38;5;21;01mcore\u001b[39;00m\u001b[38;5;21;01m.\u001b[39;00m\u001b[38;5;21;01mexceptions\u001b[39;00m \u001b[38;5;28;01mimport\u001b[39;00m ObjectDoesNotExist\n\u001b[1;32m----> 4\u001b[0m \u001b[38;5;28;01mfrom\u001b[39;00m \u001b[38;5;21;01mproducts\u001b[39;00m\u001b[38;5;21;01m.\u001b[39;00m\u001b[38;5;21;01mmodels\u001b[39;00m \u001b[38;5;28;01mimport\u001b[39;00m Order, OrderItem\n\u001b[0;32m      6\u001b[0m \u001b[38;5;129m@tool\u001b[39m\n\u001b[0;32m      7\u001b[0m \u001b[38;5;28;01mdef\u001b[39;00m \u001b[38;5;21morder\u001b[39m():\n\u001b[0;32m      8\u001b[0m \u001b[38;5;250m    \u001b[39m\u001b[38;5;124;03m\"\"\"\u001b[39;00m\n\u001b[0;32m      9\u001b[0m \u001b[38;5;124;03m    Places a new order.\u001b[39;00m\n\u001b[0;32m     10\u001b[0m \u001b[38;5;124;03m    This function processes a new order request and confirms\u001b[39;00m\n\u001b[0;32m     11\u001b[0m \u001b[38;5;124;03m    \"\"\"\u001b[39;00m\n",
      "\u001b[1;31mModuleNotFoundError\u001b[0m: No module named 'products'"
     ]
    }
   ],
   "source": [
    "from langchain_core.tools import tool\n",
    "from django.core.exceptions import ObjectDoesNotExist\n",
    "\n",
    "from products.models import Order, OrderItem\n",
    "\n",
    "@tool\n",
    "def order():\n",
    "    \"\"\"\n",
    "    Places a new order.\n",
    "    This function processes a new order request and confirms\n",
    "    \"\"\"\n",
    "    return \"주문 완료\"\n",
    "\n",
    "@tool\n",
    "def change_order():\n",
    "    \"\"\"\n",
    "    Modifies an existing order.\n",
    "    This function allows the user to change details of an existing\n",
    "    \"\"\"\n",
    "    return \"주문 변경 완료\"\n",
    "\n",
    "@tool\n",
    "def cancel_order():\n",
    "    \"\"\"\n",
    "    Cancels an existing order.\n",
    "    This function processes the cancellation of an existing order\n",
    "    \"\"\"\n",
    "    return \"주문 취소 완료\"\n",
    "\n",
    "@tool\n",
    "def view_order(state: State):\n",
    "    \"\"\"\n",
    "    Views the details of a specific order.\n",
    "    This function retrieves and returns the details of an order.\n",
    "    \"\"\"\n",
    "    user_id = state[\"user_info\"]\n",
    "\n",
    "    try:\n",
    "        orders = Order.objects.filter(user_id=user_id).order_by('-created_at')[:5]\n",
    "        recent_orders = []\n",
    "        for order in orders:\n",
    "            order_items = OrderItem.objects.filter(order=order)\n",
    "            items_details = [\n",
    "                {\n",
    "                    \"product_name\": item.product.product_name,\n",
    "                    \"quantity\": item.quantity,\n",
    "                    \"price\": float(item.price)  # Decimal을 float으로 변환\n",
    "                } for item in order_items\n",
    "            ]\n",
    "            recent_orders.append({\n",
    "                \"id\": order.id,\n",
    "                \"created_at\": order.created_at.isoformat(),\n",
    "                \"order_status\": order.order_status,\n",
    "                \"items\": items_details\n",
    "            })\n",
    "        \n",
    "        return recent_orders\n",
    "    except ObjectDoesNotExist:\n",
    "        return []\n",
    "    \n",
    "    # return \"주문 조회 완료\"\n",
    "\n",
    "@tool\n",
    "def view_change_order():\n",
    "    \"\"\"\n",
    "    Views the details of a modified order.\n",
    "    This function retrieves and returns the details of the changes made to an order.\n",
    "    \"\"\"\n",
    "    return \"주문 변경 조회 완료\"\n",
    "\n",
    "@tool\n",
    "def view_cancel_order():\n",
    "    \"\"\"\n",
    "    Views the details of a canceled order.\n",
    "    This function retrieves and returns the details of a canceled order.\n",
    "    \"\"\"\n",
    "    return \"주문 취소 조회 완료\""
   ]
  },
  {
   "cell_type": "code",
   "execution_count": 6,
   "metadata": {},
   "outputs": [],
   "source": [
    "from langchain_core.pydantic_v1 import BaseModel, Field\n",
    "\n",
    "\n",
    "class CompleteOrEscalate(BaseModel):\n",
    "    \"\"\"A tool to mark the current task as completed and/or to escalate control of the dialog to the main assistant,\n",
    "    who can re-route the dialog based on the user's needs.\"\"\"\n",
    "\n",
    "    cancel: bool = True\n",
    "    reason: str\n",
    "\n",
    "    class Config:\n",
    "        schema_extra = {\n",
    "            \"example\": {\n",
    "                \"cancel\": True,\n",
    "                \"reason\": \"User changed their mind about the current task.\",\n",
    "            },\n",
    "            \"example 2\": {\n",
    "                \"cancel\": True,\n",
    "                \"reason\": \"I have fully completed the task.\",\n",
    "            },\n",
    "            \"example 3\": {\n",
    "                \"cancel\": False,\n",
    "                \"reason\": \"I need to use the tool to place a new order.\",\n",
    "            },\n",
    "        }\n",
    "\n",
    "# order_request.py로 옮길 것을 제안\n",
    "class ToOrderInquiryAssistant(BaseModel):\n",
    "    \"\"\"Transfers work to a specialized assistant to handle order queries.\"\"\"\n",
    "\n",
    "    order_id: int = Field(description=\"The ID of the order to query.\")\n",
    "    request: str = Field(description=\"Any necessary follow-up questions the querying assistant should clarify before proceeding.\")\n",
    "\n",
    "class ToOrderRequestAssistant(BaseModel):\n",
    "    \"\"\"Transfers work to a specialized assistant to handle order placements, modifications, or cancellations.\"\"\"\n",
    "\n",
    "    order_id: int = Field(description=\"The ID of the order to update.\")\n",
    "    action: str = Field(description=\"The action to perform: 'order', 'change_order', 'cancel_order'.\")\n",
    "    request: str = Field(description=\"Any additional information or requests from the user regarding the order.\")"
   ]
  },
  {
   "cell_type": "markdown",
   "metadata": {},
   "source": [
    "# Assistant"
   ]
  },
  {
   "cell_type": "code",
   "execution_count": 7,
   "metadata": {},
   "outputs": [
    {
     "data": {
      "text/plain": [
       "ChatOpenAI(client=<openai.resources.chat.completions.Completions object at 0x000001AD3E30FD00>, async_client=<openai.resources.chat.completions.AsyncCompletions object at 0x000001AD3E30FA60>, openai_api_key=SecretStr('**********'), openai_proxy='')"
      ]
     },
     "execution_count": 7,
     "metadata": {},
     "output_type": "execute_result"
    }
   ],
   "source": [
    "from langchain_openai import ChatOpenAI\n",
    "\n",
    "model=\"gpt-3.5-turbo\"\n",
    "# model=\"gpt-4o\"\n",
    "# model=\"gpt-4-turbo-2024-04-09\"\n",
    "llm = ChatOpenAI(model=model)\n",
    "llm"
   ]
  },
  {
   "cell_type": "code",
   "execution_count": 8,
   "metadata": {},
   "outputs": [],
   "source": [
    "import json\n",
    "\n",
    "from django.db.models import QuerySet\n",
    "from langchain_core.runnables import Runnable, RunnableConfig\n",
    "from langchain_core.messages import AIMessage\n",
    "\n",
    "class Assistant:\n",
    "    def __init__(self, runnable: Runnable):\n",
    "        self.runnable = runnable\n",
    "\n",
    "    def __call__(self, state: State, config: RunnableConfig):\n",
    "        while True:\n",
    "            result = self.runnable.invoke(state)\n",
    "\n",
    "            if not result.tool_calls and (\n",
    "                not result.content\n",
    "                or isinstance(result.content, list)\n",
    "                and not result.content[0].get(\"text\")\n",
    "            ):\n",
    "                messages = state[\"messages\"] + [(\"user\", \"Respond with a real output.\")]\n",
    "                state = {**state, \"messages\": messages}\n",
    "            else:\n",
    "                break\n",
    "        if isinstance(result, Order):\n",
    "            result = result.to_dict()\n",
    "            result = AIMessage(content=result)\n",
    "            # result = json.dumps(result)\n",
    "        elif isinstance(result, QuerySet):\n",
    "            result = json.dumps([order.to_dict() for order in result])\n",
    "            result = AIMessage(content=result)\n",
    "\n",
    "        return {\"messages\": result}"
   ]
  },
  {
   "cell_type": "code",
   "execution_count": 9,
   "metadata": {},
   "outputs": [
    {
     "ename": "NameError",
     "evalue": "name 'view_order' is not defined",
     "output_type": "error",
     "traceback": [
      "\u001b[1;31m---------------------------------------------------------------------------\u001b[0m",
      "\u001b[1;31mNameError\u001b[0m                                 Traceback (most recent call last)",
      "Cell \u001b[1;32mIn[9], line 22\u001b[0m\n\u001b[0;32m      3\u001b[0m \u001b[38;5;28;01mfrom\u001b[39;00m \u001b[38;5;21;01mlangchain_core\u001b[39;00m\u001b[38;5;21;01m.\u001b[39;00m\u001b[38;5;21;01mprompts\u001b[39;00m \u001b[38;5;28;01mimport\u001b[39;00m ChatPromptTemplate, MessagesPlaceholder\n\u001b[0;32m      5\u001b[0m order_inquiry_prompt \u001b[38;5;241m=\u001b[39m ChatPromptTemplate\u001b[38;5;241m.\u001b[39mfrom_messages(\n\u001b[0;32m      6\u001b[0m     [\n\u001b[0;32m      7\u001b[0m         (\n\u001b[1;32m   (...)\u001b[0m\n\u001b[0;32m     19\u001b[0m     ]\n\u001b[0;32m     20\u001b[0m )\u001b[38;5;241m.\u001b[39mpartial(time\u001b[38;5;241m=\u001b[39mdatetime\u001b[38;5;241m.\u001b[39mnow())\n\u001b[1;32m---> 22\u001b[0m inquiry_tools \u001b[38;5;241m=\u001b[39m [\u001b[43mview_order\u001b[49m, view_change_order, view_cancel_order]\n\u001b[0;32m     23\u001b[0m order_inquiry_runnable \u001b[38;5;241m=\u001b[39m (\n\u001b[0;32m     24\u001b[0m     order_inquiry_prompt \n\u001b[0;32m     25\u001b[0m     \u001b[38;5;241m|\u001b[39m llm\u001b[38;5;241m.\u001b[39mbind_tools(inquiry_tools \u001b[38;5;241m+\u001b[39m [CompleteOrEscalate])\n\u001b[0;32m     26\u001b[0m )\n\u001b[0;32m     27\u001b[0m order_inquiry_runnable\n",
      "\u001b[1;31mNameError\u001b[0m: name 'view_order' is not defined"
     ]
    }
   ],
   "source": [
    "from datetime import datetime\n",
    "\n",
    "from langchain_core.prompts import ChatPromptTemplate, MessagesPlaceholder\n",
    "\n",
    "order_inquiry_prompt = ChatPromptTemplate.from_messages(\n",
    "    [\n",
    "        (\n",
    "            \"system\",\n",
    "            \"You are a specialized assistant for handling order queries. \"\n",
    "            \"The primary assistant delegates work to you whenever the user needs help with their orders. \"\n",
    "            \"Confirm the order details with the customer and inform them of any additional information. \"\n",
    "            \"If you need more information or the customer changes their mind, escalate the task back to the main assistant.\"\n",
    "            \"\\n\\nCurrent user order information:\\n<Orders>\\n{user_info}\\n</Orders>\"\n",
    "            \"\\nCurrent time: {time}.\"\n",
    "            \"\\n\\nIf the user needs help, and none of your tools are appropriate for it, then\"\n",
    "            '\"CompleteOrEscalate\" the dialog to the host assistant. Do not waste the user\\'s time. Do not make up invalid tools or functions.',\n",
    "        ),\n",
    "        MessagesPlaceholder(variable_name=\"messages\"),\n",
    "    ]\n",
    ").partial(time=datetime.now())\n",
    "\n",
    "inquiry_tools = [view_order, view_change_order, view_cancel_order]\n",
    "order_inquiry_runnable = (\n",
    "    order_inquiry_prompt \n",
    "    | llm.bind_tools(inquiry_tools + [CompleteOrEscalate])\n",
    ")\n",
    "order_inquiry_runnable"
   ]
  },
  {
   "cell_type": "code",
   "execution_count": null,
   "metadata": {},
   "outputs": [],
   "source": []
  }
 ],
 "metadata": {
  "kernelspec": {
   "display_name": "venv",
   "language": "python",
   "name": "python3"
  },
  "language_info": {
   "codemirror_mode": {
    "name": "ipython",
    "version": 3
   },
   "file_extension": ".py",
   "mimetype": "text/x-python",
   "name": "python",
   "nbconvert_exporter": "python",
   "pygments_lexer": "ipython3",
   "version": "3.10.5"
  }
 },
 "nbformat": 4,
 "nbformat_minor": 2
}
