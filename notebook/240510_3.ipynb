{
 "cells": [
  {
   "cell_type": "code",
   "execution_count": 6,
   "metadata": {},
   "outputs": [
    {
     "data": {
      "text/plain": [
       "True"
      ]
     },
     "execution_count": 6,
     "metadata": {},
     "output_type": "execute_result"
    }
   ],
   "source": [
    "from dotenv import load_dotenv\n",
    "\n",
    "load_dotenv()"
   ]
  },
  {
   "cell_type": "code",
   "execution_count": 7,
   "metadata": {},
   "outputs": [],
   "source": [
    "from langchain_core.tools import tool\n",
    "\n",
    "@tool\n",
    "def get_recent_orders_by_status(user, status):\n",
    "    \"\"\"\n",
    "    Fetches the three most recent orders for a given user with a specific status.\n",
    "    \n",
    "    Args:\n",
    "    user (User): The user whose orders are to be retrieved.\n",
    "    status (str): The status of the orders to be retrieved.\n",
    "\n",
    "    Returns:\n",
    "    QuerySet: A list of order objects.\n",
    "    \"\"\"\n",
    "\n",
    "    return f\"{user} 사용자의 {status} 상태 주문 조회\""
   ]
  },
  {
   "cell_type": "code",
   "execution_count": 8,
   "metadata": {},
   "outputs": [],
   "source": [
    "from langchain.tools.render import render_text_description\n",
    "\n",
    "tools = [get_recent_orders_by_status]\n",
    "rendered_tools = render_text_description(tools)"
   ]
  },
  {
   "cell_type": "code",
   "execution_count": 9,
   "metadata": {},
   "outputs": [
    {
     "data": {
      "text/plain": [
       "PydanticOutputParser(pydantic_object=<class '__main__.ToolNecessity'>)"
      ]
     },
     "execution_count": 9,
     "metadata": {},
     "output_type": "execute_result"
    }
   ],
   "source": [
    "from langchain_core.pydantic_v1 import BaseModel, Field, validator\n",
    "from langchain.output_parsers import PydanticOutputParser\n",
    "\n",
    "class ToolNecessity(BaseModel):\n",
    "    necessity: str = Field(description=\"Determines if the use of the tool is necessary.\")\n",
    "\n",
    "    @validator(\"necessity\")\n",
    "    def validate_necessity(cls, value):\n",
    "        if value not in [\"yes\", \"no\"]:\n",
    "            raise ValueError(\"Necessity must be either 'yes' or 'no'.\")\n",
    "        return value\n",
    "    \n",
    "parser = PydanticOutputParser(pydantic_object=ToolNecessity)\n",
    "parser"
   ]
  },
  {
   "cell_type": "code",
   "execution_count": 12,
   "metadata": {},
   "outputs": [],
   "source": [
    "from langchain_core.prompts import PromptTemplate\n",
    "\n",
    "prompt = PromptTemplate(\n",
    "    template=\"Answer the user query.\\n{format_instructions}\\n{query}\\n\",\n",
    "    input_variables=[\"query\"],\n",
    "    partial_variables={\"format_instructions\": parser.get_format_instructions()},\n",
    ")"
   ]
  },
  {
   "cell_type": "code",
   "execution_count": 11,
   "metadata": {},
   "outputs": [],
   "source": [
    "from langchain_openai import OpenAI\n",
    "\n",
    "model = OpenAI(model_name=\"gpt-3.5-turbo-instruct\", temperature=0.0)"
   ]
  },
  {
   "cell_type": "code",
   "execution_count": 13,
   "metadata": {},
   "outputs": [
    {
     "ename": "OutputParserException",
     "evalue": "Failed to parse ToolNecessity from completion {\"necessity\": \"I'm sorry, I am not sure what you are asking for. Can you please provide more information?\"}. Got: 1 validation error for ToolNecessity\nnecessity\n  Necessity must be either 'yes' or 'no'. (type=value_error)",
     "output_type": "error",
     "traceback": [
      "\u001b[1;31m---------------------------------------------------------------------------\u001b[0m",
      "\u001b[1;31mValidationError\u001b[0m                           Traceback (most recent call last)",
      "File \u001b[1;32md:\\Repository\\orderbot_v2\\venv\\lib\\site-packages\\langchain_core\\output_parsers\\pydantic.py:35\u001b[0m, in \u001b[0;36mPydanticOutputParser._parse_obj\u001b[1;34m(self, obj)\u001b[0m\n\u001b[0;32m     34\u001b[0m \u001b[38;5;28;01melif\u001b[39;00m \u001b[38;5;28missubclass\u001b[39m(\u001b[38;5;28mself\u001b[39m\u001b[38;5;241m.\u001b[39mpydantic_object, pydantic\u001b[38;5;241m.\u001b[39mv1\u001b[38;5;241m.\u001b[39mBaseModel):\n\u001b[1;32m---> 35\u001b[0m     \u001b[38;5;28;01mreturn\u001b[39;00m \u001b[38;5;28;43mself\u001b[39;49m\u001b[38;5;241;43m.\u001b[39;49m\u001b[43mpydantic_object\u001b[49m\u001b[38;5;241;43m.\u001b[39;49m\u001b[43mparse_obj\u001b[49m\u001b[43m(\u001b[49m\u001b[43mobj\u001b[49m\u001b[43m)\u001b[49m\n\u001b[0;32m     36\u001b[0m \u001b[38;5;28;01melse\u001b[39;00m:\n",
      "File \u001b[1;32md:\\Repository\\orderbot_v2\\venv\\lib\\site-packages\\pydantic\\v1\\main.py:526\u001b[0m, in \u001b[0;36mBaseModel.parse_obj\u001b[1;34m(cls, obj)\u001b[0m\n\u001b[0;32m    525\u001b[0m         \u001b[38;5;28;01mraise\u001b[39;00m ValidationError([ErrorWrapper(exc, loc\u001b[38;5;241m=\u001b[39mROOT_KEY)], \u001b[38;5;28mcls\u001b[39m) \u001b[38;5;28;01mfrom\u001b[39;00m \u001b[38;5;21;01me\u001b[39;00m\n\u001b[1;32m--> 526\u001b[0m \u001b[38;5;28;01mreturn\u001b[39;00m \u001b[38;5;28mcls\u001b[39m(\u001b[38;5;241m*\u001b[39m\u001b[38;5;241m*\u001b[39mobj)\n",
      "File \u001b[1;32md:\\Repository\\orderbot_v2\\venv\\lib\\site-packages\\pydantic\\v1\\main.py:341\u001b[0m, in \u001b[0;36mBaseModel.__init__\u001b[1;34m(__pydantic_self__, **data)\u001b[0m\n\u001b[0;32m    340\u001b[0m \u001b[38;5;28;01mif\u001b[39;00m validation_error:\n\u001b[1;32m--> 341\u001b[0m     \u001b[38;5;28;01mraise\u001b[39;00m validation_error\n\u001b[0;32m    342\u001b[0m \u001b[38;5;28;01mtry\u001b[39;00m:\n",
      "\u001b[1;31mValidationError\u001b[0m: 1 validation error for ToolNecessity\nnecessity\n  Necessity must be either 'yes' or 'no'. (type=value_error)",
      "\nDuring handling of the above exception, another exception occurred:\n",
      "\u001b[1;31mOutputParserException\u001b[0m                     Traceback (most recent call last)",
      "Cell \u001b[1;32mIn[13], line 3\u001b[0m\n\u001b[0;32m      1\u001b[0m prompt_and_model \u001b[38;5;241m=\u001b[39m prompt \u001b[38;5;241m|\u001b[39m model\n\u001b[0;32m      2\u001b[0m output \u001b[38;5;241m=\u001b[39m prompt_and_model\u001b[38;5;241m.\u001b[39minvoke({\u001b[38;5;124m\"\u001b[39m\u001b[38;5;124mquery\u001b[39m\u001b[38;5;124m\"\u001b[39m: \u001b[38;5;124m\"\u001b[39m\u001b[38;5;124m내 이름은 \u001b[39m\u001b[38;5;124m'\u001b[39m\u001b[38;5;124m나들\u001b[39m\u001b[38;5;124m'\u001b[39m\u001b[38;5;124m이야\u001b[39m\u001b[38;5;124m\"\u001b[39m})\n\u001b[1;32m----> 3\u001b[0m \u001b[43mparser\u001b[49m\u001b[38;5;241;43m.\u001b[39;49m\u001b[43minvoke\u001b[49m\u001b[43m(\u001b[49m\u001b[43moutput\u001b[49m\u001b[43m)\u001b[49m\n",
      "File \u001b[1;32md:\\Repository\\orderbot_v2\\venv\\lib\\site-packages\\langchain_core\\output_parsers\\base.py:178\u001b[0m, in \u001b[0;36mBaseOutputParser.invoke\u001b[1;34m(self, input, config)\u001b[0m\n\u001b[0;32m    169\u001b[0m     \u001b[38;5;28;01mreturn\u001b[39;00m \u001b[38;5;28mself\u001b[39m\u001b[38;5;241m.\u001b[39m_call_with_config(\n\u001b[0;32m    170\u001b[0m         \u001b[38;5;28;01mlambda\u001b[39;00m inner_input: \u001b[38;5;28mself\u001b[39m\u001b[38;5;241m.\u001b[39mparse_result(\n\u001b[0;32m    171\u001b[0m             [ChatGeneration(message\u001b[38;5;241m=\u001b[39minner_input)]\n\u001b[1;32m   (...)\u001b[0m\n\u001b[0;32m    175\u001b[0m         run_type\u001b[38;5;241m=\u001b[39m\u001b[38;5;124m\"\u001b[39m\u001b[38;5;124mparser\u001b[39m\u001b[38;5;124m\"\u001b[39m,\n\u001b[0;32m    176\u001b[0m     )\n\u001b[0;32m    177\u001b[0m \u001b[38;5;28;01melse\u001b[39;00m:\n\u001b[1;32m--> 178\u001b[0m     \u001b[38;5;28;01mreturn\u001b[39;00m \u001b[38;5;28;43mself\u001b[39;49m\u001b[38;5;241;43m.\u001b[39;49m\u001b[43m_call_with_config\u001b[49m\u001b[43m(\u001b[49m\n\u001b[0;32m    179\u001b[0m \u001b[43m        \u001b[49m\u001b[38;5;28;43;01mlambda\u001b[39;49;00m\u001b[43m \u001b[49m\u001b[43minner_input\u001b[49m\u001b[43m:\u001b[49m\u001b[43m \u001b[49m\u001b[38;5;28;43mself\u001b[39;49m\u001b[38;5;241;43m.\u001b[39;49m\u001b[43mparse_result\u001b[49m\u001b[43m(\u001b[49m\u001b[43m[\u001b[49m\u001b[43mGeneration\u001b[49m\u001b[43m(\u001b[49m\u001b[43mtext\u001b[49m\u001b[38;5;241;43m=\u001b[39;49m\u001b[43minner_input\u001b[49m\u001b[43m)\u001b[49m\u001b[43m]\u001b[49m\u001b[43m)\u001b[49m\u001b[43m,\u001b[49m\n\u001b[0;32m    180\u001b[0m \u001b[43m        \u001b[49m\u001b[38;5;28;43minput\u001b[39;49m\u001b[43m,\u001b[49m\n\u001b[0;32m    181\u001b[0m \u001b[43m        \u001b[49m\u001b[43mconfig\u001b[49m\u001b[43m,\u001b[49m\n\u001b[0;32m    182\u001b[0m \u001b[43m        \u001b[49m\u001b[43mrun_type\u001b[49m\u001b[38;5;241;43m=\u001b[39;49m\u001b[38;5;124;43m\"\u001b[39;49m\u001b[38;5;124;43mparser\u001b[39;49m\u001b[38;5;124;43m\"\u001b[39;49m\u001b[43m,\u001b[49m\n\u001b[0;32m    183\u001b[0m \u001b[43m    \u001b[49m\u001b[43m)\u001b[49m\n",
      "File \u001b[1;32md:\\Repository\\orderbot_v2\\venv\\lib\\site-packages\\langchain_core\\runnables\\base.py:1626\u001b[0m, in \u001b[0;36mRunnable._call_with_config\u001b[1;34m(self, func, input, config, run_type, **kwargs)\u001b[0m\n\u001b[0;32m   1622\u001b[0m     context \u001b[38;5;241m=\u001b[39m copy_context()\n\u001b[0;32m   1623\u001b[0m     context\u001b[38;5;241m.\u001b[39mrun(var_child_runnable_config\u001b[38;5;241m.\u001b[39mset, child_config)\n\u001b[0;32m   1624\u001b[0m     output \u001b[38;5;241m=\u001b[39m cast(\n\u001b[0;32m   1625\u001b[0m         Output,\n\u001b[1;32m-> 1626\u001b[0m         context\u001b[38;5;241m.\u001b[39mrun(\n\u001b[0;32m   1627\u001b[0m             call_func_with_variable_args,  \u001b[38;5;66;03m# type: ignore[arg-type]\u001b[39;00m\n\u001b[0;32m   1628\u001b[0m             func,  \u001b[38;5;66;03m# type: ignore[arg-type]\u001b[39;00m\n\u001b[0;32m   1629\u001b[0m             \u001b[38;5;28minput\u001b[39m,  \u001b[38;5;66;03m# type: ignore[arg-type]\u001b[39;00m\n\u001b[0;32m   1630\u001b[0m             config,\n\u001b[0;32m   1631\u001b[0m             run_manager,\n\u001b[0;32m   1632\u001b[0m             \u001b[38;5;241m*\u001b[39m\u001b[38;5;241m*\u001b[39mkwargs,\n\u001b[0;32m   1633\u001b[0m         ),\n\u001b[0;32m   1634\u001b[0m     )\n\u001b[0;32m   1635\u001b[0m \u001b[38;5;28;01mexcept\u001b[39;00m \u001b[38;5;167;01mBaseException\u001b[39;00m \u001b[38;5;28;01mas\u001b[39;00m e:\n\u001b[0;32m   1636\u001b[0m     run_manager\u001b[38;5;241m.\u001b[39mon_chain_error(e)\n",
      "File \u001b[1;32md:\\Repository\\orderbot_v2\\venv\\lib\\site-packages\\langchain_core\\runnables\\config.py:347\u001b[0m, in \u001b[0;36mcall_func_with_variable_args\u001b[1;34m(func, input, config, run_manager, **kwargs)\u001b[0m\n\u001b[0;32m    345\u001b[0m \u001b[38;5;28;01mif\u001b[39;00m run_manager \u001b[38;5;129;01mis\u001b[39;00m \u001b[38;5;129;01mnot\u001b[39;00m \u001b[38;5;28;01mNone\u001b[39;00m \u001b[38;5;129;01mand\u001b[39;00m accepts_run_manager(func):\n\u001b[0;32m    346\u001b[0m     kwargs[\u001b[38;5;124m\"\u001b[39m\u001b[38;5;124mrun_manager\u001b[39m\u001b[38;5;124m\"\u001b[39m] \u001b[38;5;241m=\u001b[39m run_manager\n\u001b[1;32m--> 347\u001b[0m \u001b[38;5;28;01mreturn\u001b[39;00m func(\u001b[38;5;28minput\u001b[39m, \u001b[38;5;241m*\u001b[39m\u001b[38;5;241m*\u001b[39mkwargs)\n",
      "File \u001b[1;32md:\\Repository\\orderbot_v2\\venv\\lib\\site-packages\\langchain_core\\output_parsers\\base.py:179\u001b[0m, in \u001b[0;36mBaseOutputParser.invoke.<locals>.<lambda>\u001b[1;34m(inner_input)\u001b[0m\n\u001b[0;32m    169\u001b[0m     \u001b[38;5;28;01mreturn\u001b[39;00m \u001b[38;5;28mself\u001b[39m\u001b[38;5;241m.\u001b[39m_call_with_config(\n\u001b[0;32m    170\u001b[0m         \u001b[38;5;28;01mlambda\u001b[39;00m inner_input: \u001b[38;5;28mself\u001b[39m\u001b[38;5;241m.\u001b[39mparse_result(\n\u001b[0;32m    171\u001b[0m             [ChatGeneration(message\u001b[38;5;241m=\u001b[39minner_input)]\n\u001b[1;32m   (...)\u001b[0m\n\u001b[0;32m    175\u001b[0m         run_type\u001b[38;5;241m=\u001b[39m\u001b[38;5;124m\"\u001b[39m\u001b[38;5;124mparser\u001b[39m\u001b[38;5;124m\"\u001b[39m,\n\u001b[0;32m    176\u001b[0m     )\n\u001b[0;32m    177\u001b[0m \u001b[38;5;28;01melse\u001b[39;00m:\n\u001b[0;32m    178\u001b[0m     \u001b[38;5;28;01mreturn\u001b[39;00m \u001b[38;5;28mself\u001b[39m\u001b[38;5;241m.\u001b[39m_call_with_config(\n\u001b[1;32m--> 179\u001b[0m         \u001b[38;5;28;01mlambda\u001b[39;00m inner_input: \u001b[38;5;28;43mself\u001b[39;49m\u001b[38;5;241;43m.\u001b[39;49m\u001b[43mparse_result\u001b[49m\u001b[43m(\u001b[49m\u001b[43m[\u001b[49m\u001b[43mGeneration\u001b[49m\u001b[43m(\u001b[49m\u001b[43mtext\u001b[49m\u001b[38;5;241;43m=\u001b[39;49m\u001b[43minner_input\u001b[49m\u001b[43m)\u001b[49m\u001b[43m]\u001b[49m\u001b[43m)\u001b[49m,\n\u001b[0;32m    180\u001b[0m         \u001b[38;5;28minput\u001b[39m,\n\u001b[0;32m    181\u001b[0m         config,\n\u001b[0;32m    182\u001b[0m         run_type\u001b[38;5;241m=\u001b[39m\u001b[38;5;124m\"\u001b[39m\u001b[38;5;124mparser\u001b[39m\u001b[38;5;124m\"\u001b[39m,\n\u001b[0;32m    183\u001b[0m     )\n",
      "File \u001b[1;32md:\\Repository\\orderbot_v2\\venv\\lib\\site-packages\\langchain_core\\output_parsers\\pydantic.py:61\u001b[0m, in \u001b[0;36mPydanticOutputParser.parse_result\u001b[1;34m(self, result, partial)\u001b[0m\n\u001b[0;32m     57\u001b[0m \u001b[38;5;28;01mdef\u001b[39;00m \u001b[38;5;21mparse_result\u001b[39m(\n\u001b[0;32m     58\u001b[0m     \u001b[38;5;28mself\u001b[39m, result: List[Generation], \u001b[38;5;241m*\u001b[39m, partial: \u001b[38;5;28mbool\u001b[39m \u001b[38;5;241m=\u001b[39m \u001b[38;5;28;01mFalse\u001b[39;00m\n\u001b[0;32m     59\u001b[0m ) \u001b[38;5;241m-\u001b[39m\u001b[38;5;241m>\u001b[39m TBaseModel:\n\u001b[0;32m     60\u001b[0m     json_object \u001b[38;5;241m=\u001b[39m \u001b[38;5;28msuper\u001b[39m()\u001b[38;5;241m.\u001b[39mparse_result(result)\n\u001b[1;32m---> 61\u001b[0m     \u001b[38;5;28;01mreturn\u001b[39;00m \u001b[38;5;28;43mself\u001b[39;49m\u001b[38;5;241;43m.\u001b[39;49m\u001b[43m_parse_obj\u001b[49m\u001b[43m(\u001b[49m\u001b[43mjson_object\u001b[49m\u001b[43m)\u001b[49m\n",
      "File \u001b[1;32md:\\Repository\\orderbot_v2\\venv\\lib\\site-packages\\langchain_core\\output_parsers\\pydantic.py:42\u001b[0m, in \u001b[0;36mPydanticOutputParser._parse_obj\u001b[1;34m(self, obj)\u001b[0m\n\u001b[0;32m     37\u001b[0m             \u001b[38;5;28;01mraise\u001b[39;00m OutputParserException(\n\u001b[0;32m     38\u001b[0m                 \u001b[38;5;124mf\u001b[39m\u001b[38;5;124m\"\u001b[39m\u001b[38;5;124mUnsupported model version for PydanticOutputParser: \u001b[39m\u001b[38;5;130;01m\\\u001b[39;00m\n\u001b[0;32m     39\u001b[0m \u001b[38;5;124m                    \u001b[39m\u001b[38;5;132;01m{\u001b[39;00m\u001b[38;5;28mself\u001b[39m\u001b[38;5;241m.\u001b[39mpydantic_object\u001b[38;5;241m.\u001b[39m\u001b[38;5;18m__class__\u001b[39m\u001b[38;5;132;01m}\u001b[39;00m\u001b[38;5;124m\"\u001b[39m\n\u001b[0;32m     40\u001b[0m             )\n\u001b[0;32m     41\u001b[0m     \u001b[38;5;28;01mexcept\u001b[39;00m (pydantic\u001b[38;5;241m.\u001b[39mValidationError, pydantic\u001b[38;5;241m.\u001b[39mv1\u001b[38;5;241m.\u001b[39mValidationError) \u001b[38;5;28;01mas\u001b[39;00m e:\n\u001b[1;32m---> 42\u001b[0m         \u001b[38;5;28;01mraise\u001b[39;00m \u001b[38;5;28mself\u001b[39m\u001b[38;5;241m.\u001b[39m_parser_exception(e, obj)\n\u001b[0;32m     43\u001b[0m \u001b[38;5;28;01melse\u001b[39;00m:  \u001b[38;5;66;03m# pydantic v1\u001b[39;00m\n\u001b[0;32m     44\u001b[0m     \u001b[38;5;28;01mtry\u001b[39;00m:\n",
      "\u001b[1;31mOutputParserException\u001b[0m: Failed to parse ToolNecessity from completion {\"necessity\": \"I'm sorry, I am not sure what you are asking for. Can you please provide more information?\"}. Got: 1 validation error for ToolNecessity\nnecessity\n  Necessity must be either 'yes' or 'no'. (type=value_error)"
     ]
    }
   ],
   "source": [
    "prompt_and_model = prompt | model\n",
    "output = prompt_and_model.invoke({\"query\": \"내 이름은 '나들'이야\"})\n",
    "parser.invoke(output)"
   ]
  },
  {
   "cell_type": "code",
   "execution_count": 16,
   "metadata": {},
   "outputs": [
    {
     "data": {
      "text/plain": [
       "PromptTemplate(input_variables=['query', 'rendered_tools'], partial_variables={'format_instructions': 'The output should be formatted as a JSON instance that conforms to the JSON schema below.\\n\\nAs an example, for the schema {\"properties\": {\"foo\": {\"title\": \"Foo\", \"description\": \"a list of strings\", \"type\": \"array\", \"items\": {\"type\": \"string\"}}}, \"required\": [\"foo\"]}\\nthe object {\"foo\": [\"bar\", \"baz\"]} is a well-formatted instance of the schema. The object {\"properties\": {\"foo\": [\"bar\", \"baz\"]}} is not well-formatted.\\n\\nHere is the output schema:\\n```\\n{\"properties\": {\"necessity\": {\"title\": \"Necessity\", \"description\": \"Determines if the use of the tool is necessary.\", \"type\": \"string\"}}, \"required\": [\"necessity\"]}\\n```'}, template=\"\\nYou are an assistant that has access to the following set of tools. Here are the names and descriptions for each tool:\\n\\n{rendered_tools}\\n\\n사용자의 입력을 보고 위의 도구를 사용할 필요가 있을지 판단해줘.\\n아래 단계를 따라 도구 사용 여부를 판단해.\\n1. \\n사용 가능한 도구와 각 도구에 대한 설명을 빠짐없이 파악해.\\n2. \\n사용자 입력에 대한 응답을 생성하는 데 필요한 도구가 있는지 파악해.\\n응답 생성에 도구가 필요하지 않다면 'no'라고 응답해.\\n응답 생성에 도구가 필요하고, 그 도구가 사용 가능한 도구 모음에 있다면 'yes'라고 응답해.\\n3.\\n이전 대화 또는 사용자 입력에서 도구 호출에 필요한 인자 모두를 추출할 수 있는지 확인해.\\n만약 필요 인자 모두를 추출하지 못한다면 'no'라고 응답해.\\n\\n[!주의사항]\\n응답은 반드시 'yes' 또는 'no' 중 하나로 해야해.\\n응답을 출력하기 전에 대답이 'yes' 또는 'no' 중 하나인지 확인하고 만약 이 두 값 중 하나가 아닐 경우 다시 앞의 단계를 따라 판단한 후 두 값 중 하나로 답변해줘.\\n\\n\\n{format_instructions}\\n{query}\\n\\n\")"
      ]
     },
     "execution_count": 16,
     "metadata": {},
     "output_type": "execute_result"
    }
   ],
   "source": [
    "from langchain_core.prompts import PromptTemplate\n",
    "\n",
    "template = \"\"\"\n",
    "You are an assistant that has access to the following set of tools. Here are the names and descriptions for each tool:\n",
    "\n",
    "{rendered_tools}\n",
    "\n",
    "사용자의 입력을 보고 위의 도구를 사용할 필요가 있을지 판단해줘.\n",
    "아래 단계를 따라 도구 사용 여부를 판단해.\n",
    "1. \n",
    "사용 가능한 도구와 각 도구에 대한 설명을 빠짐없이 파악해.\n",
    "2. \n",
    "사용자 입력에 대한 응답을 생성하는 데 필요한 도구가 있는지 파악해.\n",
    "응답 생성에 도구가 필요하지 않다면 'no'라고 응답해.\n",
    "응답 생성에 도구가 필요하고, 그 도구가 사용 가능한 도구 모음에 있다면 'yes'라고 응답해.\n",
    "3.\n",
    "이전 대화 또는 사용자 입력에서 도구 호출에 필요한 인자 모두를 추출할 수 있는지 확인해.\n",
    "만약 필요 인자 모두를 추출하지 못한다면 'no'라고 응답해.\n",
    "\n",
    "[!주의사항]\n",
    "응답은 반드시 'yes' 또는 'no' 중 하나로 해야해.\n",
    "응답을 출력하기 전에 대답이 'yes' 또는 'no' 중 하나인지 확인하고 만약 이 두 값 중 하나가 아닐 경우 다시 앞의 단계를 따라 판단한 후 두 값 중 하나로 답변해줘.\n",
    "\n",
    "\\n{format_instructions}\\n{query}\\n\n",
    "\"\"\"\n",
    "prompt = PromptTemplate(\n",
    "    template=template ,\n",
    "    input_variables=[\"query\", \"rendered_tools\"],\n",
    "    partial_variables={\"format_instructions\": parser.get_format_instructions()},\n",
    ")\n",
    "prompt "
   ]
  },
  {
   "cell_type": "code",
   "execution_count": 17,
   "metadata": {},
   "outputs": [
    {
     "ename": "OutputParserException",
     "evalue": "Failed to parse ToolNecessity from completion {\"properties\": {\"necessity\": {\"title\": \"Necessity\", \"description\": \"Determines if the use of the tool is necessary.\", \"type\": \"string\"}}, \"required\": [\"necessity\"]}. Got: 1 validation error for ToolNecessity\nnecessity\n  field required (type=value_error.missing)",
     "output_type": "error",
     "traceback": [
      "\u001b[1;31m---------------------------------------------------------------------------\u001b[0m",
      "\u001b[1;31mValidationError\u001b[0m                           Traceback (most recent call last)",
      "File \u001b[1;32md:\\Repository\\orderbot_v2\\venv\\lib\\site-packages\\langchain_core\\output_parsers\\pydantic.py:35\u001b[0m, in \u001b[0;36mPydanticOutputParser._parse_obj\u001b[1;34m(self, obj)\u001b[0m\n\u001b[0;32m     34\u001b[0m \u001b[38;5;28;01melif\u001b[39;00m \u001b[38;5;28missubclass\u001b[39m(\u001b[38;5;28mself\u001b[39m\u001b[38;5;241m.\u001b[39mpydantic_object, pydantic\u001b[38;5;241m.\u001b[39mv1\u001b[38;5;241m.\u001b[39mBaseModel):\n\u001b[1;32m---> 35\u001b[0m     \u001b[38;5;28;01mreturn\u001b[39;00m \u001b[38;5;28;43mself\u001b[39;49m\u001b[38;5;241;43m.\u001b[39;49m\u001b[43mpydantic_object\u001b[49m\u001b[38;5;241;43m.\u001b[39;49m\u001b[43mparse_obj\u001b[49m\u001b[43m(\u001b[49m\u001b[43mobj\u001b[49m\u001b[43m)\u001b[49m\n\u001b[0;32m     36\u001b[0m \u001b[38;5;28;01melse\u001b[39;00m:\n",
      "File \u001b[1;32md:\\Repository\\orderbot_v2\\venv\\lib\\site-packages\\pydantic\\v1\\main.py:526\u001b[0m, in \u001b[0;36mBaseModel.parse_obj\u001b[1;34m(cls, obj)\u001b[0m\n\u001b[0;32m    525\u001b[0m         \u001b[38;5;28;01mraise\u001b[39;00m ValidationError([ErrorWrapper(exc, loc\u001b[38;5;241m=\u001b[39mROOT_KEY)], \u001b[38;5;28mcls\u001b[39m) \u001b[38;5;28;01mfrom\u001b[39;00m \u001b[38;5;21;01me\u001b[39;00m\n\u001b[1;32m--> 526\u001b[0m \u001b[38;5;28;01mreturn\u001b[39;00m \u001b[38;5;28mcls\u001b[39m(\u001b[38;5;241m*\u001b[39m\u001b[38;5;241m*\u001b[39mobj)\n",
      "File \u001b[1;32md:\\Repository\\orderbot_v2\\venv\\lib\\site-packages\\pydantic\\v1\\main.py:341\u001b[0m, in \u001b[0;36mBaseModel.__init__\u001b[1;34m(__pydantic_self__, **data)\u001b[0m\n\u001b[0;32m    340\u001b[0m \u001b[38;5;28;01mif\u001b[39;00m validation_error:\n\u001b[1;32m--> 341\u001b[0m     \u001b[38;5;28;01mraise\u001b[39;00m validation_error\n\u001b[0;32m    342\u001b[0m \u001b[38;5;28;01mtry\u001b[39;00m:\n",
      "\u001b[1;31mValidationError\u001b[0m: 1 validation error for ToolNecessity\nnecessity\n  field required (type=value_error.missing)",
      "\nDuring handling of the above exception, another exception occurred:\n",
      "\u001b[1;31mOutputParserException\u001b[0m                     Traceback (most recent call last)",
      "Cell \u001b[1;32mIn[17], line 4\u001b[0m\n\u001b[0;32m      1\u001b[0m prompt_and_model \u001b[38;5;241m=\u001b[39m prompt \u001b[38;5;241m|\u001b[39m model\n\u001b[0;32m      2\u001b[0m output \u001b[38;5;241m=\u001b[39m prompt_and_model\u001b[38;5;241m.\u001b[39minvoke({\u001b[38;5;124m\"\u001b[39m\u001b[38;5;124mquery\u001b[39m\u001b[38;5;124m\"\u001b[39m: \u001b[38;5;124m\"\u001b[39m\u001b[38;5;124m내 이름은 \u001b[39m\u001b[38;5;124m'\u001b[39m\u001b[38;5;124m나들\u001b[39m\u001b[38;5;124m'\u001b[39m\u001b[38;5;124m이야\u001b[39m\u001b[38;5;124m\"\u001b[39m,\n\u001b[0;32m      3\u001b[0m                                   \u001b[38;5;124m\"\u001b[39m\u001b[38;5;124mrendered_tools\u001b[39m\u001b[38;5;124m\"\u001b[39m: rendered_tools})\n\u001b[1;32m----> 4\u001b[0m \u001b[43mparser\u001b[49m\u001b[38;5;241;43m.\u001b[39;49m\u001b[43minvoke\u001b[49m\u001b[43m(\u001b[49m\u001b[43moutput\u001b[49m\u001b[43m)\u001b[49m\n",
      "File \u001b[1;32md:\\Repository\\orderbot_v2\\venv\\lib\\site-packages\\langchain_core\\output_parsers\\base.py:178\u001b[0m, in \u001b[0;36mBaseOutputParser.invoke\u001b[1;34m(self, input, config)\u001b[0m\n\u001b[0;32m    169\u001b[0m     \u001b[38;5;28;01mreturn\u001b[39;00m \u001b[38;5;28mself\u001b[39m\u001b[38;5;241m.\u001b[39m_call_with_config(\n\u001b[0;32m    170\u001b[0m         \u001b[38;5;28;01mlambda\u001b[39;00m inner_input: \u001b[38;5;28mself\u001b[39m\u001b[38;5;241m.\u001b[39mparse_result(\n\u001b[0;32m    171\u001b[0m             [ChatGeneration(message\u001b[38;5;241m=\u001b[39minner_input)]\n\u001b[1;32m   (...)\u001b[0m\n\u001b[0;32m    175\u001b[0m         run_type\u001b[38;5;241m=\u001b[39m\u001b[38;5;124m\"\u001b[39m\u001b[38;5;124mparser\u001b[39m\u001b[38;5;124m\"\u001b[39m,\n\u001b[0;32m    176\u001b[0m     )\n\u001b[0;32m    177\u001b[0m \u001b[38;5;28;01melse\u001b[39;00m:\n\u001b[1;32m--> 178\u001b[0m     \u001b[38;5;28;01mreturn\u001b[39;00m \u001b[38;5;28;43mself\u001b[39;49m\u001b[38;5;241;43m.\u001b[39;49m\u001b[43m_call_with_config\u001b[49m\u001b[43m(\u001b[49m\n\u001b[0;32m    179\u001b[0m \u001b[43m        \u001b[49m\u001b[38;5;28;43;01mlambda\u001b[39;49;00m\u001b[43m \u001b[49m\u001b[43minner_input\u001b[49m\u001b[43m:\u001b[49m\u001b[43m \u001b[49m\u001b[38;5;28;43mself\u001b[39;49m\u001b[38;5;241;43m.\u001b[39;49m\u001b[43mparse_result\u001b[49m\u001b[43m(\u001b[49m\u001b[43m[\u001b[49m\u001b[43mGeneration\u001b[49m\u001b[43m(\u001b[49m\u001b[43mtext\u001b[49m\u001b[38;5;241;43m=\u001b[39;49m\u001b[43minner_input\u001b[49m\u001b[43m)\u001b[49m\u001b[43m]\u001b[49m\u001b[43m)\u001b[49m\u001b[43m,\u001b[49m\n\u001b[0;32m    180\u001b[0m \u001b[43m        \u001b[49m\u001b[38;5;28;43minput\u001b[39;49m\u001b[43m,\u001b[49m\n\u001b[0;32m    181\u001b[0m \u001b[43m        \u001b[49m\u001b[43mconfig\u001b[49m\u001b[43m,\u001b[49m\n\u001b[0;32m    182\u001b[0m \u001b[43m        \u001b[49m\u001b[43mrun_type\u001b[49m\u001b[38;5;241;43m=\u001b[39;49m\u001b[38;5;124;43m\"\u001b[39;49m\u001b[38;5;124;43mparser\u001b[39;49m\u001b[38;5;124;43m\"\u001b[39;49m\u001b[43m,\u001b[49m\n\u001b[0;32m    183\u001b[0m \u001b[43m    \u001b[49m\u001b[43m)\u001b[49m\n",
      "File \u001b[1;32md:\\Repository\\orderbot_v2\\venv\\lib\\site-packages\\langchain_core\\runnables\\base.py:1626\u001b[0m, in \u001b[0;36mRunnable._call_with_config\u001b[1;34m(self, func, input, config, run_type, **kwargs)\u001b[0m\n\u001b[0;32m   1622\u001b[0m     context \u001b[38;5;241m=\u001b[39m copy_context()\n\u001b[0;32m   1623\u001b[0m     context\u001b[38;5;241m.\u001b[39mrun(var_child_runnable_config\u001b[38;5;241m.\u001b[39mset, child_config)\n\u001b[0;32m   1624\u001b[0m     output \u001b[38;5;241m=\u001b[39m cast(\n\u001b[0;32m   1625\u001b[0m         Output,\n\u001b[1;32m-> 1626\u001b[0m         context\u001b[38;5;241m.\u001b[39mrun(\n\u001b[0;32m   1627\u001b[0m             call_func_with_variable_args,  \u001b[38;5;66;03m# type: ignore[arg-type]\u001b[39;00m\n\u001b[0;32m   1628\u001b[0m             func,  \u001b[38;5;66;03m# type: ignore[arg-type]\u001b[39;00m\n\u001b[0;32m   1629\u001b[0m             \u001b[38;5;28minput\u001b[39m,  \u001b[38;5;66;03m# type: ignore[arg-type]\u001b[39;00m\n\u001b[0;32m   1630\u001b[0m             config,\n\u001b[0;32m   1631\u001b[0m             run_manager,\n\u001b[0;32m   1632\u001b[0m             \u001b[38;5;241m*\u001b[39m\u001b[38;5;241m*\u001b[39mkwargs,\n\u001b[0;32m   1633\u001b[0m         ),\n\u001b[0;32m   1634\u001b[0m     )\n\u001b[0;32m   1635\u001b[0m \u001b[38;5;28;01mexcept\u001b[39;00m \u001b[38;5;167;01mBaseException\u001b[39;00m \u001b[38;5;28;01mas\u001b[39;00m e:\n\u001b[0;32m   1636\u001b[0m     run_manager\u001b[38;5;241m.\u001b[39mon_chain_error(e)\n",
      "File \u001b[1;32md:\\Repository\\orderbot_v2\\venv\\lib\\site-packages\\langchain_core\\runnables\\config.py:347\u001b[0m, in \u001b[0;36mcall_func_with_variable_args\u001b[1;34m(func, input, config, run_manager, **kwargs)\u001b[0m\n\u001b[0;32m    345\u001b[0m \u001b[38;5;28;01mif\u001b[39;00m run_manager \u001b[38;5;129;01mis\u001b[39;00m \u001b[38;5;129;01mnot\u001b[39;00m \u001b[38;5;28;01mNone\u001b[39;00m \u001b[38;5;129;01mand\u001b[39;00m accepts_run_manager(func):\n\u001b[0;32m    346\u001b[0m     kwargs[\u001b[38;5;124m\"\u001b[39m\u001b[38;5;124mrun_manager\u001b[39m\u001b[38;5;124m\"\u001b[39m] \u001b[38;5;241m=\u001b[39m run_manager\n\u001b[1;32m--> 347\u001b[0m \u001b[38;5;28;01mreturn\u001b[39;00m func(\u001b[38;5;28minput\u001b[39m, \u001b[38;5;241m*\u001b[39m\u001b[38;5;241m*\u001b[39mkwargs)\n",
      "File \u001b[1;32md:\\Repository\\orderbot_v2\\venv\\lib\\site-packages\\langchain_core\\output_parsers\\base.py:179\u001b[0m, in \u001b[0;36mBaseOutputParser.invoke.<locals>.<lambda>\u001b[1;34m(inner_input)\u001b[0m\n\u001b[0;32m    169\u001b[0m     \u001b[38;5;28;01mreturn\u001b[39;00m \u001b[38;5;28mself\u001b[39m\u001b[38;5;241m.\u001b[39m_call_with_config(\n\u001b[0;32m    170\u001b[0m         \u001b[38;5;28;01mlambda\u001b[39;00m inner_input: \u001b[38;5;28mself\u001b[39m\u001b[38;5;241m.\u001b[39mparse_result(\n\u001b[0;32m    171\u001b[0m             [ChatGeneration(message\u001b[38;5;241m=\u001b[39minner_input)]\n\u001b[1;32m   (...)\u001b[0m\n\u001b[0;32m    175\u001b[0m         run_type\u001b[38;5;241m=\u001b[39m\u001b[38;5;124m\"\u001b[39m\u001b[38;5;124mparser\u001b[39m\u001b[38;5;124m\"\u001b[39m,\n\u001b[0;32m    176\u001b[0m     )\n\u001b[0;32m    177\u001b[0m \u001b[38;5;28;01melse\u001b[39;00m:\n\u001b[0;32m    178\u001b[0m     \u001b[38;5;28;01mreturn\u001b[39;00m \u001b[38;5;28mself\u001b[39m\u001b[38;5;241m.\u001b[39m_call_with_config(\n\u001b[1;32m--> 179\u001b[0m         \u001b[38;5;28;01mlambda\u001b[39;00m inner_input: \u001b[38;5;28;43mself\u001b[39;49m\u001b[38;5;241;43m.\u001b[39;49m\u001b[43mparse_result\u001b[49m\u001b[43m(\u001b[49m\u001b[43m[\u001b[49m\u001b[43mGeneration\u001b[49m\u001b[43m(\u001b[49m\u001b[43mtext\u001b[49m\u001b[38;5;241;43m=\u001b[39;49m\u001b[43minner_input\u001b[49m\u001b[43m)\u001b[49m\u001b[43m]\u001b[49m\u001b[43m)\u001b[49m,\n\u001b[0;32m    180\u001b[0m         \u001b[38;5;28minput\u001b[39m,\n\u001b[0;32m    181\u001b[0m         config,\n\u001b[0;32m    182\u001b[0m         run_type\u001b[38;5;241m=\u001b[39m\u001b[38;5;124m\"\u001b[39m\u001b[38;5;124mparser\u001b[39m\u001b[38;5;124m\"\u001b[39m,\n\u001b[0;32m    183\u001b[0m     )\n",
      "File \u001b[1;32md:\\Repository\\orderbot_v2\\venv\\lib\\site-packages\\langchain_core\\output_parsers\\pydantic.py:61\u001b[0m, in \u001b[0;36mPydanticOutputParser.parse_result\u001b[1;34m(self, result, partial)\u001b[0m\n\u001b[0;32m     57\u001b[0m \u001b[38;5;28;01mdef\u001b[39;00m \u001b[38;5;21mparse_result\u001b[39m(\n\u001b[0;32m     58\u001b[0m     \u001b[38;5;28mself\u001b[39m, result: List[Generation], \u001b[38;5;241m*\u001b[39m, partial: \u001b[38;5;28mbool\u001b[39m \u001b[38;5;241m=\u001b[39m \u001b[38;5;28;01mFalse\u001b[39;00m\n\u001b[0;32m     59\u001b[0m ) \u001b[38;5;241m-\u001b[39m\u001b[38;5;241m>\u001b[39m TBaseModel:\n\u001b[0;32m     60\u001b[0m     json_object \u001b[38;5;241m=\u001b[39m \u001b[38;5;28msuper\u001b[39m()\u001b[38;5;241m.\u001b[39mparse_result(result)\n\u001b[1;32m---> 61\u001b[0m     \u001b[38;5;28;01mreturn\u001b[39;00m \u001b[38;5;28;43mself\u001b[39;49m\u001b[38;5;241;43m.\u001b[39;49m\u001b[43m_parse_obj\u001b[49m\u001b[43m(\u001b[49m\u001b[43mjson_object\u001b[49m\u001b[43m)\u001b[49m\n",
      "File \u001b[1;32md:\\Repository\\orderbot_v2\\venv\\lib\\site-packages\\langchain_core\\output_parsers\\pydantic.py:42\u001b[0m, in \u001b[0;36mPydanticOutputParser._parse_obj\u001b[1;34m(self, obj)\u001b[0m\n\u001b[0;32m     37\u001b[0m             \u001b[38;5;28;01mraise\u001b[39;00m OutputParserException(\n\u001b[0;32m     38\u001b[0m                 \u001b[38;5;124mf\u001b[39m\u001b[38;5;124m\"\u001b[39m\u001b[38;5;124mUnsupported model version for PydanticOutputParser: \u001b[39m\u001b[38;5;130;01m\\\u001b[39;00m\n\u001b[0;32m     39\u001b[0m \u001b[38;5;124m                    \u001b[39m\u001b[38;5;132;01m{\u001b[39;00m\u001b[38;5;28mself\u001b[39m\u001b[38;5;241m.\u001b[39mpydantic_object\u001b[38;5;241m.\u001b[39m\u001b[38;5;18m__class__\u001b[39m\u001b[38;5;132;01m}\u001b[39;00m\u001b[38;5;124m\"\u001b[39m\n\u001b[0;32m     40\u001b[0m             )\n\u001b[0;32m     41\u001b[0m     \u001b[38;5;28;01mexcept\u001b[39;00m (pydantic\u001b[38;5;241m.\u001b[39mValidationError, pydantic\u001b[38;5;241m.\u001b[39mv1\u001b[38;5;241m.\u001b[39mValidationError) \u001b[38;5;28;01mas\u001b[39;00m e:\n\u001b[1;32m---> 42\u001b[0m         \u001b[38;5;28;01mraise\u001b[39;00m \u001b[38;5;28mself\u001b[39m\u001b[38;5;241m.\u001b[39m_parser_exception(e, obj)\n\u001b[0;32m     43\u001b[0m \u001b[38;5;28;01melse\u001b[39;00m:  \u001b[38;5;66;03m# pydantic v1\u001b[39;00m\n\u001b[0;32m     44\u001b[0m     \u001b[38;5;28;01mtry\u001b[39;00m:\n",
      "\u001b[1;31mOutputParserException\u001b[0m: Failed to parse ToolNecessity from completion {\"properties\": {\"necessity\": {\"title\": \"Necessity\", \"description\": \"Determines if the use of the tool is necessary.\", \"type\": \"string\"}}, \"required\": [\"necessity\"]}. Got: 1 validation error for ToolNecessity\nnecessity\n  field required (type=value_error.missing)"
     ]
    }
   ],
   "source": [
    "prompt_and_model = prompt | model\n",
    "output = prompt_and_model.invoke({\"query\": \"내 이름은 '나들'이야\",\n",
    "                                  \"rendered_tools\": rendered_tools})\n",
    "parser.invoke(output)"
   ]
  },
  {
   "cell_type": "code",
   "execution_count": 18,
   "metadata": {},
   "outputs": [
    {
     "data": {
      "text/plain": [
       "'\\n{\\n    \"properties\": {\\n        \"necessity\": {\\n            \"title\": \"Necessity\",\\n            \"description\": \"Determines if the use of the tool is necessary.\",\\n            \"type\": \"string\"\\n        }\\n    },\\n    \"required\": [\"necessity\"]\\n}\\n\\n1. 사용 가능한 도구와 각 도구에 대한 설명을 빠짐없이 파악해.\\n- get_recent_orders_by_status: 사용자의 최근 3개 주문을 특정 상태로 가져오는 도구입니다.\\n\\n2. 사용자 입력에 대한 응답을 생성하는 데 필요한 도구가 있는지 파악해.\\n- 사용자 입력에 따라 최근 주문을 가져오는 도구가 필요합니다.\\n\\n3. 이전 대화 또는 사용자 입력에서 도구 호출에 필요한 인자 모두를 추출할 수 있는지 확인해.\\n- 사용자와 상태에 대한 인자가 필요합니다.'"
      ]
     },
     "execution_count": 18,
     "metadata": {},
     "output_type": "execute_result"
    }
   ],
   "source": [
    "output"
   ]
  },
  {
   "cell_type": "markdown",
   "metadata": {},
   "source": [
    "---"
   ]
  },
  {
   "cell_type": "code",
   "execution_count": 25,
   "metadata": {},
   "outputs": [],
   "source": [
    "from langchain.output_parsers import PydanticOutputParser\n",
    "from langchain_core.prompts import PromptTemplate\n",
    "from langchain_core.pydantic_v1 import BaseModel, Field, validator\n",
    "from langchain_openai import OpenAI\n",
    "\n",
    "model = OpenAI(model_name=\"gpt-3.5-turbo-instruct\", temperature=0.0)\n",
    "\n",
    "\n",
    "# Define your desired data structure.\n",
    "class Joke(BaseModel):\n",
    "    setup: str = Field(description=\"question to set up a joke\")\n",
    "    punchline: str = Field(description=\"answer to resolve the joke\")\n",
    "\n",
    "    # You can add custom validation logic easily with Pydantic.\n",
    "    @validator(\"setup\")\n",
    "    def question_ends_with_question_mark(cls, field):\n",
    "        if field[-1] != \"?\":\n",
    "            raise ValueError(\"Badly formed question!\")\n",
    "        return field\n",
    "\n",
    "\n",
    "# Set up a parser + inject instructions into the prompt template.\n",
    "parser = PydanticOutputParser(pydantic_object=Joke)\n",
    "\n",
    "prompt = PromptTemplate(\n",
    "    template=\"Answer the user query.\\n{format_instructions}\\n{query}\\n\",\n",
    "    input_variables=[\"query\"],\n",
    "    partial_variables={\"format_instructions\": parser.get_format_instructions()},\n",
    ")\n",
    "\n",
    "prompt_and_model = prompt | model"
   ]
  },
  {
   "cell_type": "code",
   "execution_count": 26,
   "metadata": {},
   "outputs": [
    {
     "data": {
      "text/plain": [
       "'The output should be formatted as a JSON instance that conforms to the JSON schema below.\\n\\nAs an example, for the schema {\"properties\": {\"foo\": {\"title\": \"Foo\", \"description\": \"a list of strings\", \"type\": \"array\", \"items\": {\"type\": \"string\"}}}, \"required\": [\"foo\"]}\\nthe object {\"foo\": [\"bar\", \"baz\"]} is a well-formatted instance of the schema. The object {\"properties\": {\"foo\": [\"bar\", \"baz\"]}} is not well-formatted.\\n\\nHere is the output schema:\\n```\\n{\"properties\": {\"setup\": {\"title\": \"Setup\", \"description\": \"question to set up a joke\", \"type\": \"string\"}, \"punchline\": {\"title\": \"Punchline\", \"description\": \"answer to resolve the joke\", \"type\": \"string\"}}, \"required\": [\"setup\", \"punchline\"]}\\n```'"
      ]
     },
     "execution_count": 26,
     "metadata": {},
     "output_type": "execute_result"
    }
   ],
   "source": [
    "parser.get_format_instructions()"
   ]
  },
  {
   "cell_type": "code",
   "execution_count": 21,
   "metadata": {},
   "outputs": [
    {
     "data": {
      "text/plain": [
       "'\\n{\\n    \"setup\": \"Why did the tomato turn red?\",\\n    \"punchline\": \"Because it saw the salad dressing!\"\\n}'"
      ]
     },
     "execution_count": 21,
     "metadata": {},
     "output_type": "execute_result"
    }
   ],
   "source": [
    "output = prompt_and_model.invoke({\"query\": \"Tell me a joke.\"})\n",
    "output"
   ]
  },
  {
   "cell_type": "code",
   "execution_count": 22,
   "metadata": {},
   "outputs": [
    {
     "data": {
      "text/plain": [
       "Joke(setup='Why did the tomato turn red?', punchline='Because it saw the salad dressing!')"
      ]
     },
     "execution_count": 22,
     "metadata": {},
     "output_type": "execute_result"
    }
   ],
   "source": [
    "parser.invoke(output)"
   ]
  },
  {
   "cell_type": "markdown",
   "metadata": {},
   "source": [
    "---"
   ]
  },
  {
   "cell_type": "code",
   "execution_count": 34,
   "metadata": {},
   "outputs": [
    {
     "data": {
      "text/plain": [
       "'The output should be formatted as a JSON instance that conforms to the JSON schema below.\\n\\nAs an example, for the schema {\"properties\": {\"foo\": {\"title\": \"Foo\", \"description\": \"a list of strings\", \"type\": \"array\", \"items\": {\"type\": \"string\"}}}, \"required\": [\"foo\"]}\\nthe object {\"foo\": [\"bar\", \"baz\"]} is a well-formatted instance of the schema. The object {\"properties\": {\"foo\": [\"bar\", \"baz\"]}} is not well-formatted.\\n\\nHere is the output schema:\\n```\\n{\"properties\": {\"necessity\": {\"title\": \"Necessity\", \"description\": \"Determines if the use of the tool is necessary.\", \"type\": \"string\"}}, \"required\": [\"necessity\"]}\\n```'"
      ]
     },
     "execution_count": 34,
     "metadata": {},
     "output_type": "execute_result"
    }
   ],
   "source": [
    "from langchain_core.pydantic_v1 import BaseModel, Field, validator\n",
    "from langchain.output_parsers import PydanticOutputParser\n",
    "\n",
    "class ToolNecessity(BaseModel):\n",
    "    necessity: str = Field(description=\"Determines if the use of the tool is necessary.\")\n",
    "\n",
    "    @validator(\"necessity\")\n",
    "    def validate_necessity(cls, value):\n",
    "        if value not in [\"yes\", \"no\"]:\n",
    "            raise ValueError(\"Necessity must be either 'yes' or 'no'.\")\n",
    "        return value\n",
    "    \n",
    "parser = PydanticOutputParser(pydantic_object=ToolNecessity)\n",
    "parser.get_format_instructions()"
   ]
  },
  {
   "cell_type": "code",
   "execution_count": 27,
   "metadata": {},
   "outputs": [
    {
     "data": {
      "text/plain": [
       "'get_recent_orders_by_status: get_recent_orders_by_status(user, status) - Fetches the three most recent orders for a given user with a specific status.\\n\\nArgs:\\nuser (User): The user whose orders are to be retrieved.\\nstatus (str): The status of the orders to be retrieved.\\n\\nReturns:\\nQuerySet: A list of order objects.'"
      ]
     },
     "execution_count": 27,
     "metadata": {},
     "output_type": "execute_result"
    }
   ],
   "source": [
    "rendered_tools"
   ]
  },
  {
   "cell_type": "code",
   "execution_count": 35,
   "metadata": {},
   "outputs": [
    {
     "data": {
      "text/plain": [
       "PromptTemplate(input_variables=['query', 'rendered_tools'], partial_variables={'format_instructions': 'The output should be formatted as a JSON instance that conforms to the JSON schema below.\\n\\nAs an example, for the schema {\"properties\": {\"foo\": {\"title\": \"Foo\", \"description\": \"a list of strings\", \"type\": \"array\", \"items\": {\"type\": \"string\"}}}, \"required\": [\"foo\"]}\\nthe object {\"foo\": [\"bar\", \"baz\"]} is a well-formatted instance of the schema. The object {\"properties\": {\"foo\": [\"bar\", \"baz\"]}} is not well-formatted.\\n\\nHere is the output schema:\\n```\\n{\"properties\": {\"necessity\": {\"title\": \"Necessity\", \"description\": \"Determines if the use of the tool is necessary.\", \"type\": \"string\"}}, \"required\": [\"necessity\"]}\\n```'}, template=\"\\nYou are an assistant that has access to the following set of tools. Here are the names and descriptions for each tool:\\n\\n{rendered_tools}\\n\\n사용자의 입력을 보고 위의 도구를 사용할 필요가 있을지 판단해줘.\\n아래 단계를 따라 도구 사용 여부를 판단해.\\n1. \\n사용 가능한 도구와 각 도구에 대한 설명을 빠짐없이 파악해.\\n2. \\n사용자 입력에 대한 응답을 생성하는 데 필요한 도구가 있는지 파악해.\\n응답 생성에 도구가 필요하지 않다면 'no'라고 응답해.\\n응답 생성에 도구가 필요하고, 그 도구가 사용 가능한 도구 모음에 있다면 'yes'라고 응답해.\\n3.\\n이전 대화 또는 사용자 입력에서 도구 호출에 필요한 인자 모두를 추출할 수 있는지 확인해.\\n만약 필요 인자 모두를 추출하지 못한다면 'no'라고 응답해.\\n\\n[!주의사항]\\n응답은 반드시 'yes' 또는 'no' 중 하나로 해야해.\\n응답을 출력하기 전에 대답이 'yes' 또는 'no' 중 하나인지 확인하고 만약 이 두 값 중 하나가 아닐 경우 다시 앞의 단계를 따라 판단한 후 두 값 중 하나로 답변해줘.\\n\\n\\n{format_instructions}\\n{query}\\n\\n\")"
      ]
     },
     "execution_count": 35,
     "metadata": {},
     "output_type": "execute_result"
    }
   ],
   "source": [
    "from langchain_core.prompts import PromptTemplate\n",
    "\n",
    "template = \"\"\"\n",
    "You are an assistant that has access to the following set of tools. Here are the names and descriptions for each tool:\n",
    "\n",
    "{rendered_tools}\n",
    "\n",
    "사용자의 입력을 보고 위의 도구를 사용할 필요가 있을지 판단해줘.\n",
    "아래 단계를 따라 도구 사용 여부를 판단해.\n",
    "1. \n",
    "사용 가능한 도구와 각 도구에 대한 설명을 빠짐없이 파악해.\n",
    "2. \n",
    "사용자 입력에 대한 응답을 생성하는 데 필요한 도구가 있는지 파악해.\n",
    "응답 생성에 도구가 필요하지 않다면 'no'라고 응답해.\n",
    "응답 생성에 도구가 필요하고, 그 도구가 사용 가능한 도구 모음에 있다면 'yes'라고 응답해.\n",
    "3.\n",
    "이전 대화 또는 사용자 입력에서 도구 호출에 필요한 인자 모두를 추출할 수 있는지 확인해.\n",
    "만약 필요 인자 모두를 추출하지 못한다면 'no'라고 응답해.\n",
    "\n",
    "[!주의사항]\n",
    "응답은 반드시 'yes' 또는 'no' 중 하나로 해야해.\n",
    "응답을 출력하기 전에 대답이 'yes' 또는 'no' 중 하나인지 확인하고 만약 이 두 값 중 하나가 아닐 경우 다시 앞의 단계를 따라 판단한 후 두 값 중 하나로 답변해줘.\n",
    "\n",
    "\\n{format_instructions}\\n{query}\\n\n",
    "\"\"\"\n",
    "prompt = PromptTemplate(\n",
    "    template=template ,\n",
    "    input_variables=[\"query\", \"rendered_tools\"],\n",
    "    partial_variables={\"format_instructions\": parser.get_format_instructions()},\n",
    ")\n",
    "prompt"
   ]
  },
  {
   "cell_type": "code",
   "execution_count": 36,
   "metadata": {},
   "outputs": [
    {
     "data": {
      "text/plain": [
       "'\\n{\\n    \"properties\": {\\n        \"necessity\": {\\n            \"title\": \"Necessity\",\\n            \"description\": \"Determines if the use of the tool is necessary.\",\\n            \"type\": \"string\"\\n        }\\n    },\\n    \"required\": [\"necessity\"]\\n}\\n\\n1. 사용 가능한 도구와 각 도구에 대한 설명을 빠짐없이 파악해.\\n- get_recent_orders_by_status: 사용자의 최근 3개 주문을 특정 상태로 가져오는 도구입니다.\\n\\n2. 사용자 입력에 대한 응답을 생성하는 데 필요한 도구가 있는지 파악해.\\n- 사용자 입력에 따라 최근 주문을 가져오는 도구가 필요합니다.\\n\\n3. 이전 대화 또는 사용자 입력에서 도구 호출에 필요한 인자 모두를 추출할 수 있는지 확인해.\\n- 사용자와 상태에 대한 인자가 필요합니다.'"
      ]
     },
     "execution_count": 36,
     "metadata": {},
     "output_type": "execute_result"
    }
   ],
   "source": [
    "prompt_and_model = prompt | model\n",
    "output = prompt_and_model.invoke({\"query\": \"내 이름은 '나들'이야\",\n",
    "                                  \"rendered_tools\": rendered_tools})\n",
    "output"
   ]
  },
  {
   "cell_type": "code",
   "execution_count": 37,
   "metadata": {},
   "outputs": [
    {
     "data": {
      "text/plain": [
       "PromptTemplate(input_variables=['query', 'rendered_tools'], partial_variables={'format_instructions': 'The output should be formatted as a JSON instance that conforms to the JSON schema below.\\n\\nAs an example, for the schema {\"properties\": {\"foo\": {\"title\": \"Foo\", \"description\": \"a list of strings\", \"type\": \"array\", \"items\": {\"type\": \"string\"}}}, \"required\": [\"foo\"]}\\nthe object {\"foo\": [\"bar\", \"baz\"]} is a well-formatted instance of the schema. The object {\"properties\": {\"foo\": [\"bar\", \"baz\"]}} is not well-formatted.\\n\\nHere is the output schema:\\n```\\n{\"properties\": {\"necessity\": {\"title\": \"Necessity\", \"description\": \"Determines if the use of the tool is necessary.\", \"type\": \"string\"}}, \"required\": [\"necessity\"]}\\n```'}, template=\"\\nYou are an assistant that has access to the following set of tools. Here are the names and descriptions for each tool:\\n\\n{rendered_tools}\\n\\n사용자의 입력을 보고 위의 도구를 사용할 필요가 있을지 판단해줘.\\n아래 단계를 따라 도구 사용 여부를 판단해.\\n1. \\n사용 가능한 도구와 각 도구에 대한 설명을 빠짐없이 파악해.\\n2. \\n사용자 입력에 대한 응답을 생성하는 데 필요한 도구가 있는지 파악해.\\n응답 생성에 도구가 필요하지 않다면 necessity 필드값은 'no'가 되어야 해.\\n응답 생성에 도구가 필요하고, 그 도구가 사용 가능한 도구 모음에 있다면 necessity 필드값은 'yes'가 되어야 해.\\n3.\\n이전 대화 또는 사용자 입력에서 도구 호출에 필요한 인자 모두를 추출할 수 있는지 확인해.\\n만약 필요 인자 모두를 추출하지 못한다면 necessity 필드값은 'no'가 되어야 해.\\n\\n[!주의사항]\\nnecessity 필드값은 반드시 'yes' 또는 'no' 중 하나로 해야해.\\n응답을 출력하기 전에 necessity 필드값이 'yes' 또는 'no' 중 하나인지 확인하고 만약 이 두 값 중 하나가 아닐 경우 다시 앞의 단계를 따라 판단한 후 두 값 중 하나로 답변해줘.\\n\\n\\n{format_instructions}\\n{query}\\n\\n\")"
      ]
     },
     "execution_count": 37,
     "metadata": {},
     "output_type": "execute_result"
    }
   ],
   "source": [
    "from langchain_core.prompts import PromptTemplate\n",
    "\n",
    "template = \"\"\"\n",
    "You are an assistant that has access to the following set of tools. Here are the names and descriptions for each tool:\n",
    "\n",
    "{rendered_tools}\n",
    "\n",
    "사용자의 입력을 보고 위의 도구를 사용할 필요가 있을지 판단해줘.\n",
    "아래 단계를 따라 도구 사용 여부를 판단해.\n",
    "1. \n",
    "사용 가능한 도구와 각 도구에 대한 설명을 빠짐없이 파악해.\n",
    "2. \n",
    "사용자 입력에 대한 응답을 생성하는 데 필요한 도구가 있는지 파악해.\n",
    "응답 생성에 도구가 필요하지 않다면 necessity 필드값은 'no'가 되어야 해.\n",
    "응답 생성에 도구가 필요하고, 그 도구가 사용 가능한 도구 모음에 있다면 necessity 필드값은 'yes'가 되어야 해.\n",
    "3.\n",
    "이전 대화 또는 사용자 입력에서 도구 호출에 필요한 인자 모두를 추출할 수 있는지 확인해.\n",
    "만약 필요 인자 모두를 추출하지 못한다면 necessity 필드값은 'no'가 되어야 해.\n",
    "\n",
    "[!주의사항]\n",
    "necessity 필드값은 반드시 'yes' 또는 'no' 중 하나로 해야해.\n",
    "응답을 출력하기 전에 necessity 필드값이 'yes' 또는 'no' 중 하나인지 확인하고 만약 이 두 값 중 하나가 아닐 경우 다시 앞의 단계를 따라 판단한 후 두 값 중 하나로 답변해줘.\n",
    "\n",
    "\\n{format_instructions}\\n{query}\\n\n",
    "\"\"\"\n",
    "prompt = PromptTemplate(\n",
    "    template=template ,\n",
    "    input_variables=[\"query\", \"rendered_tools\"],\n",
    "    partial_variables={\"format_instructions\": parser.get_format_instructions()},\n",
    ")\n",
    "prompt"
   ]
  },
  {
   "cell_type": "code",
   "execution_count": 38,
   "metadata": {},
   "outputs": [
    {
     "data": {
      "text/plain": [
       "'\\n{\\n    \"properties\": {\\n        \"necessity\": {\\n            \"title\": \"Necessity\",\\n            \"description\": \"Determines if the use of the tool is necessary.\",\\n            \"type\": \"string\"\\n        }\\n    },\\n    \"required\": [\"necessity\"]\\n}\\n\\n1. 사용 가능한 도구와 각 도구에 대한 설명을 빠짐없이 파악해.\\n- get_recent_orders_by_status: 사용자의 최근 주문을 가져오는 도구로, 사용자와 주문 상태를 인자로 받아 QuerySet 형태로 주문 객체를 반환한다.\\n\\n2. 사용자 입력에 대한 응답을 생성하는 데 필요한 도구가 있는지 파악해.\\n- 사용자 입력에 따라 최근 주문 상태를 확인해야 할 경우, get_recent_orders_by_status 도구가 필요하다. 따라서 necessity 필드값은 \\'yes\\'가 된다.\\n\\n3. 이전 대화 또는 사용자 입력에서 도구 호출에 필요한 인자 모두를 추'"
      ]
     },
     "execution_count": 38,
     "metadata": {},
     "output_type": "execute_result"
    }
   ],
   "source": [
    "prompt_and_model = prompt | model\n",
    "output = prompt_and_model.invoke({\"query\": \"내 이름은 '나들'이야\",\n",
    "                                  \"rendered_tools\": rendered_tools})\n",
    "output"
   ]
  },
  {
   "cell_type": "markdown",
   "metadata": {},
   "source": [
    "---"
   ]
  },
  {
   "cell_type": "code",
   "execution_count": 46,
   "metadata": {},
   "outputs": [],
   "source": [
    "from langchain_core.prompts import ChatPromptTemplate\n",
    "\n",
    "system_prompt = f\"\"\"\n",
    "You are an assistant that has access to the following set of tools. Here are the names and descriptions for each tool:\n",
    "Given the user input, determine whether there is a necessity to use the tool and respond with yes or no. Return your response as a JSON blob with the 'necessity' key.\n",
    "\n",
    "{rendered_tools}\n",
    "\n",
    "사용자의 입력을 보고 위의 도구를 사용할 필요가 있을지 판단해줘.\n",
    "아래 단계를 따라 도구 사용 여부를 판단해.\n",
    "1. \n",
    "사용 가능한 도구와 각 도구에 대한 설명을 빠짐없이 파악해.\n",
    "2. \n",
    "사용자 입력에 대한 응답을 생성하는 데 필요한 도구가 있는지 파악해.\n",
    "응답 생성에 도구가 필요하지 않다면 necessity 필드값은 'no'가 되어야 해.\n",
    "응답 생성에 도구가 필요하고, 그 도구가 사용 가능한 도구 모음에 있다면 necessity 필드값은 'yes'가 되어야 해.\n",
    "3.\n",
    "이전 대화 또는 사용자 입력에서 도구 호출에 필요한 인자 모두를 추출할 수 있는지 확인해.\n",
    "만약 필요 인자 모두를 추출하지 못한다면 necessity 필드값은 'no'가 되어야 해.\n",
    "\n",
    "[!주의사항]\n",
    "- necessity 필드값은 반드시 'yes' 또는 'no' 중 하나로 해야해.\n",
    "  응답을 출력하기 전에 necessity 필드값이 'yes' 또는 'no' 중 하나인지 확인하고 만약 이 두 값 중 하나가 아닐 경우 다시 앞의 단계를 따라 판단한 후 두 값 중 하나로 답변해줘.\n",
    "- 도구 호출에 필요한 인자 모두를 빠짐없이 추출할 수 있는지 확실히 파악해야 해.\n",
    "\"\"\"\n",
    "\n",
    "prompt = ChatPromptTemplate.from_messages(\n",
    "    [(\"system\", system_prompt), (\"user\", \"{input}\")]\n",
    ")"
   ]
  },
  {
   "cell_type": "code",
   "execution_count": 47,
   "metadata": {},
   "outputs": [
    {
     "data": {
      "text/plain": [
       "ChatOpenAI(client=<openai.resources.chat.completions.Completions object at 0x00000281871B0FA0>, async_client=<openai.resources.chat.completions.AsyncCompletions object at 0x0000028187187B80>, openai_api_key=SecretStr('**********'), openai_proxy='')"
      ]
     },
     "execution_count": 47,
     "metadata": {},
     "output_type": "execute_result"
    }
   ],
   "source": [
    "from langchain_openai import ChatOpenAI\n",
    "\n",
    "model = ChatOpenAI(model=\"gpt-3.5-turbo\")\n",
    "model"
   ]
  },
  {
   "cell_type": "code",
   "execution_count": 48,
   "metadata": {},
   "outputs": [
    {
     "data": {
      "text/plain": [
       "ChatPromptTemplate(input_variables=['input'], messages=[SystemMessagePromptTemplate(prompt=PromptTemplate(input_variables=[], template=\"\\nYou are an assistant that has access to the following set of tools. Here are the names and descriptions for each tool:\\nGiven the user input, determine whether there is a necessity to use the tool and respond with yes or no. Return your response as a JSON blob with the 'necessity' key.\\n\\nget_recent_orders_by_status: get_recent_orders_by_status(user, status) - Fetches the three most recent orders for a given user with a specific status.\\n\\nArgs:\\nuser (User): The user whose orders are to be retrieved.\\nstatus (str): The status of the orders to be retrieved.\\n\\nReturns:\\nQuerySet: A list of order objects.\\n\\n사용자의 입력을 보고 위의 도구를 사용할 필요가 있을지 판단해줘.\\n아래 단계를 따라 도구 사용 여부를 판단해.\\n1. \\n사용 가능한 도구와 각 도구에 대한 설명을 빠짐없이 파악해.\\n2. \\n사용자 입력에 대한 응답을 생성하는 데 필요한 도구가 있는지 파악해.\\n응답 생성에 도구가 필요하지 않다면 necessity 필드값은 'no'가 되어야 해.\\n응답 생성에 도구가 필요하고, 그 도구가 사용 가능한 도구 모음에 있다면 necessity 필드값은 'yes'가 되어야 해.\\n3.\\n이전 대화 또는 사용자 입력에서 도구 호출에 필요한 인자 모두를 추출할 수 있는지 확인해.\\n만약 필요 인자 모두를 추출하지 못한다면 necessity 필드값은 'no'가 되어야 해.\\n\\n[!주의사항]\\n- necessity 필드값은 반드시 'yes' 또는 'no' 중 하나로 해야해.\\n  응답을 출력하기 전에 necessity 필드값이 'yes' 또는 'no' 중 하나인지 확인하고 만약 이 두 값 중 하나가 아닐 경우 다시 앞의 단계를 따라 판단한 후 두 값 중 하나로 답변해줘.\\n- 도구 호출에 필요한 인자 모두를 빠짐없이 추출할 수 있는지 확실히 파악해야 해.\\n\")), HumanMessagePromptTemplate(prompt=PromptTemplate(input_variables=['input'], template='{input}'))])\n",
       "| ChatOpenAI(client=<openai.resources.chat.completions.Completions object at 0x00000281871B0FA0>, async_client=<openai.resources.chat.completions.AsyncCompletions object at 0x0000028187187B80>, openai_api_key=SecretStr('**********'), openai_proxy='')"
      ]
     },
     "execution_count": 48,
     "metadata": {},
     "output_type": "execute_result"
    }
   ],
   "source": [
    "base_chain = prompt | model \n",
    "base_chain"
   ]
  },
  {
   "cell_type": "code",
   "execution_count": 49,
   "metadata": {},
   "outputs": [
    {
     "name": "stdout",
     "output_type": "stream",
     "text": [
      "{\n",
      "  \"necessity\": \"no\"\n",
      "}\n"
     ]
    }
   ],
   "source": [
    "response = base_chain.invoke(\n",
    "    {\"input\": \"내 이름은 젖수야\"}\n",
    ")\n",
    "print(response.content)"
   ]
  },
  {
   "cell_type": "code",
   "execution_count": 50,
   "metadata": {},
   "outputs": [
    {
     "name": "stdout",
     "output_type": "stream",
     "text": [
      "{\n",
      "  \"necessity\": \"no\"\n",
      "}\n"
     ]
    }
   ],
   "source": [
    "response = base_chain.invoke(\n",
    "    {\"input\": \"주문 조회를 하고 싶어\"}\n",
    ")\n",
    "print(response.content)"
   ]
  },
  {
   "cell_type": "code",
   "execution_count": 51,
   "metadata": {},
   "outputs": [
    {
     "name": "stdout",
     "output_type": "stream",
     "text": [
      "{\n",
      "  \"necessity\": \"yes\"\n",
      "}\n"
     ]
    }
   ],
   "source": [
    "response = base_chain.invoke(\n",
    "    {\"input\": \"주문 상태가 주문 완료인 모든 주문 내역을 보고 싶어\"}\n",
    ")\n",
    "print(response.content)"
   ]
  },
  {
   "cell_type": "code",
   "execution_count": 52,
   "metadata": {},
   "outputs": [
    {
     "name": "stdout",
     "output_type": "stream",
     "text": [
      "{\n",
      "  \"necessity\": \"yes\"\n",
      "}\n"
     ]
    }
   ],
   "source": [
    "response = base_chain.invoke(\n",
    "    {\"input\": \"주문 상태가 배송 완료인 모든 주문 내역을 보고 싶어\"}\n",
    ")\n",
    "print(response.content)"
   ]
  },
  {
   "cell_type": "code",
   "execution_count": 53,
   "metadata": {},
   "outputs": [],
   "source": [
    "model = ChatOpenAI(model=\"gpt-4\")\n",
    "base_chain = prompt | model "
   ]
  },
  {
   "cell_type": "code",
   "execution_count": 54,
   "metadata": {},
   "outputs": [
    {
     "name": "stdout",
     "output_type": "stream",
     "text": [
      "{\"necessity\": \"yes\"}\n"
     ]
    }
   ],
   "source": [
    "response = base_chain.invoke(\n",
    "    {\"input\": \"주문 상태가 배송 완료인 모든 주문 내역을 보고 싶어\"}\n",
    ")\n",
    "print(response.content)"
   ]
  },
  {
   "cell_type": "code",
   "execution_count": null,
   "metadata": {},
   "outputs": [],
   "source": []
  }
 ],
 "metadata": {
  "kernelspec": {
   "display_name": "venv",
   "language": "python",
   "name": "python3"
  },
  "language_info": {
   "codemirror_mode": {
    "name": "ipython",
    "version": 3
   },
   "file_extension": ".py",
   "mimetype": "text/x-python",
   "name": "python",
   "nbconvert_exporter": "python",
   "pygments_lexer": "ipython3",
   "version": "3.10.5"
  }
 },
 "nbformat": 4,
 "nbformat_minor": 2
}
