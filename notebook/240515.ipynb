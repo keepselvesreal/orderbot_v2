{
 "cells": [
  {
   "cell_type": "code",
   "execution_count": 3,
   "metadata": {},
   "outputs": [],
   "source": [
    "from langchain_core.prompts import ChatPromptTemplate\n",
    "from langchain_openai import ChatOpenAI\n",
    "\n",
    "order_cancel_prompt = ChatPromptTemplate.from_messages(\n",
    "    [\n",
    "        (\n",
    "            \"system\",\n",
    "            \"\"\"\n",
    "            You are a robot that determines whether the customer input message contains an order_id.\n",
    "            If the input contains an order_id, respond with '조회 가능'.\n",
    "            If the input does not contain an order_id, respond with '조회 불가능'.\n",
    "            \"\"\"\n",
    "        ),\n",
    "        (\"human\", \"{input}\")\n",
    "    ]\n",
    ")\n",
    "\n",
    "model = ChatOpenAI()\n",
    "\n",
    "order_cancel_chain = order_cancel_prompt | model "
   ]
  },
  {
   "cell_type": "code",
   "execution_count": 4,
   "metadata": {},
   "outputs": [
    {
     "data": {
      "text/plain": [
       "AIMessage(content='조회 불가능', response_metadata={'token_usage': {'completion_tokens': 6, 'prompt_tokens': 83, 'total_tokens': 89}, 'model_name': 'gpt-3.5-turbo', 'system_fingerprint': None, 'finish_reason': 'stop', 'logprobs': None}, id='run-f33d576b-f0a2-410e-a441-f558a74a5552-0')"
      ]
     },
     "execution_count": 4,
     "metadata": {},
     "output_type": "execute_result"
    }
   ],
   "source": [
    "order_cancel_chain.invoke({\"input\": \"좀 전에 한 주문 취소하고 싶어\"})"
   ]
  },
  {
   "cell_type": "code",
   "execution_count": null,
   "metadata": {},
   "outputs": [],
   "source": []
  },
  {
   "cell_type": "code",
   "execution_count": null,
   "metadata": {},
   "outputs": [],
   "source": [
    "RunnablePassthrough.assign(recent_orders=order_cancel_chain)"
   ]
  },
  {
   "cell_type": "code",
   "execution_count": null,
   "metadata": {},
   "outputs": [],
   "source": [
    "def fetch_recent_orders(dict):\n",
    "    user_id = dict[\"user_id\"]\n",
    "    try:\n",
    "        orders = Order.objects.filter(user_id=user_id).order_by('-created_at')[:5]\n",
    "        recent_orders = []\n",
    "        for order in orders:\n",
    "            order_items = OrderItem.objects.filter(order=order)\n",
    "            items_details = [\n",
    "                {\n",
    "                    \"product_name\": item.product.product_name,\n",
    "                    \"quantity\": item.quantity,\n",
    "                    \"price\": float(item.price)  # Decimal을 float으로 변환\n",
    "                } for item in order_items\n",
    "            ]\n",
    "            recent_orders.append({\n",
    "                \"id\": order.id,\n",
    "                \"created_at\": order.created_at.isoformat(),\n",
    "                \"order_status\": order.order_status,\n",
    "                \"items\": items_details\n",
    "            })\n",
    "        print(\"recent orders -> \", recent_orders)\n",
    "        return recent_orders\n",
    "    except ObjectDoesNotExist:\n",
    "        return []"
   ]
  },
  {
   "cell_type": "code",
   "execution_count": null,
   "metadata": {},
   "outputs": [],
   "source": [
    "def cancel_route_by_order_id(info):\n",
    "    from .chains import order_chain\n",
    "    print(\"cancel_route_by_order_id 함수로 전달된 데이터 -> \", info)\n",
    "    if \"조회 가능\" in info[\"recent_orders\"].content.lower():\n",
    "        return RunnableLambda(cancel_order)\n",
    "    else:\n",
    "        return RunnableLambda(fetch_recent_orders)"
   ]
  },
  {
   "cell_type": "markdown",
   "metadata": {},
   "source": [
    "주문 취소부터 작성 중이었는데 순간 헷갈"
   ]
  },
  {
   "cell_type": "code",
   "execution_count": null,
   "metadata": {},
   "outputs": [],
   "source": [
    "from pydantic import BaseModel, Field, conint, condecimal\n",
    "from typing import List, Optional\n",
    "from langchain_core.output_parsers import PydanticOutputParser\n",
    "\n",
    "class UpdateOrderData(BaseModel):\n",
    "    order_id: int = Field(..., description=\"ID of the order to update\")\n",
    "    user_id: Optional[int] = Field(None, description=\"ID of the user updating the order\")\n",
    "    items: Optional[List[OrderItemData]] = Field(None, description=\"Updated list of items in the order\")\n",
    "    new_status: Optional[str] = Field(\"order_canceled\", description=\"New status of the order\")\n",
    "\n",
    "update_order_parser = PydanticOutputParser(pydantic_object=UpdateOrderData)\n"
   ]
  },
  {
   "cell_type": "code",
   "execution_count": null,
   "metadata": {},
   "outputs": [],
   "source": [
    "extract_cancel_args_prompt = PromptTemplate(\n",
    "    template=\"\"\"\n",
    "    You are a robot designed to extract necessary parameters for processing each order request.\n",
    "    Only include the extracted parameters in your response.\n",
    "\n",
    "    Product Information:\n",
    "    {products}\n",
    "\n",
    "    User ID: {user_id}\n",
    "\n",
    "    User Input: {input}\n",
    "\n",
    "    Provide only the extracted parameters in the following format:\n",
    "    {format_instructions}\n",
    "    \"\"\",\n",
    "    input_variables=[\"user_id\", \"input\", \"products\"],\n",
    "    partial_variables={\"format_instructions\": [_order_parser.get_format_instructions()]},\n",
    ")"
   ]
  },
  {
   "cell_type": "code",
   "execution_count": null,
   "metadata": {},
   "outputs": [],
   "source": [
    "extract_cancel_args_chain = extract_cancel_args_prompt | model | update_order_parser "
   ]
  },
  {
   "cell_type": "code",
   "execution_count": null,
   "metadata": {},
   "outputs": [],
   "source": [
    "extract_cancel_args_chain"
   ]
  }
 ],
 "metadata": {
  "kernelspec": {
   "display_name": "venv",
   "language": "python",
   "name": "python3"
  },
  "language_info": {
   "codemirror_mode": {
    "name": "ipython",
    "version": 3
   },
   "file_extension": ".py",
   "mimetype": "text/x-python",
   "name": "python",
   "nbconvert_exporter": "python",
   "pygments_lexer": "ipython3",
   "version": "3.10.5"
  }
 },
 "nbformat": 4,
 "nbformat_minor": 2
}
