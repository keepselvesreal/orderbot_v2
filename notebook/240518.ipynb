{
 "cells": [
  {
   "cell_type": "code",
   "execution_count": 1,
   "metadata": {},
   "outputs": [],
   "source": [
    "products = [\n",
    "    {\n",
    "        \"product_name\": \"떡케익5호\",\n",
    "        \"quantity\": 1,\n",
    "        \"price\": 54000\n",
    "    },\n",
    "    {\n",
    "        \"product_name\": \"무지개 백설기 케익\",\n",
    "        \"quantity\": 1,\n",
    "        \"price\": 51500\n",
    "    },\n",
    "    {\n",
    "        \"product_name\": \"미니 백설기\",\n",
    "        \"quantity\": 35,\n",
    "        \"price\": 31500\n",
    "    },\n",
    "    {\n",
    "        \"product_name\": \"개별 모듬팩\",\n",
    "        \"quantity\": 1,\n",
    "        \"price\": 13500\n",
    "    }\n",
    "]"
   ]
  },
  {
   "cell_type": "code",
   "execution_count": 12,
   "metadata": {},
   "outputs": [],
   "source": [
    "def fetch_products(dict):\n",
    "    return products"
   ]
  },
  {
   "cell_type": "code",
   "execution_count": 13,
   "metadata": {},
   "outputs": [],
   "source": [
    "from pydantic import BaseModel, Field, conint, condecimal\n",
    "from typing import List\n",
    "from langchain_core.output_parsers import PydanticOutputParser\n",
    "\n",
    "class OrderItem(BaseModel):\n",
    "    product_name: str = Field(..., description=\"Name of the product\")\n",
    "    quantity: conint(gt=0) = Field(..., description=\"Quantity of the product\")\n",
    "    price: condecimal(max_digits=10, decimal_places=2) = Field(..., description=\"Price of the product\")\n",
    "\n",
    "class CreateOrderData(BaseModel):\n",
    "    user_id: int = Field(..., description=\"ID of the user creating the order\")\n",
    "    items: List[OrderItem] = Field(..., description=\"List of items to order\")\n",
    "\n",
    "create_order_parser = PydanticOutputParser(pydantic_object=CreateOrderData)"
   ]
  },
  {
   "cell_type": "code",
   "execution_count": 14,
   "metadata": {},
   "outputs": [],
   "source": [
    "from langchain_core.prompts import PromptTemplate\n",
    "\n",
    "extract_order_args_prompt = PromptTemplate(\n",
    "    template=\"\"\"\n",
    "    You are a robot designed to extract necessary parameters for processing each order request.\n",
    "    Only include the extracted parameters in your response.\n",
    "\n",
    "    Product Information:\n",
    "    {products}\n",
    "\n",
    "    User ID: {user_id}\n",
    "\n",
    "    User Input: {input}\n",
    "\n",
    "    Provide only the extracted parameters in the following format:\n",
    "    {format_instructions}\n",
    "    \"\"\",\n",
    "    input_variables=[\"user_id\", \"input\", \"products\"],\n",
    "    partial_variables={\"format_instructions\": [create_order_parser.get_format_instructions()]},\n",
    ")"
   ]
  },
  {
   "cell_type": "code",
   "execution_count": 15,
   "metadata": {},
   "outputs": [],
   "source": [
    "from langchain_openai import ChatOpenAI\n",
    "\n",
    "model = ChatOpenAI()"
   ]
  },
  {
   "cell_type": "code",
   "execution_count": 25,
   "metadata": {},
   "outputs": [
    {
     "data": {
      "text/plain": [
       "PromptTemplate(input_variables=['input', 'products', 'user_id'], partial_variables={'format_instructions': ['The output should be formatted as a JSON instance that conforms to the JSON schema below.\\n\\nAs an example, for the schema {\"properties\": {\"foo\": {\"title\": \"Foo\", \"description\": \"a list of strings\", \"type\": \"array\", \"items\": {\"type\": \"string\"}}}, \"required\": [\"foo\"]}\\nthe object {\"foo\": [\"bar\", \"baz\"]} is a well-formatted instance of the schema. The object {\"properties\": {\"foo\": [\"bar\", \"baz\"]}} is not well-formatted.\\n\\nHere is the output schema:\\n```\\n{\"$defs\": {\"OrderItem\": {\"properties\": {\"product_name\": {\"description\": \"Name of the product\", \"title\": \"Product Name\", \"type\": \"string\"}, \"quantity\": {\"description\": \"Quantity of the product\", \"exclusiveMinimum\": 0, \"title\": \"Quantity\", \"type\": \"integer\"}, \"price\": {\"anyOf\": [{\"type\": \"number\"}, {\"type\": \"string\"}], \"description\": \"Price of the product\", \"title\": \"Price\"}}, \"required\": [\"product_name\", \"quantity\", \"price\"], \"title\": \"OrderItem\", \"type\": \"object\"}}, \"properties\": {\"user_id\": {\"description\": \"ID of the user creating the order\", \"title\": \"User Id\", \"type\": \"integer\"}, \"items\": {\"description\": \"List of items to order\", \"items\": {\"$ref\": \"#/$defs/OrderItem\"}, \"title\": \"Items\", \"type\": \"array\"}}, \"required\": [\"user_id\", \"items\"]}\\n```']}, template='\\n    You are a robot designed to extract necessary parameters for processing each order request.\\n    Only include the extracted parameters in your response.\\n\\n    Product Information:\\n    {products}\\n\\n    User ID: {user_id}\\n\\n    User Input: {input}\\n\\n    Provide only the extracted parameters in the following format:\\n    {format_instructions}\\n    ')\n",
       "| ChatOpenAI(client=<openai.resources.chat.completions.Completions object at 0x0000014BDBBE40A0>, async_client=<openai.resources.chat.completions.AsyncCompletions object at 0x0000014BDBBE5180>, openai_api_key=SecretStr('**********'), openai_proxy='')\n",
       "| PydanticOutputParser(pydantic_object=<class '__main__.CreateOrderData'>)"
      ]
     },
     "execution_count": 25,
     "metadata": {},
     "output_type": "execute_result"
    }
   ],
   "source": [
    "extract_order_args_chain = extract_order_args_prompt | model | create_order_parser\n",
    "extract_order_args_chain"
   ]
  },
  {
   "cell_type": "code",
   "execution_count": 26,
   "metadata": {},
   "outputs": [
    {
     "data": {
      "text/plain": [
       "RunnableAssign(mapper={\n",
       "  products: RunnableLambda(fetch_products)\n",
       "})\n",
       "| PromptTemplate(input_variables=['input', 'products', 'user_id'], partial_variables={'format_instructions': ['The output should be formatted as a JSON instance that conforms to the JSON schema below.\\n\\nAs an example, for the schema {\"properties\": {\"foo\": {\"title\": \"Foo\", \"description\": \"a list of strings\", \"type\": \"array\", \"items\": {\"type\": \"string\"}}}, \"required\": [\"foo\"]}\\nthe object {\"foo\": [\"bar\", \"baz\"]} is a well-formatted instance of the schema. The object {\"properties\": {\"foo\": [\"bar\", \"baz\"]}} is not well-formatted.\\n\\nHere is the output schema:\\n```\\n{\"$defs\": {\"OrderItem\": {\"properties\": {\"product_name\": {\"description\": \"Name of the product\", \"title\": \"Product Name\", \"type\": \"string\"}, \"quantity\": {\"description\": \"Quantity of the product\", \"exclusiveMinimum\": 0, \"title\": \"Quantity\", \"type\": \"integer\"}, \"price\": {\"anyOf\": [{\"type\": \"number\"}, {\"type\": \"string\"}], \"description\": \"Price of the product\", \"title\": \"Price\"}}, \"required\": [\"product_name\", \"quantity\", \"price\"], \"title\": \"OrderItem\", \"type\": \"object\"}}, \"properties\": {\"user_id\": {\"description\": \"ID of the user creating the order\", \"title\": \"User Id\", \"type\": \"integer\"}, \"items\": {\"description\": \"List of items to order\", \"items\": {\"$ref\": \"#/$defs/OrderItem\"}, \"title\": \"Items\", \"type\": \"array\"}}, \"required\": [\"user_id\", \"items\"]}\\n```']}, template='\\n    You are a robot designed to extract necessary parameters for processing each order request.\\n    Only include the extracted parameters in your response.\\n\\n    Product Information:\\n    {products}\\n\\n    User ID: {user_id}\\n\\n    User Input: {input}\\n\\n    Provide only the extracted parameters in the following format:\\n    {format_instructions}\\n    ')\n",
       "| ChatOpenAI(client=<openai.resources.chat.completions.Completions object at 0x0000014BDBBE40A0>, async_client=<openai.resources.chat.completions.AsyncCompletions object at 0x0000014BDBBE5180>, openai_api_key=SecretStr('**********'), openai_proxy='')\n",
       "| PydanticOutputParser(pydantic_object=<class '__main__.CreateOrderData'>)"
      ]
     },
     "execution_count": 26,
     "metadata": {},
     "output_type": "execute_result"
    }
   ],
   "source": [
    "from langchain_core.runnables import RunnablePassthrough\n",
    "\n",
    "\n",
    "extrac_order_chain = RunnablePassthrough.assign(products=fetch_products) | extract_order_args_chain\n",
    "extrac_order_chain"
   ]
  },
  {
   "cell_type": "code",
   "execution_count": 23,
   "metadata": {},
   "outputs": [
    {
     "data": {
      "text/plain": [
       "{'input': '미니 백설기 3개 주문할게요',\n",
       " 'user_id': 3,\n",
       " 'products': [{'product_name': '떡케익5호', 'quantity': 1, 'price': 54000},\n",
       "  {'product_name': '무지개 백설기 케익', 'quantity': 1, 'price': 51500},\n",
       "  {'product_name': '미니 백설기', 'quantity': 35, 'price': 31500},\n",
       "  {'product_name': '개별 모듬팩', 'quantity': 1, 'price': 13500}]}"
      ]
     },
     "execution_count": 23,
     "metadata": {},
     "output_type": "execute_result"
    }
   ],
   "source": [
    "RunnablePassthrough.assign(products=fetch_products).invoke({\n",
    "    \"input\": \"미니 백설기 3개 주문할게요\",\n",
    "    \"user_id\": 3\n",
    "})"
   ]
  },
  {
   "cell_type": "code",
   "execution_count": 27,
   "metadata": {},
   "outputs": [
    {
     "data": {
      "text/plain": [
       "CreateOrderData(user_id=3, items=[OrderItem(product_name='미니 백설기', quantity=3, price=Decimal('31500'))])"
      ]
     },
     "execution_count": 27,
     "metadata": {},
     "output_type": "execute_result"
    }
   ],
   "source": [
    "response = extrac_order_chain.invoke({\n",
    "    \"input\": \"미니 백설기 3개 주문할게요\",\n",
    "    \"user_id\": 3\n",
    "})\n",
    "response"
   ]
  },
  {
   "cell_type": "code",
   "execution_count": 34,
   "metadata": {},
   "outputs": [],
   "source": [
    "from langchain_core.prompts import ChatPromptTemplate, MessagesPlaceholder\n",
    "\n",
    "message_type_prompt = ChatPromptTemplate.from_messages(\n",
    "    [\n",
    "        (\n",
    "            \"system\",\n",
    "            \"\"\"\n",
    "            너는 고객 입력 메시지를 아래 두 유형 중 하나로 분류하는 로봇이야.\n",
    "            -상품 문의, 주문 내역 조회, 주문 변경 내역 조회, 주문 취소 내역 조회: '문의'\n",
    "            -주문 요청, 주문 변경 요청, 주문 취소 요청: '요청'\n",
    "            \"\"\"\n",
    "        ),\n",
    "        MessagesPlaceholder(variable_name=\"chat_history\"),\n",
    "        (\"human\", \"{input}\"),\n",
    "\n",
    "    ]\n",
    ")"
   ]
  },
  {
   "cell_type": "code",
   "execution_count": 35,
   "metadata": {},
   "outputs": [],
   "source": [
    "classify_message_chain = message_type_prompt | model"
   ]
  },
  {
   "cell_type": "code",
   "execution_count": 36,
   "metadata": {},
   "outputs": [],
   "source": [
    "from langchain_core.chat_history import BaseChatMessageHistory\n",
    "from langchain_community.chat_message_histories import ChatMessageHistory\n",
    "from langchain_core.runnables.history import RunnableWithMessageHistory\n",
    "from langchain_core.runnables import RunnableLambda\n",
    "\n",
    "store = {}\n",
    "def get_session_history(session_id: str) -> BaseChatMessageHistory:\n",
    "    if session_id not in store:\n",
    "        store[session_id] = ChatMessageHistory()\n",
    "    return store[session_id]\n",
    "\n",
    "def add_memory(runnable, session_id):\n",
    "    runnable_with_memory = RunnableWithMessageHistory(\n",
    "        runnable,\n",
    "        get_session_history,\n",
    "        input_messages_key=\"input\",\n",
    "        history_messages_key=\"chat_history\",\n",
    "        )\n",
    "    memory_by_session = RunnableLambda(\n",
    "        lambda input: runnable_with_memory.invoke(input,\n",
    "                                                  config={\"configurable\": {\"session_id\": session_id}}\n",
    "                                                  )\n",
    "                                                  )\n",
    "    return memory_by_session"
   ]
  },
  {
   "cell_type": "code",
   "execution_count": 37,
   "metadata": {},
   "outputs": [
    {
     "data": {
      "text/plain": [
       "RunnableLambda(lambda input: runnable_with_memory.invoke(input, config={'configurable': {'session_id': session_id}}))"
      ]
     },
     "execution_count": 37,
     "metadata": {},
     "output_type": "execute_result"
    }
   ],
   "source": [
    "SESSION_ID = \"240518\"\n",
    "\n",
    "classify_message_with_memory = add_memory(classify_message_chain, SESSION_ID)\n",
    "classify_message_with_memory"
   ]
  },
  {
   "cell_type": "code",
   "execution_count": 38,
   "metadata": {},
   "outputs": [
    {
     "data": {
      "text/plain": [
       "RunnableAssign(mapper={\n",
       "  msg_type: RunnableLambda(lambda input: runnable_with_memory.invoke(input, config={'configurable': {'session_id': session_id}}))\n",
       "})"
      ]
     },
     "execution_count": 38,
     "metadata": {},
     "output_type": "execute_result"
    }
   ],
   "source": [
    "classify_message_with_memory_chain = RunnablePassthrough.assign(msg_type=classify_message_with_memory)\n",
    "classify_message_with_memory_chain"
   ]
  },
  {
   "cell_type": "code",
   "execution_count": 39,
   "metadata": {},
   "outputs": [
    {
     "name": "stderr",
     "output_type": "stream",
     "text": [
      "Parent run 3f144a0b-5633-4de0-8705-a4b105f2cbac not found for run 2d9668b9-03d2-428e-8cee-2317f61d0023. Treating as a root run.\n"
     ]
    },
    {
     "data": {
      "text/plain": [
       "{'user_id': 3,\n",
       " 'input': '주문할게요',\n",
       " 'order_id': None,\n",
       " 'msg_type': AIMessage(content=\"입력해주신 메시지는 '요청' 유형에 해당합니다. 주문 요청을 하시려는 것으로 이해했습니다. 부가적인 정보가 필요하다면 언제든지 물어봐주세요.\", response_metadata={'token_usage': {'completion_tokens': 66, 'prompt_tokens': 121, 'total_tokens': 187}, 'model_name': 'gpt-3.5-turbo', 'system_fingerprint': None, 'finish_reason': 'stop', 'logprobs': None}, id='run-80cac884-8b8b-41a2-942d-940bca470ab1-0')}"
      ]
     },
     "execution_count": 39,
     "metadata": {},
     "output_type": "execute_result"
    }
   ],
   "source": [
    "response = classify_message_with_memory_chain.invoke(\n",
    "                {\"user_id\":3, \n",
    "                 \"input\": \"주문할게요\", \n",
    "                 \"order_id\": None},\n",
    "            )\n",
    "response"
   ]
  }
 ],
 "metadata": {
  "kernelspec": {
   "display_name": "venv",
   "language": "python",
   "name": "python3"
  },
  "language_info": {
   "codemirror_mode": {
    "name": "ipython",
    "version": 3
   },
   "file_extension": ".py",
   "mimetype": "text/x-python",
   "name": "python",
   "nbconvert_exporter": "python",
   "pygments_lexer": "ipython3",
   "version": "3.10.5"
  }
 },
 "nbformat": 4,
 "nbformat_minor": 2
}
