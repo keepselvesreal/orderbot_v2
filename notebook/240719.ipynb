{
 "cells": [
  {
   "cell_type": "code",
   "execution_count": null,
   "metadata": {},
   "outputs": [],
   "source": [
    "self.send(text_data=json.dumps(\n",
    "                    {\"user\": self.user.username,\n",
    "                    \"message\": response,\n",
    "                    \"datetime\": now.isoformat(),\n",
    "                    },\n",
    "                    ensure_ascii=False\n",
    "                    ))"
   ]
  },
  {
   "cell_type": "code",
   "execution_count": 2,
   "metadata": {},
   "outputs": [
    {
     "data": {
      "text/plain": [
       "'{\"user\": \"kts\", \"message\": \"hi\"}'"
      ]
     },
     "execution_count": 2,
     "metadata": {},
     "output_type": "execute_result"
    }
   ],
   "source": [
    "import json \n",
    "\n",
    "def dict_to_json(**kwargs):\n",
    "    dict = kwargs\n",
    "    json_format = json.dumps(dict, ensure_ascii=False)\n",
    "    return json_format\n",
    "\n",
    "\n",
    "dict_to_json(user=\"kts\", message=\"hi\")"
   ]
  },
  {
   "cell_type": "markdown",
   "metadata": {},
   "source": [
    "가상 사용 예시"
   ]
  },
  {
   "cell_type": "code",
   "execution_count": null,
   "metadata": {},
   "outputs": [],
   "source": [
    "json_data = dict_to_json(user=\"kts\", message=\"123\")"
   ]
  },
  {
   "cell_type": "code",
   "execution_count": null,
   "metadata": {},
   "outputs": [],
   "source": [
    "output = orderbot_graph.invoke({\"messages\": (\"user\", message),\n",
    "                                            \"user_info\": user_id,\n",
    "                                            },\n",
    "                                            config)"
   ]
  },
  {
   "cell_type": "code",
   "execution_count": 3,
   "metadata": {},
   "outputs": [
    {
     "name": "stdout",
     "output_type": "stream",
     "text": [
      "{'message': 'hi', 'config': '123'} 123\n"
     ]
    }
   ],
   "source": [
    "def generate_response(**kwargs):\n",
    "    input_args = kwargs\n",
    "    config = input_args.get(\"config\")\n",
    "    print(input_args, config)\n",
    "\n",
    "generate_response(message=\"hi\", config=\"123\")"
   ]
  },
  {
   "cell_type": "code",
   "execution_count": null,
   "metadata": {},
   "outputs": [],
   "source": [
    "def switch_case(x):\n",
    "    match x:\n",
    "        case 1:\n",
    "            return \"one\"\n",
    "        case 2:\n",
    "            return \"two\"\n",
    "        default:\n",
    "            return \"unknown\""
   ]
  },
  {
   "cell_type": "code",
   "execution_count": null,
   "metadata": {},
   "outputs": [],
   "source": [
    "if message == \"show_products\":\n",
    "            self.send_product_list()\n",
    "            return # 통신 종료\n",
    "        elif message == \"get_all_orders\":\n",
    "            self.get_all_orders(start_date, end_date)\n",
    "\n",
    "\n",
    "def process(message):\n",
    "        match message:\n",
    "                case \"show_products\":\n",
    "                        return \"show_products\"\n",
    "                default:\n",
    "                \n"
   ]
  },
  {
   "cell_type": "markdown",
   "metadata": {},
   "source": [
    "---"
   ]
  },
  {
   "cell_type": "code",
   "execution_count": null,
   "metadata": {},
   "outputs": [],
   "source": [
    "def process_message(self, message, **kwargs):\n",
    "        if message == \"show_products\":\n",
    "            self.send_product_list()\n",
    "        elif message == \"get_all_orders\":\n",
    "            self.get_all_orders(kwargs['start_date'], kwargs['end_date'])\n",
    "        elif message == \"get_order_by_status\":\n",
    "            self.get_order_by_status(kwargs['order_status'], kwargs['start_date'], kwargs['end_date'])\n",
    "        elif message == \"create_order\":\n",
    "            self.create_order(kwargs['user_id'], kwargs['ordered_products'])\n",
    "        elif message == \"order_to_change\":\n",
    "            order_change_type = \"order_changed\"\n",
    "            self.get_changeable_orders(order_change_type, kwargs['start_date'], kwargs['end_date'])\n",
    "        elif message == \"order_changed\":\n",
    "            self.send_product_list(kwargs['order_id'])\n",
    "        elif message == \"change_order\":\n",
    "            self.change_order(kwargs['order_id'], kwargs['ordered_products'])\n",
    "        elif message == \"order_to_cancel\":\n",
    "            order_change_type = \"order_canceled\"\n",
    "            self.get_changeable_orders(order_change_type, kwargs['start_date'], kwargs['end_date'])\n",
    "        elif message == \"order_canceled\":\n",
    "            self.cancel_order(kwargs['order_id'])\n",
    "        else:\n",
    "            raise ValueError(f\"Unhandled message type: {message}\")"
   ]
  }
 ],
 "metadata": {
  "kernelspec": {
   "display_name": "venv",
   "language": "python",
   "name": "python3"
  },
  "language_info": {
   "codemirror_mode": {
    "name": "ipython",
    "version": 3
   },
   "file_extension": ".py",
   "mimetype": "text/x-python",
   "name": "python",
   "nbconvert_exporter": "python",
   "pygments_lexer": "ipython3",
   "version": "3.10.5"
  }
 },
 "nbformat": 4,
 "nbformat_minor": 2
}
